{
 "cells": [
  {
   "cell_type": "markdown",
   "metadata": {},
   "source": [
    "# Micro-contributions and active editors\n",
    "\n",
    "We're interested in understanding to what extent users who make micro-contributions are also active editors, and to what extent these users are classified as \"new active editors\" (meaning their account on the wiki was created in the same month).\n",
    "\n",
    "We currently have three types of micro-contributions:\n",
    "\n",
    "1. Description edits on Wikidata.\n",
    "2. Caption edits on Commons.\n",
    "3. Depicts edits on Commons.\n",
    "\n",
    "So, for Wikidata and Commons, we would like to know how many active editors those wikis had over time, how many of them were making micro-contributions, how many of them made enough micro-contributions to qualify as an active editor, and lastly how many of the latter two groups of where new accounts in a given month."
   ]
  },
  {
   "cell_type": "markdown",
   "metadata": {},
   "source": [
    "## Next up\n",
    "\n",
    "Micro-contributions impact on the number of active editors:\n",
    "\n",
    "1. DONE! What would the number of active editors be if we took out micro-contributions?\n",
    "2. DONE! What is the number of active editors who *only* made micro-contributions?\n",
    "\n",
    "Next up, I'll reach out to Connie and Maya to get some extra eyes on this to make sure my methodology is sane.\n",
    "\n",
    "The impact of Wiki Loves Earth and Wiki Loves Pride:\n",
    "\n",
    "1. DONE! What is the number of active editors if we remove all WLE/WLP activity?\n",
    "2. DONE! What is the number of active editors who uploaded WLE/WLP contributions?\n",
    "\n",
    "We're interested in understanding the impact of WLE/WLP for users who uploaded files as part of the campaigns."
   ]
  },
  {
   "cell_type": "code",
   "execution_count": 1,
   "metadata": {},
   "outputs": [
    {
     "name": "stderr",
     "output_type": "stream",
     "text": [
      "You can find the source for `wmfdata` at https://github.com/neilpquinn/wmfdata\n"
     ]
    }
   ],
   "source": [
    "import pandas as pd\n",
    "import numpy as np\n",
    "\n",
    "from wmfdata import hive"
   ]
  },
  {
   "cell_type": "code",
   "execution_count": 61,
   "metadata": {},
   "outputs": [],
   "source": [
    "## Load the RPython library so we can use R for graphs\n",
    "\n",
    "%load_ext rpy2.ipython"
   ]
  },
  {
   "cell_type": "code",
   "execution_count": 62,
   "metadata": {},
   "outputs": [],
   "source": [
    "%%R\n",
    "library(ggplot2)\n",
    "library(data.table)"
   ]
  },
  {
   "cell_type": "markdown",
   "metadata": {},
   "source": [
    "First, let's grab user IDs of all users who are labelled as active editors in a given month for the given wikis and date ranges associated with those wikis. Because we want something to compare with, we'll grab data for a year prior to the micro-contributions being released."
   ]
  },
  {
   "cell_type": "code",
   "execution_count": 12,
   "metadata": {},
   "outputs": [],
   "source": [
    "## based on\n",
    "## from https://github.com/wikimedia-research/Editing-movement-metrics/blob/master/queries/active_editors.sql\n",
    "active_editors_query = '''\n",
    "WITH active_editors AS (\n",
    "  SELECT\n",
    "    CAST(month AS date) AS log_month,\n",
    "    user_id,\n",
    "    user_name,\n",
    "    SUM(content_edits) AS content_edits,\n",
    "    MAX(bot_by_group) AS bot_by_group,\n",
    "    CAST(TRUNC(MIN(user_registration), \"MONTH\") AS date) AS registration_month\n",
    "  FROM neilpquinn.editor_month\n",
    "  WHERE\n",
    "    wiki = \"{wiki}\"\n",
    "    AND month BETWEEN \"{start_ts}\" AND \"{end_ts}\"\n",
    "    AND user_id != 0\n",
    "  GROUP BY month, user_id, user_name\n",
    ")\n",
    "FROM active_editors\n",
    "SELECT log_month, user_id, content_edits, \n",
    "       CAST(registration_month = log_month AS int) AS is_new_active\n",
    "WHERE\n",
    "  content_edits >= 5\n",
    "  AND NOT bot_by_group\n",
    "  AND user_name NOT REGEXP \"bot\\\\b\"\n",
    "'''"
   ]
  },
  {
   "cell_type": "code",
   "execution_count": 13,
   "metadata": {},
   "outputs": [],
   "source": [
    "wikidata_actives = hive.run([\n",
    "    \"SET mapreduce.map.memory.mb=4096\",    \n",
    "    active_editors_query.format(\n",
    "        snapshot = \"2019-07\",\n",
    "        wiki = \"wikidatawiki\",\n",
    "        start_ts = \"2016-01-01\",\n",
    "        end_ts = \"2019-08-01\")\n",
    "])"
   ]
  },
  {
   "cell_type": "code",
   "execution_count": 14,
   "metadata": {},
   "outputs": [],
   "source": [
    "commons_actives = hive.run([\n",
    "    \"SET mapreduce.map.memory.mb=4096\",    \n",
    "    active_editors_query.format(\n",
    "        snapshot = \"2019-07\",\n",
    "        wiki = \"commonswiki\",\n",
    "        start_ts = \"2018-01-01\",\n",
    "        end_ts = \"2019-08-01\")\n",
    "])"
   ]
  },
  {
   "cell_type": "markdown",
   "metadata": {},
   "source": [
    "Next, we grab similar data (user ID, month, number of edits) for all micro-contributions made to the given wikis."
   ]
  },
  {
   "cell_type": "code",
   "execution_count": 32,
   "metadata": {},
   "outputs": [],
   "source": [
    "## we won't have to worry about distinguishing between bots and regular users in this case,\n",
    "## because we'll filter those out when we join with the previous datasets.\n",
    "wd_mce_query = '''\n",
    "SELECT DATE_FORMAT(event_timestamp, \"yyyy-MM-01\") AS log_month, event_user_id, count(*) AS num_micros\n",
    "FROM wmf.mediawiki_history\n",
    "WHERE snapshot = \"{snapshot}\"\n",
    "  AND wiki_db = \"wikidatawiki\"\n",
    "  AND event_timestamp >= \"{start_ts}\"\n",
    "  AND event_timestamp < \"{end_ts}\"\n",
    "  AND event_entity = \"revision\"\n",
    "  AND event_type = \"create\"\n",
    "  AND array_contains(revision_tags, \"mobile app edit\") = TRUE\n",
    "GROUP BY DATE_FORMAT(event_timestamp, \"yyyy-MM-01\"), event_user_id\n",
    "'''"
   ]
  },
  {
   "cell_type": "code",
   "execution_count": 33,
   "metadata": {},
   "outputs": [],
   "source": [
    "## similar query for commons\n",
    "commons_mce_query = '''\n",
    "SELECT DATE_FORMAT(event_timestamp, \"yyyy-MM-01\") AS log_month, event_user_id, count(*) AS num_micros\n",
    "FROM wmf.mediawiki_history\n",
    "WHERE snapshot = \"{snapshot}\"\n",
    "  AND wiki_db = \"commonswiki\"\n",
    "  AND event_timestamp >= \"{start_ts}\"\n",
    "  AND event_timestamp < \"{end_ts}\"\n",
    "  AND event_entity = \"revision\"\n",
    "  AND event_type = \"create\"\n",
    "  AND (\n",
    "    event_comment REGEXP \"^...wbsetlabel-(add|set|remove):\"\n",
    "    OR event_comment REGEXP \"^...wbsetclaim-(create|update).*?Special:EntityPage/P180\"\n",
    "  )\n",
    "GROUP BY DATE_FORMAT(event_timestamp, \"yyyy-MM-01\"), event_user_id\n",
    "'''"
   ]
  },
  {
   "cell_type": "code",
   "execution_count": 34,
   "metadata": {},
   "outputs": [],
   "source": [
    "wikidata_mces = hive.run([\n",
    "    \"SET mapreduce.map.memory.mb=4096\",    \n",
    "    wd_mce_query.format(\n",
    "        snapshot = \"2019-07\",\n",
    "        start_ts = \"2016-01-01\",\n",
    "        end_ts = \"2019-08-01\")\n",
    "])"
   ]
  },
  {
   "cell_type": "code",
   "execution_count": 35,
   "metadata": {},
   "outputs": [],
   "source": [
    "commons_mces = hive.run([\n",
    "    \"SET mapreduce.map.memory.mb=4096\",    \n",
    "    commons_mce_query.format(\n",
    "        snapshot = \"2019-07\",\n",
    "        start_ts = \"2016-01-01\",\n",
    "        end_ts = \"2019-08-01\")\n",
    "])"
   ]
  },
  {
   "cell_type": "code",
   "execution_count": null,
   "metadata": {},
   "outputs": [],
   "source": [
    "wikidata_mces.head()"
   ]
  },
  {
   "cell_type": "markdown",
   "metadata": {},
   "source": [
    "Now, let's join the two datasets (using a left join), fill all missing data with zeroes, and start making some graphs."
   ]
  },
  {
   "cell_type": "code",
   "execution_count": 184,
   "metadata": {},
   "outputs": [],
   "source": [
    "wd_actives_full = wikidata_actives.merge(wikidata_mces,\n",
    "                                         how = 'left', left_on = ['log_month', 'user_id'],\n",
    "                                         right_on = ['log_month', 'event_user_id']).fillna(0)"
   ]
  },
  {
   "cell_type": "code",
   "execution_count": 185,
   "metadata": {},
   "outputs": [],
   "source": [
    "commons_actives_full = commons_actives.merge(commons_mces,\n",
    "                                             how = 'left', left_on = ['log_month', 'user_id'],\n",
    "                                             right_on = ['log_month', 'event_user_id']).fillna(0)"
   ]
  },
  {
   "cell_type": "code",
   "execution_count": 186,
   "metadata": {},
   "outputs": [],
   "source": [
    "## turn log month into dates\n",
    "\n",
    "wd_actives_full['log_month'] = pd.to_datetime(wd_actives_full['log_month'])\n",
    "commons_actives_full['log_month'] = pd.to_datetime(commons_actives_full['log_month'])"
   ]
  },
  {
   "cell_type": "code",
   "execution_count": 187,
   "metadata": {},
   "outputs": [],
   "source": [
    "## Calculate the number of content contributions with micro-contributions removed\n",
    "\n",
    "wd_actives_full['non_micro_edits'] = wd_actives_full.content_edits - wd_actives_full.num_micros\n",
    "commons_actives_full['non_micro_edits'] = commons_actives_full.content_edits - commons_actives_full.num_micros"
   ]
  },
  {
   "cell_type": "code",
   "execution_count": 85,
   "metadata": {},
   "outputs": [],
   "source": [
    "def get_active_stats(df, start_date, end_date):\n",
    "    '''\n",
    "    For the given `pandas.DataFrame` `df` containing information on number of content edits,\n",
    "    account age status (new or existing user), and number of micro-contribution edits made,\n",
    "    calculate for each month between `start_date` and `end_date` the following stats:\n",
    "    \n",
    "    * Number of active editors (all users in that month, our dataset only includes active editors)\n",
    "    * Number of active editors who made at least 1 micro-contribution\n",
    "    * Number of active editors who made 5 or more micro-contributions (meaning they made enough\n",
    "      to quality as an active editor by micro-contributions alone)\n",
    "    * Number of active editors who made at least 1 micro-contribution who were new that month\n",
    "    * Number of active editors who made 5 or more micr-contributions who were new that month.\n",
    "    '''\n",
    "\n",
    "    ## Date range from start to end:\n",
    "    date_range = pd.date_range(start_date, end_date, freq = \"MS\")\n",
    "\n",
    "    ## Long-form data frame with month, type of editor (active, active w/1+ mce, etc), and number of editors\n",
    "    res_df = pd.DataFrame(columns = ['log_month', 'editor_type', 'n'])\n",
    "    \n",
    "    for month_idx in range(len(date_range) -1): ## iterate but exclude the last month\n",
    "        ## All users are active because we filtered out non-active ones\n",
    "        n_active = len(df.loc[(df.log_month >= date_range[month_idx]) &\n",
    "                              (df.log_month < date_range[month_idx + 1])])\n",
    "        \n",
    "        res_df = res_df.append(\n",
    "                pd.DataFrame([[date_range[month_idx], 'active', n_active]],\n",
    "                             columns = ['log_month', 'editor_type', 'n']\n",
    "                )\n",
    "            )\n",
    "        \n",
    "        ## Actives who made at least one micro-contribution\n",
    "        n_mces = len(df.loc[(df.log_month >= date_range[month_idx]) &\n",
    "                              (df.log_month < date_range[month_idx + 1]) &\n",
    "                              (df.num_micros > 0)])\n",
    "\n",
    "        res_df = res_df.append(\n",
    "                pd.DataFrame([[date_range[month_idx], '1+ micro', n_mces]],\n",
    "                             columns = ['log_month', 'editor_type', 'n']\n",
    "                )\n",
    "            )\n",
    "        \n",
    "        ## Actives who made at least five micro-contributions\n",
    "        n_active_mces = len(df.loc[(df.log_month >= date_range[month_idx]) &\n",
    "                                   (df.log_month < date_range[month_idx + 1]) &\n",
    "                                   (df.num_micros >= 5)])\n",
    "\n",
    "        res_df = res_df.append(\n",
    "                pd.DataFrame([[date_range[month_idx], '5+ micro', n_active_mces]],\n",
    "                             columns = ['log_month', 'editor_type', 'n']\n",
    "                )\n",
    "            )\n",
    "        \n",
    "        ## New active editors\n",
    "        n_new_active = len(df.loc[(df.log_month >= date_range[month_idx]) &\n",
    "                                  (df.log_month < date_range[month_idx + 1]) &\n",
    "                                  (df.is_new_active == 1)])\n",
    "\n",
    "        res_df = res_df.append(\n",
    "                pd.DataFrame([[date_range[month_idx], 'new active', n_new_active]],\n",
    "                             columns = ['log_month', 'editor_type', 'n']\n",
    "                )\n",
    "            )\n",
    "        \n",
    "        ## New active editors w/1+ micro-contributions\n",
    "        n_new_mces = len(df.loc[(df.log_month >= date_range[month_idx]) &\n",
    "                                (df.log_month < date_range[month_idx + 1]) &\n",
    "                                (df.is_new_active == 1) &\n",
    "                                (df.num_micros > 0)])\n",
    "\n",
    "        res_df = res_df.append(\n",
    "                pd.DataFrame([[date_range[month_idx], 'new 1+ micro', n_new_mces]],\n",
    "                             columns = ['log_month', 'editor_type', 'n']\n",
    "                )\n",
    "            )\n",
    "        \n",
    "        ## New active editors w/5+ micro-contributions\n",
    "        n_new_active_mces = len(df.loc[(df.log_month >= date_range[month_idx]) &\n",
    "                                       (df.log_month < date_range[month_idx + 1]) &\n",
    "                                       (df.is_new_active == 1) &\n",
    "                                       (df.num_micros >= 5)])\n",
    "\n",
    "        res_df = res_df.append(\n",
    "                pd.DataFrame([[date_range[month_idx], 'new 5+ micro', n_new_active_mces]],\n",
    "                             columns = ['log_month', 'editor_type', 'n']\n",
    "                )\n",
    "            )\n",
    "        \n",
    "    return(res_df)    "
   ]
  },
  {
   "cell_type": "code",
   "execution_count": 97,
   "metadata": {},
   "outputs": [],
   "source": [
    "def get_corrected_stats(df, start_date, end_date):\n",
    "    '''\n",
    "    For the given `pandas.DataFrame` `df` containing information on number of content edits,\n",
    "    account age status (new or existing user), and number of micro-contribution edits made,\n",
    "    calculate for each month between `start_date` and `end_date` the following stats:\n",
    "    \n",
    "    * Number of active editors with micro-contributions removed\n",
    "    * Number of active editors who only made micro-contributions\n",
    "    * Number of new active editors with micro-contributions removed\n",
    "    * Number of new active editors who only made micro-contributions\n",
    "    '''\n",
    "\n",
    "    ## Date range from start to end:\n",
    "    date_range = pd.date_range(start_date, end_date, freq = \"MS\")\n",
    "\n",
    "    ## Long-form data frame with month, type of editor (active, active w/1+ mce, etc), and number of editors\n",
    "    res_df = pd.DataFrame(columns = ['log_month', 'editor_type', 'n'])\n",
    "    \n",
    "    for month_idx in range(len(date_range) -1): ## iterate but exclude the last month\n",
    "        ## Number of active editors with micro-contributions removed\n",
    "        n_active_wo_mces = len(df.loc[(df.log_month >= date_range[month_idx]) &\n",
    "                                       (df.log_month < date_range[month_idx + 1]) &\n",
    "                                       (df.non_micro_edits >= 5)])\n",
    "        \n",
    "        res_df = res_df.append(\n",
    "                pd.DataFrame([[date_range[month_idx], 'active w/o micro', n_active_wo_mces]],\n",
    "                             columns = ['log_month', 'editor_type', 'n']\n",
    "                )\n",
    "            )\n",
    "        \n",
    "        ## Number of active editors who only made micro-contributions\n",
    "        n_active_only_mces = len(df.loc[(df.log_month >= date_range[month_idx]) &\n",
    "                                        (df.log_month < date_range[month_idx + 1]) &\n",
    "                                        (df.content_edits == df.num_micros)])\n",
    "        \n",
    "        res_df = res_df.append(\n",
    "                pd.DataFrame([[date_range[month_idx], 'active only micro', n_active_only_mces]],\n",
    "                             columns = ['log_month', 'editor_type', 'n']\n",
    "                )\n",
    "            )\n",
    "        \n",
    "        ## Number of new active editors with micro-contributions removed\n",
    "        n_new_active_wo_mces = len(df.loc[(df.log_month >= date_range[month_idx]) &\n",
    "                                       (df.log_month < date_range[month_idx + 1]) &\n",
    "                                       (df.is_new_active == 1) &\n",
    "                                       (df.non_micro_edits >= 5)])\n",
    "        \n",
    "        res_df = res_df.append(\n",
    "                pd.DataFrame([[date_range[month_idx], 'new active w/o micro', n_new_active_wo_mces]],\n",
    "                             columns = ['log_month', 'editor_type', 'n']\n",
    "                )\n",
    "            )\n",
    "    \n",
    "        ##Number of new active editors who only made micro-contributions\n",
    "        n_active_only_mces = len(df.loc[(df.log_month >= date_range[month_idx]) &\n",
    "                                        (df.log_month < date_range[month_idx + 1]) &\n",
    "                                        (df.is_new_active == 1) &\n",
    "                                        (df.content_edits == df.num_micros)])\n",
    "        \n",
    "        res_df = res_df.append(\n",
    "                pd.DataFrame([[date_range[month_idx], 'new active only micro', n_active_only_mces]],\n",
    "                             columns = ['log_month', 'editor_type', 'n']\n",
    "                )\n",
    "            )\n",
    "    return(res_df)    "
   ]
  },
  {
   "cell_type": "code",
   "execution_count": 87,
   "metadata": {},
   "outputs": [],
   "source": [
    "wd_active_stats = get_active_stats(wd_actives_full, '2016-01-01', '2019-07-01')"
   ]
  },
  {
   "cell_type": "code",
   "execution_count": 88,
   "metadata": {},
   "outputs": [],
   "source": [
    "commons_active_stats = get_active_stats(commons_actives_full, '2018-01-01', '2019-07-01')"
   ]
  },
  {
   "cell_type": "code",
   "execution_count": 98,
   "metadata": {},
   "outputs": [],
   "source": [
    "wd_corrected_stats = get_corrected_stats(wd_actives_full, '2016-01-01', '2019-07-01')"
   ]
  },
  {
   "cell_type": "code",
   "execution_count": 99,
   "metadata": {},
   "outputs": [],
   "source": [
    "commons_corrected_stats = get_corrected_stats(commons_actives_full, '2018-01-01', '2019-07-01')"
   ]
  },
  {
   "cell_type": "code",
   "execution_count": 128,
   "metadata": {},
   "outputs": [
    {
     "data": {
      "image/png": "[encoded data removed]"
     },
     "metadata": {},
     "output_type": "display_data"
    }
   ],
   "source": [
    "%%R -i wd_active_stats\n",
    "\n",
    "wd_active_stats$log_month = as.Date(wd_active_stats$log_month)\n",
    "\n",
    "ggplot(wd_active_stats,\n",
    "       aes(x = log_month, y = n, color = editor_type)) +\n",
    "theme_bw() +\n",
    "scale_y_log10(\"Number of editors (log scale)\") +\n",
    "scale_x_date(\"Month\") +\n",
    "ggtitle(\"Wikidata number of active editors by type\") +\n",
    "geom_line()"
   ]
  },
  {
   "cell_type": "markdown",
   "metadata": {},
   "source": [
    "What does this graph tell us? Overall, we see that the number of active editors on Wikidata is fairly stable, but slowly increasing over time, reaching around 10k in more recent months. We can also see that there is a slowly increasing trend in the number of new active editors on Wikidata, and that it passed 1k in both the end of 2018 and early 2019.\n",
    "\n",
    "What we can also see is that the number of new active editors who made microcontributions is not large, it generally ends up being about 100. Those who do make microcontributions tend to make enough of those alone to become an active editor. We can also see that it is not clear that the trend is an increase in these editors.\n",
    "\n",
    "Lastly, we see that there an increase in the number of active editors over time who make micro-contributions. Because we don't see an increase in the trend of new editors, this means that these are users who have been around. I think this motivates looking into whether users who make micro-contributions are more likely to be retained."
   ]
  },
  {
   "cell_type": "code",
   "execution_count": 129,
   "metadata": {},
   "outputs": [
    {
     "data": {
      "image/png": "[encoded data removed]"
     },
     "metadata": {},
     "output_type": "display_data"
    }
   ],
   "source": [
    "%%R -i commons_active_stats\n",
    "\n",
    "commons_active_stats$log_month = as.Date(commons_active_stats$log_month)\n",
    "\n",
    "ggplot(commons_active_stats,\n",
    "       aes(x = log_month, y = n, color = editor_type)) +\n",
    "theme_bw() +\n",
    "scale_y_continuous(\"Number of editors\") +\n",
    "scale_x_date(\"Month\") +\n",
    "ggtitle(\"Commons number of active editors by type\") +\n",
    "geom_line()"
   ]
  },
  {
   "cell_type": "markdown",
   "metadata": {},
   "source": [
    "What does this graph tell us? First, we can see the overall trends of increases in May/June (Wiki Loves Earth) and September (Wiki Loves Monuments) that we expect, the former for both 2018 and 2019. We can also see that these increases correlate with increases in new active editors, meaning that we see a fair amount of new users coming to Commons that make at least 5 edits.\n",
    "\n",
    "Secondly, we see the introduction of micro-contributions in January of this year. We see that about half of the active editors make a micro-contribution in January through April, while in May and June the proportion is about two thirds. Similarly, we see new editors also come in and contribute to these numbers. Quite a number of them make at least one micro-contribution, and many of them make at least five."
   ]
  },
  {
   "cell_type": "code",
   "execution_count": null,
   "metadata": {},
   "outputs": [],
   "source": [
    "## Looking at the numbers to get a sense of proportions:\n",
    "commons_active_stats.loc[commons_active_stats.log_month >= '2019-01-01']"
   ]
  },
  {
   "cell_type": "markdown",
   "metadata": {},
   "source": [
    "Let's get a sense of how the number of active contributors is affected by micro-contributions by taking them out, and also looking at number of active editors who only made micro-contributions."
   ]
  },
  {
   "cell_type": "code",
   "execution_count": 130,
   "metadata": {},
   "outputs": [
    {
     "data": {
      "image/png": "[encoded data removed]"
     },
     "metadata": {},
     "output_type": "display_data"
    }
   ],
   "source": [
    "%%R -i wd_corrected_stats\n",
    "\n",
    "wd_corrected_stats$log_month = as.Date(wd_corrected_stats$log_month)\n",
    "\n",
    "ggplot(wd_corrected_stats,\n",
    "       aes(x = log_month, y = n, color = editor_type)) +\n",
    "theme_bw() +\n",
    "scale_y_log10(\"Number of editors (log scale)\") +\n",
    "scale_x_date(\"Month\") +\n",
    "ggtitle(\"Wikidata number of active editors with corrections\") +\n",
    "geom_line()"
   ]
  },
  {
   "cell_type": "code",
   "execution_count": 131,
   "metadata": {},
   "outputs": [
    {
     "data": {
      "image/png": "[encoded data removed]"
     },
     "metadata": {},
     "output_type": "display_data"
    }
   ],
   "source": [
    "%%R -i wd_active_stats,wd_corrected_stats\n",
    "\n",
    "## Merge the two and calculate a diff between active with and without micro-contributions\n",
    "\n",
    "wd_active_stats = data.table(wd_active_stats)\n",
    "wd_corrected_stats = data.table(wd_corrected_stats)\n",
    "\n",
    "wd_both = merge(wd_active_stats[editor_type == 'active', list(log_month, n_active = n)],\n",
    "                wd_corrected_stats[editor_type == 'active w/o micro', list(log_month, n_active_nomicro = n)],\n",
    "                by = 'log_month')\n",
    "wd_both[, n_diff := n_active - n_active_nomicro]\n",
    "wd_both[, prop_diff := 100 * n_diff / n_active]\n",
    "wd_both[, log_month := as.Date(log_month)]\n",
    "\n",
    "ggplot(wd_both[log_month >= as.Date('2017-01-01')],\n",
    "       aes(x = log_month, y = prop_diff)) +\n",
    "theme_bw() +\n",
    "scale_y_continuous(\"Difference in %\", lim = c(0, 5.5), breaks = c(0:5)) +\n",
    "scale_x_date(\"Month\") +\n",
    "ggtitle(\"Wikidata difference in active editors without micro-contributions\") +\n",
    "geom_line()"
   ]
  },
  {
   "cell_type": "markdown",
   "metadata": {},
   "source": [
    "So, for Wikidata we see that the number of new active editors who solely make micro-contributions is fairly stable over time. However, we find an increasing influence of micro-contributions on the overall number of active editors, particularly in the first half of 2019. This is also seen in the other graph above, where the number of active editors who are solely making micro-contributions is increasing over time, particularly in the past six months.\n",
    "\n",
    "Let's make the same investigation for Commons."
   ]
  },
  {
   "cell_type": "code",
   "execution_count": 132,
   "metadata": {},
   "outputs": [
    {
     "data": {
      "image/png": "[encoded data removed]"
     },
     "metadata": {},
     "output_type": "display_data"
    }
   ],
   "source": [
    "%%R -i commons_corrected_stats\n",
    "\n",
    "commons_corrected_stats$log_month = as.Date(commons_corrected_stats$log_month)\n",
    "\n",
    "ggplot(commons_corrected_stats,\n",
    "       aes(x = log_month, y = n, color = editor_type)) +\n",
    "theme_bw() +\n",
    "scale_y_log10(\"Number of editors (log scale)\") +\n",
    "scale_x_date(\"Month\") +\n",
    "ggtitle(\"Wikimedia Commons number of active editors with corrections\") +\n",
    "geom_line()"
   ]
  },
  {
   "cell_type": "code",
   "execution_count": 135,
   "metadata": {},
   "outputs": [
    {
     "data": {
      "image/png": "[encoded data removed]"
     },
     "metadata": {},
     "output_type": "display_data"
    }
   ],
   "source": [
    "%%R -i commons_active_stats,commons_corrected_stats\n",
    "\n",
    "## Merge the two and calculate a diff between active with and without micro-contributions\n",
    "\n",
    "commons_active_stats = data.table(commons_active_stats)\n",
    "commons_corrected_stats = data.table(commons_corrected_stats)\n",
    "\n",
    "commons_both = merge(commons_active_stats[editor_type == 'active', list(log_month, n_active = n)],\n",
    "                commons_corrected_stats[editor_type == 'active w/o micro', list(log_month, n_active_nomicro = n)],\n",
    "                by = 'log_month')\n",
    "commons_both[, n_diff := n_active - n_active_nomicro]\n",
    "commons_both[, prop_diff := 100 * n_diff / n_active]\n",
    "commons_both[, log_month := as.Date(log_month)]\n",
    "\n",
    "ggplot(commons_both[log_month >= as.Date('2019-01-01')],\n",
    "       aes(x = log_month, y = prop_diff)) +\n",
    "theme_bw() +\n",
    "scale_y_continuous(\"Difference in %\", lim = c(0, 25)) +\n",
    "scale_x_date(\"Month\") +\n",
    "ggtitle(\"Wikimedia Commons difference in active editors without micro-contributions\") +\n",
    "geom_line()"
   ]
  },
  {
   "cell_type": "markdown",
   "metadata": {},
   "source": [
    "What we see on Commons are stark differences compared to what we've previously seen. First, the number of active editors when taking micro-contributions out is fairly stable, around 10,000. The increase in May/June that we've seen before and associated with Wiki Loves Earth goes away. Secondly, we see that micro-contributions are not what active users on Commons do, the number of new users who only make those contributions is very small, and the overall number is also less than 1% of the total.\n",
    "\n",
    "The second graph tells a very different story, where we see the difference in proportions between active editors depending on whether we count micro-contributions or not. Here, we see that in May and June, the difference is 23% lower if we take those contributions out. We can also see that this proportion was lower before May and June when WLE ran, prior to that the range is 9–15%. That is still a substantial difference, but nowhere as strong as for May and June.\n",
    "\n",
    "It's also worth noticing that the number of active editors on Wikidata and Commons is roughly comparable in some of these graphs. For example in both of the corrected ones, the number of active editors is around 10,000."
   ]
  },
  {
   "cell_type": "code",
   "execution_count": 127,
   "metadata": {},
   "outputs": [
    {
     "name": "stdout",
     "output_type": "stream",
     "text": [
      "     log_month n_active n_active_nomicro n_diff prop_diff\n",
      " 1: 2018-01-01     9091             9091      0  0.000000\n",
      " 2: 2018-02-01     8439             8439      0  0.000000\n",
      " 3: 2018-03-01     9246             9246      0  0.000000\n",
      " 4: 2018-04-01     9079             9079      0  0.000000\n",
      " 5: 2018-05-01    11370            11370      0  0.000000\n",
      " 6: 2018-06-01     9914             9914      0  0.000000\n",
      " 7: 2018-07-01     8840             8840      0  0.000000\n",
      " 8: 2018-08-01     9202             9202      0  0.000000\n",
      " 9: 2018-09-01    14275            14275      0  0.000000\n",
      "10: 2018-10-01    10230            10230      0  0.000000\n",
      "11: 2018-11-01     9112             9112      0  0.000000\n",
      "12: 2018-12-01     8661             8661      0  0.000000\n",
      "13: 2019-01-01    10624             9685    939  8.838479\n",
      "14: 2019-02-01    11613             9916   1697 14.612934\n",
      "15: 2019-03-01    11424             9974   1450 12.692577\n",
      "16: 2019-04-01    10577             9260   1317 12.451546\n",
      "17: 2019-05-01    15499            11973   3526 22.749855\n",
      "18: 2019-06-01    14078            10870   3208 22.787328\n"
     ]
    }
   ],
   "source": [
    "%%R\n",
    "\n",
    "commons_both"
   ]
  },
  {
   "cell_type": "markdown",
   "metadata": {},
   "source": [
    "## Impact of WLE and WLP\n",
    "\n",
    "The impact of Wiki Loves Earth and Wiki Loves Pride:\n",
    "\n",
    "1. What is the number of active editors if we remove all WLE/WLP activity?\n",
    "2. What is the number of active editors who uploaded WLE/WLP contributions?\n",
    "\n",
    "To answer this, we'll use the WLE and WLP categories on Commons to identify pages within the scope of those campaigns. Because the focus of the campaigns is the multimedia content uploaded, we'll restrict the scope to the File namespace. This means that coordinating activity around these (e.g. discussions on talk pages, or updating of campaign pages) will count as \"normal\" edits.\n",
    "\n",
    "For Wiki Loves Earth, we will use any files in the \"Wiki Loves Earth 2019\" category, as well as the category for all images named \"Images from Wiki Loves Earth 2019\". For Wiki Loves Pride, we'll use all images in the category \"Wiki Loves Pride 2019\".\n",
    "\n",
    "As we did for micro-contributions, we'll count monthly edits by users to these files and label them as `earth_edits` and `pride_edits`. That will then allow us to take either or both out from our measurements.\n",
    "\n",
    "To identify who uploaded this content, we'll grab the page ID of all files uploaded to commons in May and June from the Data Lake and intersect it with pages in those categories."
   ]
  },
  {
   "cell_type": "code",
   "execution_count": 139,
   "metadata": {},
   "outputs": [],
   "source": [
    "from growth import db, utils"
   ]
  },
  {
   "cell_type": "code",
   "execution_count": 228,
   "metadata": {},
   "outputs": [],
   "source": [
    "db_conn = db.get_db_conn(\"commonswiki\")"
   ]
  },
  {
   "cell_type": "code",
   "execution_count": 229,
   "metadata": {},
   "outputs": [],
   "source": [
    "## monthly edits per user to files in WLE/WLP categories\n",
    "\n",
    "## Note: don't forget to join with the actor table too, because that's where the actual user ID is.\n",
    "\n",
    "category_count_query = '''\n",
    "SELECT DATE_FORMAT(TIMESTAMP(rev_timestamp), \"%Y-%m-01\") AS log_month,\n",
    "       actor_user AS user_id, count(*) AS {count_name}\n",
    "FROM categorylinks\n",
    "JOIN page\n",
    "ON cl_from = page_id\n",
    "JOIN revision\n",
    "ON cl_from = rev_page\n",
    "JOIN revision_actor_temp\n",
    "ON rev_id = revactor_rev\n",
    "JOIN actor\n",
    "ON revactor_actor = actor_id\n",
    "WHERE cl_to IN ({category_list})\n",
    "AND page_namespace = 6\n",
    "AND rev_timestamp >= \"{start_timestamp}\"\n",
    "AND rev_timestamp < \"{end_timestamp}\"\n",
    "AND actor_user > 0\n",
    "GROUP BY log_month, user_id\n",
    "'''\n",
    "\n",
    "earth_categories = [\"Wiki Loves Earth 2019\", \"Images from Wiki Loves Earth 2019\"]\n",
    "pride_categories = [\"Wiki Loves Pride 2019\"]"
   ]
  },
  {
   "cell_type": "code",
   "execution_count": 230,
   "metadata": {},
   "outputs": [],
   "source": [
    "earth_counts = pd.read_sql_query(category_count_query.format(\n",
    "    count_name = 'earth_edits',\n",
    "    start_timestamp = dt.datetime(2019, 5, 1, 0, 0, 0).strftime(utils.mw_format),\n",
    "    end_timestamp = dt.datetime(2019, 7, 1, 0, 0, 0).strftime(utils.mw_format),\n",
    "    category_list = \", \".join(['\"{}\"'.format(c.replace(\" \", \"_\")) for c in earth_categories])),\n",
    "    db_conn\n",
    ")"
   ]
  },
  {
   "cell_type": "code",
   "execution_count": 231,
   "metadata": {},
   "outputs": [],
   "source": [
    "pride_counts = pd.read_sql_query(category_count_query.format(\n",
    "    count_name = 'pride_edits',\n",
    "    start_timestamp = dt.datetime(2019, 6, 1, 0, 0, 0).strftime(utils.mw_format),\n",
    "    end_timestamp = dt.datetime(2019, 7, 1, 0, 0, 0).strftime(utils.mw_format),\n",
    "    category_list = \", \".join(['\"{}\"'.format(c.replace(\" \", \"_\")) for c in pride_categories])),\n",
    "    db_conn\n",
    ")"
   ]
  },
  {
   "cell_type": "code",
   "execution_count": 232,
   "metadata": {},
   "outputs": [],
   "source": [
    "## turn log month into dates\n",
    "\n",
    "earth_counts['log_month'] = pd.to_datetime(earth_counts['log_month'])\n",
    "pride_counts['log_month'] = pd.to_datetime(pride_counts['log_month'])"
   ]
  },
  {
   "cell_type": "code",
   "execution_count": 234,
   "metadata": {},
   "outputs": [],
   "source": [
    "## Merge the full Commons data with the WLE data\n",
    "commons_actives_wlep = commons_actives_full.merge(earth_counts, how = \"left\", on = [\"log_month\", \"user_id\"]).fillna(0)"
   ]
  },
  {
   "cell_type": "code",
   "execution_count": 235,
   "metadata": {},
   "outputs": [],
   "source": [
    "## Similarly, merge with the WLP data\n",
    "commons_actives_wlep = commons_actives_wlep.merge(pride_counts, how = \"left\", on = [\"log_month\", \"user_id\"]).fillna(0)"
   ]
  },
  {
   "cell_type": "code",
   "execution_count": 152,
   "metadata": {},
   "outputs": [],
   "source": [
    "## Query to get all file creations on Commons from the Data Lake, and the user who created it.\n",
    "## We don't have to exclude non-registered users because they can't upload files.\n",
    "## We include the month of file creation so that WLE/WLP activity can be attributed to the\n",
    "## relevant month the file was uploaded.\n",
    "commons_creations_query = '''\n",
    "SELECT DATE_FORMAT(rev_timestamp, \"yyyy-MM-01\") AS log_month,\n",
    "       page_id, performer.user_id\n",
    "FROM event.mediawiki_page_create\n",
    "WHERE year = 2019\n",
    "AND month IN (5, 6)\n",
    "AND `database` = \"commonswiki\"\n",
    "AND page_namespace = 6\n",
    "AND page_is_redirect = FALSE -- exclude redirects, shouldn't be part of this\n",
    "'''"
   ]
  },
  {
   "cell_type": "code",
   "execution_count": 153,
   "metadata": {},
   "outputs": [],
   "source": [
    "commons_creations = hive.run(commons_creations_query)"
   ]
  },
  {
   "cell_type": "markdown",
   "metadata": {},
   "source": [
    "### Active editors without WLE/WLP activity\n",
    "\n",
    "For each month in May and June, how many active editors made at least one WLE edit? And similarly, how many made at least one WLP edit? This will give us some sense of whether to include either or both in our graphs."
   ]
  },
  {
   "cell_type": "code",
   "execution_count": 236,
   "metadata": {},
   "outputs": [
    {
     "data": {
      "text/html": [
       "<div>\n",
       "<style scoped>\n",
       "    .dataframe tbody tr th:only-of-type {\n",
       "        vertical-align: middle;\n",
       "    }\n",
       "\n",
       "    .dataframe tbody tr th {\n",
       "        vertical-align: top;\n",
       "    }\n",
       "\n",
       "    .dataframe thead th {\n",
       "        text-align: right;\n",
       "    }\n",
       "</style>\n",
       "<table border=\"1\" class=\"dataframe\">\n",
       "  <thead>\n",
       "    <tr style=\"text-align: right;\">\n",
       "      <th></th>\n",
       "      <th>log_month</th>\n",
       "      <th>n</th>\n",
       "    </tr>\n",
       "  </thead>\n",
       "  <tbody>\n",
       "    <tr>\n",
       "      <th>0</th>\n",
       "      <td>2019-05-01</td>\n",
       "      <td>3474</td>\n",
       "    </tr>\n",
       "    <tr>\n",
       "      <th>1</th>\n",
       "      <td>2019-06-01</td>\n",
       "      <td>2626</td>\n",
       "    </tr>\n",
       "  </tbody>\n",
       "</table>\n",
       "</div>"
      ],
      "text/plain": [
       "   log_month     n\n",
       "0 2019-05-01  3474\n",
       "1 2019-06-01  2626"
      ]
     },
     "execution_count": 236,
     "metadata": {},
     "output_type": "execute_result"
    }
   ],
   "source": [
    "(commons_actives_wlep.loc[commons_actives_wlep.earth_edits > 0]\n",
    " .groupby(\"log_month\")['user_id'].count().reset_index().rename(columns = {'user_id' : 'n'}))"
   ]
  },
  {
   "cell_type": "markdown",
   "metadata": {},
   "source": [
    "Same, but for WLP:"
   ]
  },
  {
   "cell_type": "code",
   "execution_count": 238,
   "metadata": {},
   "outputs": [
    {
     "data": {
      "text/html": [
       "<div>\n",
       "<style scoped>\n",
       "    .dataframe tbody tr th:only-of-type {\n",
       "        vertical-align: middle;\n",
       "    }\n",
       "\n",
       "    .dataframe tbody tr th {\n",
       "        vertical-align: top;\n",
       "    }\n",
       "\n",
       "    .dataframe thead th {\n",
       "        text-align: right;\n",
       "    }\n",
       "</style>\n",
       "<table border=\"1\" class=\"dataframe\">\n",
       "  <thead>\n",
       "    <tr style=\"text-align: right;\">\n",
       "      <th></th>\n",
       "      <th>log_month</th>\n",
       "      <th>n</th>\n",
       "    </tr>\n",
       "  </thead>\n",
       "  <tbody>\n",
       "    <tr>\n",
       "      <th>0</th>\n",
       "      <td>2019-06-01</td>\n",
       "      <td>167</td>\n",
       "    </tr>\n",
       "  </tbody>\n",
       "</table>\n",
       "</div>"
      ],
      "text/plain": [
       "   log_month    n\n",
       "0 2019-06-01  167"
      ]
     },
     "execution_count": 238,
     "metadata": {},
     "output_type": "execute_result"
    }
   ],
   "source": [
    "(commons_actives_wlep.loc[commons_actives_wlep.pride_edits > 0]\n",
    " .groupby(\"log_month\")['user_id'].count().reset_index().rename(columns = {'user_id' : 'n'}))"
   ]
  },
  {
   "cell_type": "markdown",
   "metadata": {},
   "source": [
    "Total number of active editors on Commons in May and June:"
   ]
  },
  {
   "cell_type": "code",
   "execution_count": 241,
   "metadata": {},
   "outputs": [
    {
     "data": {
      "text/html": [
       "<div>\n",
       "<style scoped>\n",
       "    .dataframe tbody tr th:only-of-type {\n",
       "        vertical-align: middle;\n",
       "    }\n",
       "\n",
       "    .dataframe tbody tr th {\n",
       "        vertical-align: top;\n",
       "    }\n",
       "\n",
       "    .dataframe thead th {\n",
       "        text-align: right;\n",
       "    }\n",
       "</style>\n",
       "<table border=\"1\" class=\"dataframe\">\n",
       "  <thead>\n",
       "    <tr style=\"text-align: right;\">\n",
       "      <th></th>\n",
       "      <th>log_month</th>\n",
       "      <th>editor_type</th>\n",
       "      <th>n</th>\n",
       "    </tr>\n",
       "  </thead>\n",
       "  <tbody>\n",
       "    <tr>\n",
       "      <th>0</th>\n",
       "      <td>2019-05-01</td>\n",
       "      <td>active</td>\n",
       "      <td>15499</td>\n",
       "    </tr>\n",
       "    <tr>\n",
       "      <th>0</th>\n",
       "      <td>2019-06-01</td>\n",
       "      <td>active</td>\n",
       "      <td>14078</td>\n",
       "    </tr>\n",
       "  </tbody>\n",
       "</table>\n",
       "</div>"
      ],
      "text/plain": [
       "   log_month editor_type      n\n",
       "0 2019-05-01      active  15499\n",
       "0 2019-06-01      active  14078"
      ]
     },
     "execution_count": 241,
     "metadata": {},
     "output_type": "execute_result"
    }
   ],
   "source": [
    "commons_active_stats.loc[(commons_active_stats.editor_type == 'active') &\n",
    "                         ((commons_active_stats.log_month >= '2019-05-01'))]"
   ]
  },
  {
   "cell_type": "code",
   "execution_count": 242,
   "metadata": {},
   "outputs": [
    {
     "data": {
      "text/plain": [
       "1.186248046597528"
      ]
     },
     "execution_count": 242,
     "metadata": {},
     "output_type": "execute_result"
    }
   ],
   "source": [
    "## WLP proportion out of the total in June:\n",
    "100 * 167 / 14078"
   ]
  },
  {
   "cell_type": "code",
   "execution_count": 243,
   "metadata": {},
   "outputs": [
    {
     "data": {
      "text/plain": [
       "(22.414349312858896, 18.653217786617418)"
      ]
     },
     "execution_count": 243,
     "metadata": {},
     "output_type": "execute_result"
    }
   ],
   "source": [
    "## WLE proportion out of the total in May and June:\n",
    "\n",
    "(100 * 3474 / 15499, 100 * 2626 / 14078)"
   ]
  },
  {
   "cell_type": "markdown",
   "metadata": {},
   "source": [
    "So, it looks like the impact of Wiki Loves Pride on the number of active editors on Commons is relatively moderate. There were 14,078 active editors on Commons in June, meaning the 167 who edited a file within the WLP campaign make up 1.2%.\n",
    "\n",
    "Wiki Loves Earth, on the other hand, clearly has a massive influence on the number of active editors. We find that 22.4% of the May count, and 18.7% of the June count edited at least one WLE file.\n",
    "\n",
    "Our question is what the number of active editors would be if we took at WLE/WLP activity. Because the influence of WLP is small, we disregard it for this part of the analysis, and instead only focus on WLE edits. Similarly as we did for micro-contributions, we calculate a corrected number of edits per month."
   ]
  },
  {
   "cell_type": "code",
   "execution_count": 246,
   "metadata": {},
   "outputs": [],
   "source": [
    "commons_actives_wlep['non_wle_edits'] = commons_actives_wlep.content_edits - commons_actives_wlep.earth_edits"
   ]
  },
  {
   "cell_type": "code",
   "execution_count": 256,
   "metadata": {},
   "outputs": [],
   "source": [
    "def get_wle_stats(df, start_date, end_date):\n",
    "    '''\n",
    "    For the given `pandas.DataFrame` `df` containing information on number of content edits,\n",
    "    account age status (new or existing user), and number of Wiki Loves Earth edits made,\n",
    "    calculate for each month between `start_date` and `end_date` the following stats:\n",
    "    \n",
    "    * Number of active editors with WLE edits removed\n",
    "    * Number of active editors who only made WLE edits\n",
    "    * Number of new active editors with WLE edits removed\n",
    "    * Number of new active editors who only made WLE edits\n",
    "    '''\n",
    "\n",
    "    ## Date range from start to end:\n",
    "    date_range = pd.date_range(start_date, end_date, freq = \"MS\")\n",
    "\n",
    "    ## Long-form data frame with month, type of editor (active, active w/1+ mce, etc), and number of editors\n",
    "    res_df = pd.DataFrame(columns = ['log_month', 'editor_type', 'n'])\n",
    "    \n",
    "    for month_idx in range(len(date_range) -1): ## iterate but exclude the last month\n",
    "        ## Number of active editors with micro-contributions removed\n",
    "        n_active_wo_mces = len(df.loc[(df.log_month >= date_range[month_idx]) &\n",
    "                                       (df.log_month < date_range[month_idx + 1]) &\n",
    "                                       (df.non_wle_edits >= 5)])\n",
    "        \n",
    "        res_df = res_df.append(\n",
    "                pd.DataFrame([[date_range[month_idx], 'active w/o WLE', n_active_wo_mces]],\n",
    "                             columns = ['log_month', 'editor_type', 'n']\n",
    "                )\n",
    "            )\n",
    "        \n",
    "        ## Number of active editors who only made micro-contributions\n",
    "        n_active_only_mces = len(df.loc[(df.log_month >= date_range[month_idx]) &\n",
    "                                        (df.log_month < date_range[month_idx + 1]) &\n",
    "                                        (df.earth_edits > 0) &\n",
    "                                        (df.content_edits == df.earth_edits)])\n",
    "        \n",
    "        res_df = res_df.append(\n",
    "                pd.DataFrame([[date_range[month_idx], 'active only WLE', n_active_only_mces]],\n",
    "                             columns = ['log_month', 'editor_type', 'n']\n",
    "                )\n",
    "            )\n",
    "        \n",
    "        ## Number of new active editors with micro-contributions removed\n",
    "        n_new_active_wo_mces = len(df.loc[(df.log_month >= date_range[month_idx]) &\n",
    "                                       (df.log_month < date_range[month_idx + 1]) &\n",
    "                                       (df.is_new_active == 1) &\n",
    "                                       (df.non_wle_edits >= 5)])\n",
    "        \n",
    "        res_df = res_df.append(\n",
    "                pd.DataFrame([[date_range[month_idx], 'new active w/o WLE', n_new_active_wo_mces]],\n",
    "                             columns = ['log_month', 'editor_type', 'n']\n",
    "                )\n",
    "            )\n",
    "    \n",
    "        ##Number of new active editors who only made micro-contributions\n",
    "        n_active_only_mces = len(df.loc[(df.log_month >= date_range[month_idx]) &\n",
    "                                        (df.log_month < date_range[month_idx + 1]) &\n",
    "                                        (df.is_new_active == 1) &\n",
    "                                        (df.earth_edits > 0) &\n",
    "                                        (df.content_edits == df.earth_edits)])\n",
    "        \n",
    "        res_df = res_df.append(\n",
    "                pd.DataFrame([[date_range[month_idx], 'new active only WLE', n_active_only_mces]],\n",
    "                             columns = ['log_month', 'editor_type', 'n']\n",
    "                )\n",
    "            )\n",
    "    return(res_df)    "
   ]
  },
  {
   "cell_type": "code",
   "execution_count": 257,
   "metadata": {},
   "outputs": [],
   "source": [
    "commons_corr_wle_stats = get_wle_stats(commons_actives_wlep, '2019-01-01', '2019-07-01')"
   ]
  },
  {
   "cell_type": "code",
   "execution_count": 295,
   "metadata": {},
   "outputs": [
    {
     "data": {
      "text/html": [
       "<div>\n",
       "<style scoped>\n",
       "    .dataframe tbody tr th:only-of-type {\n",
       "        vertical-align: middle;\n",
       "    }\n",
       "\n",
       "    .dataframe tbody tr th {\n",
       "        vertical-align: top;\n",
       "    }\n",
       "\n",
       "    .dataframe thead th {\n",
       "        text-align: right;\n",
       "    }\n",
       "</style>\n",
       "<table border=\"1\" class=\"dataframe\">\n",
       "  <thead>\n",
       "    <tr style=\"text-align: right;\">\n",
       "      <th></th>\n",
       "      <th>log_month</th>\n",
       "      <th>editor_type</th>\n",
       "      <th>n</th>\n",
       "    </tr>\n",
       "  </thead>\n",
       "  <tbody>\n",
       "    <tr>\n",
       "      <th>0</th>\n",
       "      <td>2019-05-01</td>\n",
       "      <td>active w/o WLE</td>\n",
       "      <td>12600</td>\n",
       "    </tr>\n",
       "    <tr>\n",
       "      <th>0</th>\n",
       "      <td>2019-05-01</td>\n",
       "      <td>active only WLE</td>\n",
       "      <td>2621</td>\n",
       "    </tr>\n",
       "    <tr>\n",
       "      <th>0</th>\n",
       "      <td>2019-05-01</td>\n",
       "      <td>new active w/o WLE</td>\n",
       "      <td>3406</td>\n",
       "    </tr>\n",
       "    <tr>\n",
       "      <th>0</th>\n",
       "      <td>2019-05-01</td>\n",
       "      <td>new active only WLE</td>\n",
       "      <td>2243</td>\n",
       "    </tr>\n",
       "    <tr>\n",
       "      <th>0</th>\n",
       "      <td>2019-06-01</td>\n",
       "      <td>active w/o WLE</td>\n",
       "      <td>12006</td>\n",
       "    </tr>\n",
       "    <tr>\n",
       "      <th>0</th>\n",
       "      <td>2019-06-01</td>\n",
       "      <td>active only WLE</td>\n",
       "      <td>1894</td>\n",
       "    </tr>\n",
       "    <tr>\n",
       "      <th>0</th>\n",
       "      <td>2019-06-01</td>\n",
       "      <td>new active w/o WLE</td>\n",
       "      <td>3071</td>\n",
       "    </tr>\n",
       "    <tr>\n",
       "      <th>0</th>\n",
       "      <td>2019-06-01</td>\n",
       "      <td>new active only WLE</td>\n",
       "      <td>1618</td>\n",
       "    </tr>\n",
       "  </tbody>\n",
       "</table>\n",
       "</div>"
      ],
      "text/plain": [
       "   log_month          editor_type      n\n",
       "0 2019-05-01       active w/o WLE  12600\n",
       "0 2019-05-01      active only WLE   2621\n",
       "0 2019-05-01   new active w/o WLE   3406\n",
       "0 2019-05-01  new active only WLE   2243\n",
       "0 2019-06-01       active w/o WLE  12006\n",
       "0 2019-06-01      active only WLE   1894\n",
       "0 2019-06-01   new active w/o WLE   3071\n",
       "0 2019-06-01  new active only WLE   1618"
      ]
     },
     "execution_count": 295,
     "metadata": {},
     "output_type": "execute_result"
    }
   ],
   "source": [
    "commons_corr_wle_stats.tail(8)"
   ]
  },
  {
   "cell_type": "markdown",
   "metadata": {},
   "source": [
    "What's the story we want to tell here? Maybe focus on the 2,243 new active editors who only made contributions to WLE files in May, and similarly 1,618 in June? Or do we again want to know what the percentage drop in active editors is if we take the WLE contributions out?\n",
    "\n",
    "Let's move over to the file uploads to WLE. Our question asks: What is the number of active editors who uploaded WLE/WLP contributions? Again, we'll focus on WLE because of the large impact it has had. To answer the question, we'll grab page IDs of all the files in the WLE categories and join it with the data on file creations during May and June. Then, we can aggregate over the user ID of the creator to identify users who created files."
   ]
  },
  {
   "cell_type": "code",
   "execution_count": 259,
   "metadata": {},
   "outputs": [],
   "source": [
    "wle_pages_query = '''\n",
    "SELECT page_id\n",
    "FROM categorylinks\n",
    "JOIN page\n",
    "ON cl_from = page_id\n",
    "WHERE cl_to IN ({category_list})\n",
    "AND page_namespace = 6'''"
   ]
  },
  {
   "cell_type": "code",
   "execution_count": 260,
   "metadata": {},
   "outputs": [],
   "source": [
    "earth_pages = pd.read_sql_query(wle_pages_query.format(\n",
    "    category_list = \", \".join(['\"{}\"'.format(c.replace(\" \", \"_\")) for c in earth_categories])),\n",
    "    db_conn\n",
    ")"
   ]
  },
  {
   "cell_type": "code",
   "execution_count": 262,
   "metadata": {},
   "outputs": [],
   "source": [
    "## join the two to get information on who created the files\n",
    "earth_creations = earth_pages.merge(commons_creations, on = 'page_id')"
   ]
  },
  {
   "cell_type": "markdown",
   "metadata": {},
   "source": [
    "Do we have creation information on all the files? First number is the number of pages before the join, second is after:"
   ]
  },
  {
   "cell_type": "code",
   "execution_count": 267,
   "metadata": {},
   "outputs": [
    {
     "data": {
      "text/plain": [
       "95247"
      ]
     },
     "execution_count": 267,
     "metadata": {},
     "output_type": "execute_result"
    }
   ],
   "source": [
    "len(earth_pages)"
   ]
  },
  {
   "cell_type": "code",
   "execution_count": 266,
   "metadata": {},
   "outputs": [
    {
     "data": {
      "text/plain": [
       "94435"
      ]
     },
     "execution_count": 266,
     "metadata": {},
     "output_type": "execute_result"
    }
   ],
   "source": [
    "## how many files do we have information for?\n",
    "len(earth_creations)"
   ]
  },
  {
   "cell_type": "markdown",
   "metadata": {},
   "source": [
    "We've lost about 800 pages. That's about 1%, which I've come across before ([T215001](https://phabricator.wikimedia.org/T215001)) and is currently a drop we'll have to live with. Let's aggregate across month and user, then join it back with the active editor data."
   ]
  },
  {
   "cell_type": "code",
   "execution_count": 279,
   "metadata": {},
   "outputs": [],
   "source": [
    "earth_creations_aggregated = earth_creations.groupby(['log_month', 'user_id']).count().reset_index().rename(columns = {'page_id' : 'n_wle_created'})"
   ]
  },
  {
   "cell_type": "code",
   "execution_count": 280,
   "metadata": {},
   "outputs": [],
   "source": [
    "## turn log_month into a date\n",
    "earth_creations_aggregated.log_month = pd.to_datetime(earth_creations_aggregated.log_month)"
   ]
  },
  {
   "cell_type": "code",
   "execution_count": 281,
   "metadata": {},
   "outputs": [],
   "source": [
    "commons_actives_wle_creations = commons_actives_wlep.merge(earth_creations_aggregated,\n",
    "                                                           how = 'left', on = ['log_month', 'user_id']).fillna(0)"
   ]
  },
  {
   "cell_type": "markdown",
   "metadata": {},
   "source": [
    "We'll make some similar aggregations by month and editor type to get the number of active editors who uploaded files, and also number of new active editors."
   ]
  },
  {
   "cell_type": "code",
   "execution_count": 286,
   "metadata": {},
   "outputs": [],
   "source": [
    "def get_wle_creation_stats(df, start_date, end_date):\n",
    "    '''\n",
    "    For the given `pandas.DataFrame` `df` containing information on number of content edits,\n",
    "    account age status (new or existing user), and number of Wiki Loves Earth edits made,\n",
    "    calculate for each month between `start_date` and `end_date` the following stats:\n",
    "    \n",
    "    * Number of active editors\n",
    "    * Number of active editors who uploaded at least one WLE file\n",
    "    * Number of new active editors\n",
    "    * Number of new active editors who uploaded at least one WLE file\n",
    "    '''\n",
    "\n",
    "    ## Date range from start to end:\n",
    "    date_range = pd.date_range(start_date, end_date, freq = \"MS\")\n",
    "\n",
    "    ## Long-form data frame with month, type of editor (active, active w/1+ mce, etc), and number of editors\n",
    "    res_df = pd.DataFrame(columns = ['log_month', 'editor_type', 'n'])\n",
    "    \n",
    "    for month_idx in range(len(date_range) -1): ## iterate but exclude the last month\n",
    "        ## Number of active editors\n",
    "        n_active = len(df.loc[(df.log_month >= date_range[month_idx]) &\n",
    "                              (df.log_month < date_range[month_idx + 1])])\n",
    "        \n",
    "        res_df = res_df.append(\n",
    "                pd.DataFrame([[date_range[month_idx], 'active', n_active]],\n",
    "                             columns = ['log_month', 'editor_type', 'n']\n",
    "                )\n",
    "            )\n",
    "        \n",
    "        ## Number of active editors who uploaded at least one WLE file\n",
    "        n_active_wle = len(df.loc[(df.log_month >= date_range[month_idx]) &\n",
    "                                        (df.log_month < date_range[month_idx + 1]) &\n",
    "                                        (df.n_wle_created > 0)])\n",
    "        \n",
    "        res_df = res_df.append(\n",
    "                pd.DataFrame([[date_range[month_idx], 'active w/1+ WLE upload', n_active_wle]],\n",
    "                             columns = ['log_month', 'editor_type', 'n']\n",
    "                )\n",
    "            )\n",
    "        \n",
    "        ## Number of new active editors with micro-contributions removed\n",
    "        n_new_active = len(df.loc[(df.log_month >= date_range[month_idx]) &\n",
    "                                       (df.log_month < date_range[month_idx + 1]) &\n",
    "                                       (df.is_new_active == 1)])\n",
    "        \n",
    "        res_df = res_df.append(\n",
    "                pd.DataFrame([[date_range[month_idx], 'new active', n_new_active]],\n",
    "                             columns = ['log_month', 'editor_type', 'n']\n",
    "                )\n",
    "            )\n",
    "    \n",
    "        ##Number of new active editors who uploaded at least one WLE file\n",
    "        n_active_wle = len(df.loc[(df.log_month >= date_range[month_idx]) &\n",
    "                                        (df.log_month < date_range[month_idx + 1]) &\n",
    "                                        (df.is_new_active == 1) &\n",
    "                                        (df.n_wle_created > 0)])\n",
    "        \n",
    "        res_df = res_df.append(\n",
    "                pd.DataFrame([[date_range[month_idx], 'new active w/1+ WLE upload', n_active_wle]],\n",
    "                             columns = ['log_month', 'editor_type', 'n']\n",
    "                )\n",
    "            )\n",
    "    return(res_df)    "
   ]
  },
  {
   "cell_type": "code",
   "execution_count": 288,
   "metadata": {},
   "outputs": [],
   "source": [
    "commons_wle_overall_stats = get_wle_creation_stats(commons_actives_wle_creations, '2019-01-01', '2019-07-01')"
   ]
  },
  {
   "cell_type": "code",
   "execution_count": 293,
   "metadata": {},
   "outputs": [
    {
     "data": {
      "image/png": "[encoded data removed]"
     },
     "metadata": {},
     "output_type": "display_data"
    }
   ],
   "source": [
    "%%R -i commons_wle_overall_stats\n",
    "\n",
    "commons_wle_overall_stats$log_month = as.Date(commons_wle_overall_stats$log_month)\n",
    "\n",
    "ggplot(commons_wle_overall_stats,\n",
    "       aes(x = log_month, y = n, color = editor_type)) +\n",
    "theme_bw() +\n",
    "scale_y_continuous(\"Number of editors\", breaks = c(0:20)*1000) +\n",
    "scale_x_date(\"Month\") +\n",
    "ggtitle(\"Commons number of active editors with WLE uploads 2019\") +\n",
    "geom_line()"
   ]
  }
 ],
 "metadata": {
  "kernelspec": {
   "display_name": "Python 3",
   "language": "python",
   "name": "python3"
  },
  "language_info": {
   "codemirror_mode": {
    "name": "ipython",
    "version": 3
   },
   "file_extension": ".py",
   "mimetype": "text/x-python",
   "name": "python",
   "nbconvert_exporter": "python",
   "pygments_lexer": "ipython3",
   "version": "3.5.3"
  }
 },
 "nbformat": 4,
 "nbformat_minor": 2
}
