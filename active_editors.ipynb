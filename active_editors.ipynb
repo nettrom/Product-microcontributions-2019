{
 "cells": [
  {
   "cell_type": "markdown",
   "metadata": {},
   "source": [
    "# Micro-contributions and active editors\n",
    "\n",
    "We're interested in understanding to what extent users who make micro-contributions are also active editors, and to what extent these users are classified as \"new active editors\" (meaning their account on the wiki was created in the same month).\n",
    "\n",
    "We currently have three types of micro-contributions:\n",
    "\n",
    "1. Description edits on Wikidata.\n",
    "2. Caption edits on Commons.\n",
    "3. Depicts edits on Commons.\n",
    "\n",
    "So, for Wikidata and Commons, we would like to know how many active editors those wikis had over time, how many of them were making micro-contributions, how many of them made enough micro-contributions to qualify as an active editor, and lastly how many of the latter two groups of where new accounts in a given month."
   ]
  },
  {
   "cell_type": "markdown",
   "metadata": {},
   "source": [
    "The analyses in this notebook started in August 2019, focusing on the first half of 2019. A second round of analysis was done in early March 2020, looking at the second half of 2019 as well as January 2020. It has not been rewritten/reorganized to make complete sense as a single storyline. Hopefully the notes around data/graphs enables the findings to be comprehensible."
   ]
  },
  {
   "cell_type": "code",
   "execution_count": 1,
   "metadata": {},
   "outputs": [
    {
     "name": "stderr",
     "output_type": "stream",
     "text": [
      "You are using wmfdata 0.1.0 (latest).\n",
      "\n",
      "You can find the source for `wmfdata` at https://github.com/neilpquinn/wmfdata\n"
     ]
    }
   ],
   "source": [
    "import datetime as dt\n",
    "\n",
    "import pandas as pd\n",
    "import numpy as np\n",
    "\n",
    "from wmfdata import spark, mariadb\n",
    "\n",
    "from growth import utils"
   ]
  },
  {
   "cell_type": "code",
   "execution_count": 2,
   "metadata": {},
   "outputs": [],
   "source": [
    "## Load the RPython library so we can use R for graphs\n",
    "\n",
    "%load_ext rpy2.ipython"
   ]
  },
  {
   "cell_type": "code",
   "execution_count": 3,
   "metadata": {},
   "outputs": [],
   "source": [
    "%%R\n",
    "library(ggplot2)\n",
    "library(data.table)"
   ]
  },
  {
   "cell_type": "markdown",
   "metadata": {},
   "source": [
    "First, let's grab user IDs of all users who are labelled as active editors in a given month for the given wikis and date ranges associated with those wikis. Because we want something to compare with, we'll grab data for a year prior to the micro-contributions being released."
   ]
  },
  {
   "cell_type": "code",
   "execution_count": 4,
   "metadata": {},
   "outputs": [],
   "source": [
    "## based on\n",
    "## from https://github.com/wikimedia-research/Editing-movement-metrics/blob/master/queries/active_editors.sql\n",
    "## Currently working around duplicate editor data in June 2019.\n",
    "active_editors_query = '''\n",
    "WITH editor_data AS (\n",
    "  SELECT\n",
    "    CAST(month AS date) AS log_month,\n",
    "    user_id,\n",
    "    user_name,\n",
    "    SUM(content_edits) AS content_edits,\n",
    "    MAX(bot_by_group) AS bot_by_group,\n",
    "    CAST(TRUNC(MIN(user_registration), \"MONTH\") AS date) AS registration_month\n",
    "  FROM (\n",
    "      SELECT DISTINCT month, user_id, user_name, content_edits, bot_by_group, user_registration\n",
    "      FROM neilpquinn.editor_month\n",
    "      WHERE wiki = \"{wiki}\"\n",
    "      AND month BETWEEN \"{start_ts}\" AND \"{end_ts}\"\n",
    "      AND user_id != 0\n",
    "  ) AS e\n",
    "  GROUP BY month, user_id, user_name\n",
    ")\n",
    "SELECT log_month, user_id, content_edits,\n",
    "       CAST(registration_month = log_month AS int) AS is_new_active\n",
    "FROM editor_data\n",
    "WHERE\n",
    "  content_edits >= 5\n",
    "  AND NOT bot_by_group\n",
    "  AND user_name NOT REGEXP \"bot\\\\b\"\n",
    "'''"
   ]
  },
  {
   "cell_type": "code",
   "execution_count": 5,
   "metadata": {},
   "outputs": [],
   "source": [
    "wikidata_actives = spark.run(\n",
    "    active_editors_query.format(\n",
    "        wiki = \"wikidatawiki\",\n",
    "        start_ts = \"2016-01-01\",\n",
    "        end_ts = \"2020-02-01\")\n",
    ")"
   ]
  },
  {
   "cell_type": "code",
   "execution_count": 6,
   "metadata": {},
   "outputs": [],
   "source": [
    "commons_actives = spark.run(\n",
    "    active_editors_query.format(\n",
    "        wiki = \"commonswiki\",\n",
    "        start_ts = \"2018-01-01\",\n",
    "        end_ts = \"2020-02-01\")\n",
    ")"
   ]
  },
  {
   "cell_type": "code",
   "execution_count": null,
   "metadata": {},
   "outputs": [],
   "source": []
  },
  {
   "cell_type": "markdown",
   "metadata": {},
   "source": [
    "Next, we grab similar data (user ID, month, number of edits) for all micro-contributions made to the given wikis."
   ]
  },
  {
   "cell_type": "code",
   "execution_count": 7,
   "metadata": {},
   "outputs": [],
   "source": [
    "## we won't have to worry about distinguishing between bots and regular users in this case,\n",
    "## because we'll filter those out when we join with the previous datasets.\n",
    "wd_mce_query = '''\n",
    "SELECT DATE_FORMAT(event_timestamp, \"yyyy-MM-01\") AS log_month, event_user_id, count(*) AS num_micros\n",
    "FROM wmf.mediawiki_history\n",
    "WHERE snapshot = \"{snapshot}\"\n",
    "  AND wiki_db = \"wikidatawiki\"\n",
    "  AND event_timestamp >= \"{start_ts}\"\n",
    "  AND event_timestamp < \"{end_ts}\"\n",
    "  AND event_entity = \"revision\"\n",
    "  AND event_type = \"create\"\n",
    "  AND array_contains(revision_tags, \"mobile app edit\") = TRUE\n",
    "  AND event_user_id IS NOT NULL -- exclude if revdeleted\n",
    "GROUP BY DATE_FORMAT(event_timestamp, \"yyyy-MM-01\"), event_user_id\n",
    "'''"
   ]
  },
  {
   "cell_type": "markdown",
   "metadata": {},
   "source": [
    "**NOTE:** The query for micro-contributions to Commons below was updated in March 2020 to include additional types of contributions, as identified in https://github.com/wikimedia-research/SDC-metrics-2019/blob/master/T231952-part-1b.ipynb"
   ]
  },
  {
   "cell_type": "code",
   "execution_count": 8,
   "metadata": {},
   "outputs": [],
   "source": [
    "## similar query for commons\n",
    "commons_mce_query = '''\n",
    "SELECT DATE_FORMAT(event_timestamp, \"yyyy-MM-01\") AS log_month, event_user_id, count(*) AS num_micros\n",
    "FROM wmf.mediawiki_history\n",
    "WHERE snapshot = \"{snapshot}\"\n",
    "  AND wiki_db = \"commonswiki\"\n",
    "  AND event_timestamp >= \"{start_ts}\"\n",
    "  AND event_timestamp < \"{end_ts}\"\n",
    "  AND event_entity = \"revision\"\n",
    "  AND event_type = \"create\"\n",
    "  AND (\n",
    "    event_comment REGEXP \"^...wbsetlabel-(add|set|remove):\"\n",
    "    OR event_comment REGEXP \"^...wbsetclaim-(create|update):\"\n",
    "    OR event_comment REGEXP \"^...wbcreateclaim-create:\"\n",
    "    OR event_comment REGEXP \"^...wbeditentity-(update|update-languages):\"\n",
    "    OR event_comment REGEXP \"^...wbremoveclaims-(update|remove):\"\n",
    "    OR event_comment REGEXP \"^...wbsetqualifier-add:\"\n",
    "  )\n",
    "  AND event_user_id IS NOT NULL -- exclude if revdeleted\n",
    "GROUP BY DATE_FORMAT(event_timestamp, \"yyyy-MM-01\"), event_user_id\n",
    "'''"
   ]
  },
  {
   "cell_type": "code",
   "execution_count": 9,
   "metadata": {},
   "outputs": [],
   "source": [
    "wikidata_mces = spark.run(   \n",
    "    wd_mce_query.format(\n",
    "        snapshot = \"2020-02\",\n",
    "        start_ts = \"2016-01-01\",\n",
    "        end_ts = \"2020-02-01\")\n",
    ")"
   ]
  },
  {
   "cell_type": "code",
   "execution_count": 10,
   "metadata": {},
   "outputs": [],
   "source": [
    "commons_mces = spark.run(   \n",
    "    commons_mce_query.format(\n",
    "        snapshot = \"2020-02\",\n",
    "        start_ts = \"2016-01-01\",\n",
    "        end_ts = \"2020-02-01\")\n",
    ")"
   ]
  },
  {
   "cell_type": "markdown",
   "metadata": {},
   "source": [
    "Now, let's join the two datasets (using a left join), fill all missing data with zeroes, and start making some graphs."
   ]
  },
  {
   "cell_type": "code",
   "execution_count": 11,
   "metadata": {},
   "outputs": [],
   "source": [
    "## turn log month into dates\n",
    "\n",
    "wikidata_actives['log_month'] = pd.to_datetime(wikidata_actives['log_month'])\n",
    "wikidata_mces['log_month'] = pd.to_datetime(wikidata_mces['log_month'])\n",
    "commons_actives['log_month'] = pd.to_datetime(commons_actives['log_month'])\n",
    "commons_mces['log_month'] = pd.to_datetime(commons_mces['log_month'])"
   ]
  },
  {
   "cell_type": "code",
   "execution_count": 12,
   "metadata": {},
   "outputs": [],
   "source": [
    "wd_actives_full = wikidata_actives.merge(wikidata_mces,\n",
    "                                         how = 'left', left_on = ['log_month', 'user_id'],\n",
    "                                         right_on = ['log_month', 'event_user_id']).fillna(0)"
   ]
  },
  {
   "cell_type": "code",
   "execution_count": 13,
   "metadata": {},
   "outputs": [],
   "source": [
    "commons_actives_full = commons_actives.merge(commons_mces,\n",
    "                                             how = 'left', left_on = ['log_month', 'user_id'],\n",
    "                                             right_on = ['log_month', 'event_user_id']).fillna(0)"
   ]
  },
  {
   "cell_type": "code",
   "execution_count": 14,
   "metadata": {},
   "outputs": [],
   "source": [
    "## Calculate the number of content contributions with micro-contributions removed\n",
    "\n",
    "wd_actives_full['non_micro_edits'] = wd_actives_full.content_edits - wd_actives_full.num_micros\n",
    "commons_actives_full['non_micro_edits'] = commons_actives_full.content_edits - commons_actives_full.num_micros"
   ]
  },
  {
   "cell_type": "code",
   "execution_count": 15,
   "metadata": {},
   "outputs": [],
   "source": [
    "def get_active_stats(df, start_date, end_date):\n",
    "    '''\n",
    "    For the given `pandas.DataFrame` `df` containing information on number of content edits,\n",
    "    account age status (new or existing user), and number of micro-contribution edits made,\n",
    "    calculate for each month between `start_date` and `end_date` the following stats:\n",
    "    \n",
    "    * Number of active editors (all users in that month, our dataset only includes active editors)\n",
    "    * Number of active editors who made at least 1 micro-contribution\n",
    "    * Number of active editors who made 5 or more micro-contributions (meaning they made enough\n",
    "      to quality as an active editor by micro-contributions alone)\n",
    "    * Number of active editors who made at least 1 micro-contribution who were new that month\n",
    "    * Number of active editors who made 5 or more micr-contributions who were new that month.\n",
    "    '''\n",
    "\n",
    "    ## Date range from start to end:\n",
    "    date_range = pd.date_range(start_date, end_date, freq = \"MS\")\n",
    "\n",
    "    ## Long-form data frame with month, type of editor (active, active w/1+ mce, etc), and number of editors\n",
    "    res_df = pd.DataFrame(columns = ['log_month', 'editor_type', 'n'])\n",
    "    \n",
    "    for month_idx in range(len(date_range) -1): ## iterate but exclude the last month\n",
    "        ## All users are active because we filtered out non-active ones\n",
    "        n_active = len(df.loc[(df['log_month'] >= date_range[month_idx]) &\n",
    "                              (df['log_month'] < date_range[month_idx + 1])])\n",
    "        \n",
    "        res_df = res_df.append(\n",
    "                pd.DataFrame([[date_range[month_idx], 'active', n_active]],\n",
    "                             columns = ['log_month', 'editor_type', 'n']\n",
    "                )\n",
    "            )\n",
    "        \n",
    "        ## Actives who made at least one micro-contribution\n",
    "        n_mces = len(df.loc[(df['log_month'] >= date_range[month_idx]) &\n",
    "                              (df['log_month'] < date_range[month_idx + 1]) &\n",
    "                              (df['num_micros'] > 0)])\n",
    "\n",
    "        res_df = res_df.append(\n",
    "                pd.DataFrame([[date_range[month_idx], '1+ micro', n_mces]],\n",
    "                             columns = ['log_month', 'editor_type', 'n']\n",
    "                )\n",
    "            )\n",
    "        \n",
    "        ## Actives who made at least five micro-contributions\n",
    "        n_active_mces = len(df.loc[(df['log_month'] >= date_range[month_idx]) &\n",
    "                                   (df['log_month'] < date_range[month_idx + 1]) &\n",
    "                                   (df['num_micros'] >= 5)])\n",
    "\n",
    "        res_df = res_df.append(\n",
    "                pd.DataFrame([[date_range[month_idx], '5+ micro', n_active_mces]],\n",
    "                             columns = ['log_month', 'editor_type', 'n']\n",
    "                )\n",
    "            )\n",
    "        \n",
    "        ## New active editors\n",
    "        n_new_active = len(df.loc[(df['log_month'] >= date_range[month_idx]) &\n",
    "                                  (df['log_month'] < date_range[month_idx + 1]) &\n",
    "                                  (df['is_new_active'] == 1)])\n",
    "\n",
    "        res_df = res_df.append(\n",
    "                pd.DataFrame([[date_range[month_idx], 'new active', n_new_active]],\n",
    "                             columns = ['log_month', 'editor_type', 'n']\n",
    "                )\n",
    "            )\n",
    "        \n",
    "        ## New active editors w/1+ micro-contributions\n",
    "        n_new_mces = len(df.loc[(df['log_month'] >= date_range[month_idx]) &\n",
    "                                (df['log_month'] < date_range[month_idx + 1]) &\n",
    "                                (df['is_new_active'] == 1) &\n",
    "                                (df['num_micros'] > 0)])\n",
    "\n",
    "        res_df = res_df.append(\n",
    "                pd.DataFrame([[date_range[month_idx], 'new 1+ micro', n_new_mces]],\n",
    "                             columns = ['log_month', 'editor_type', 'n']\n",
    "                )\n",
    "            )\n",
    "        \n",
    "        ## New active editors w/5+ micro-contributions\n",
    "        n_new_active_mces = len(df.loc[(df['log_month'] >= date_range[month_idx]) &\n",
    "                                       (df['log_month'] < date_range[month_idx + 1]) &\n",
    "                                       (df['is_new_active'] == 1) &\n",
    "                                       (df['num_micros'] >= 5)])\n",
    "\n",
    "        res_df = res_df.append(\n",
    "                pd.DataFrame([[date_range[month_idx], 'new 5+ micro', n_new_active_mces]],\n",
    "                             columns = ['log_month', 'editor_type', 'n']\n",
    "                )\n",
    "            )\n",
    "        \n",
    "    return(res_df)    "
   ]
  },
  {
   "cell_type": "code",
   "execution_count": 16,
   "metadata": {},
   "outputs": [],
   "source": [
    "def get_corrected_stats(df, start_date, end_date):\n",
    "    '''\n",
    "    For the given `pandas.DataFrame` `df` containing information on number of content edits,\n",
    "    account age status (new or existing user), and number of micro-contribution edits made,\n",
    "    calculate for each month between `start_date` and `end_date` the following stats:\n",
    "    \n",
    "    * Number of active editors with micro-contributions removed\n",
    "    * Number of active editors who only made micro-contributions\n",
    "    * Number of new active editors with micro-contributions removed\n",
    "    * Number of new active editors who only made micro-contributions\n",
    "    '''\n",
    "\n",
    "    ## Date range from start to end:\n",
    "    date_range = pd.date_range(start_date, end_date, freq = \"MS\")\n",
    "\n",
    "    ## Long-form data frame with month, type of editor (active, active w/1+ mce, etc), and number of editors\n",
    "    res_df = pd.DataFrame(columns = ['log_month', 'editor_type', 'n'])\n",
    "    \n",
    "    for month_idx in range(len(date_range) -1): ## iterate but exclude the last month\n",
    "        ## Number of active editors with micro-contributions removed\n",
    "        n_active_wo_mces = len(df.loc[(df['log_month'] >= date_range[month_idx]) &\n",
    "                                       (df['log_month'] < date_range[month_idx + 1]) &\n",
    "                                       (df['non_micro_edits'] >= 5)])\n",
    "        \n",
    "        res_df = res_df.append(\n",
    "                pd.DataFrame([[date_range[month_idx], 'active w/o micro', n_active_wo_mces]],\n",
    "                             columns = ['log_month', 'editor_type', 'n']\n",
    "                )\n",
    "            )\n",
    "        \n",
    "        ## Number of active editors who only made micro-contributions\n",
    "        n_active_only_mces = len(df.loc[(df['log_month'] >= date_range[month_idx]) &\n",
    "                                        (df['log_month'] < date_range[month_idx + 1]) &\n",
    "                                        (df['content_edits'] == df.num_micros)])\n",
    "        \n",
    "        res_df = res_df.append(\n",
    "                pd.DataFrame([[date_range[month_idx], 'active only micro', n_active_only_mces]],\n",
    "                             columns = ['log_month', 'editor_type', 'n']\n",
    "                )\n",
    "            )\n",
    "        \n",
    "        ## Number of new active editors with micro-contributions removed\n",
    "        n_new_active_wo_mces = len(df.loc[(df['log_month'] >= date_range[month_idx]) &\n",
    "                                       (df['log_month'] < date_range[month_idx + 1]) &\n",
    "                                       (df['is_new_active'] == 1) &\n",
    "                                       (df['non_micro_edits'] >= 5)])\n",
    "        \n",
    "        res_df = res_df.append(\n",
    "                pd.DataFrame([[date_range[month_idx], 'new active w/o micro', n_new_active_wo_mces]],\n",
    "                             columns = ['log_month', 'editor_type', 'n']\n",
    "                )\n",
    "            )\n",
    "    \n",
    "        ##Number of new active editors who only made micro-contributions\n",
    "        n_active_only_mces = len(df.loc[(df['log_month'] >= date_range[month_idx]) &\n",
    "                                        (df['log_month'] < date_range[month_idx + 1]) &\n",
    "                                        (df['is_new_active'] == 1) &\n",
    "                                        (df['content_edits'] == df.num_micros)])\n",
    "        \n",
    "        res_df = res_df.append(\n",
    "                pd.DataFrame([[date_range[month_idx], 'new active only micro', n_active_only_mces]],\n",
    "                             columns = ['log_month', 'editor_type', 'n']\n",
    "                )\n",
    "            )\n",
    "    return(res_df)    "
   ]
  },
  {
   "cell_type": "code",
   "execution_count": 17,
   "metadata": {},
   "outputs": [],
   "source": [
    "wd_active_stats = get_active_stats(wd_actives_full, '2016-01-01', '2020-02-01')"
   ]
  },
  {
   "cell_type": "code",
   "execution_count": 18,
   "metadata": {},
   "outputs": [],
   "source": [
    "commons_active_stats = get_active_stats(commons_actives_full, '2018-01-01', '2020-02-01')"
   ]
  },
  {
   "cell_type": "code",
   "execution_count": 19,
   "metadata": {},
   "outputs": [],
   "source": [
    "wd_corrected_stats = get_corrected_stats(wd_actives_full, '2016-01-01', '2020-02-01')"
   ]
  },
  {
   "cell_type": "code",
   "execution_count": 20,
   "metadata": {},
   "outputs": [],
   "source": [
    "commons_corrected_stats = get_corrected_stats(commons_actives_full, '2018-01-01', '2020-02-01')"
   ]
  },
  {
   "cell_type": "code",
   "execution_count": 28,
   "metadata": {},
   "outputs": [
    {
     "data": {
      "image/png": "[encoded data removed]"
     },
     "metadata": {},
     "output_type": "display_data"
    }
   ],
   "source": [
    "%%R -i wd_active_stats\n",
    "\n",
    "wd_active_stats$log_month = as.Date(wd_active_stats$log_month)\n",
    "\n",
    "ggplot(wd_active_stats,\n",
    "       aes(x = log_month, y = n, color = editor_type)) +\n",
    "theme_bw() +\n",
    "scale_y_log10(\"Number of editors (log scale)\") +\n",
    "scale_x_date(\"Month\") +\n",
    "ggtitle(\"Wikidata number of active editors by type\") +\n",
    "geom_line()"
   ]
  },
  {
   "cell_type": "markdown",
   "metadata": {},
   "source": [
    "What does this graph tell us? Overall, we see that the number of active editors on Wikidata is fairly stable, but slowly increasing over time, reaching around 10k in more recent months. We can also see that there is a slowly increasing trend in the number of new active editors on Wikidata, and that it passed 1k in both the end of 2018 and early 2019.\n",
    "\n",
    "What we can also see is that the number of new active editors who made microcontributions is not large, it generally ends up being about 100. Those who do make microcontributions tend to make enough of those alone to become an active editor. We can also see that it is not clear that the trend is an increase in these editors.\n",
    "\n",
    "Lastly, we see that there an increase in the number of active editors over time who make micro-contributions. Because we don't see an increase in the trend of new editors, this means that these are users who have been around. I think this motivates looking into whether users who make micro-contributions are more likely to be retained."
   ]
  },
  {
   "cell_type": "code",
   "execution_count": 29,
   "metadata": {},
   "outputs": [
    {
     "data": {
      "image/png": "[encoded data removed]"
     },
     "metadata": {},
     "output_type": "display_data"
    }
   ],
   "source": [
    "%%R -i commons_active_stats\n",
    "\n",
    "commons_active_stats$log_month = as.Date(commons_active_stats$log_month)\n",
    "\n",
    "ggplot(commons_active_stats,\n",
    "       aes(x = log_month, y = n, color = editor_type)) +\n",
    "theme_bw() +\n",
    "scale_y_continuous(\"Number of editors\") +\n",
    "scale_x_date(\"Month\") +\n",
    "ggtitle(\"Commons number of active editors by type\") +\n",
    "geom_line()"
   ]
  },
  {
   "cell_type": "markdown",
   "metadata": {},
   "source": [
    "What does this graph tell us? First, we can see the overall trends of increases in May/June (Wiki Loves Earth) and September (Wiki Loves Monuments) that we expect, the former for both 2018 and 2019. We can also see that these increases correlate with increases in new active editors, meaning that we see a fair amount of new users coming to Commons that make at least 5 edits.\n",
    "\n",
    "Secondly, we see the introduction of micro-contributions in January of this year. We see that about half of the active editors make a micro-contribution in January through April, while in May and June the proportion is about two thirds. Similarly, we see new editors also come in and contribute to these numbers. Quite a number of them make at least one micro-contribution, and many of them make at least five."
   ]
  },
  {
   "cell_type": "code",
   "execution_count": 30,
   "metadata": {},
   "outputs": [
    {
     "data": {
      "text/html": [
       "<div>\n",
       "<style scoped>\n",
       "    .dataframe tbody tr th:only-of-type {\n",
       "        vertical-align: middle;\n",
       "    }\n",
       "\n",
       "    .dataframe tbody tr th {\n",
       "        vertical-align: top;\n",
       "    }\n",
       "\n",
       "    .dataframe thead th {\n",
       "        text-align: right;\n",
       "    }\n",
       "</style>\n",
       "<table border=\"1\" class=\"dataframe\">\n",
       "  <thead>\n",
       "    <tr style=\"text-align: right;\">\n",
       "      <th></th>\n",
       "      <th>log_month</th>\n",
       "      <th>editor_type</th>\n",
       "      <th>n</th>\n",
       "    </tr>\n",
       "  </thead>\n",
       "  <tbody>\n",
       "    <tr>\n",
       "      <th>0</th>\n",
       "      <td>2019-01-01</td>\n",
       "      <td>active</td>\n",
       "      <td>10624</td>\n",
       "    </tr>\n",
       "    <tr>\n",
       "      <th>0</th>\n",
       "      <td>2019-01-01</td>\n",
       "      <td>1+ micro</td>\n",
       "      <td>4756</td>\n",
       "    </tr>\n",
       "    <tr>\n",
       "      <th>0</th>\n",
       "      <td>2019-01-01</td>\n",
       "      <td>5+ micro</td>\n",
       "      <td>1958</td>\n",
       "    </tr>\n",
       "    <tr>\n",
       "      <th>0</th>\n",
       "      <td>2019-01-01</td>\n",
       "      <td>new active</td>\n",
       "      <td>2088</td>\n",
       "    </tr>\n",
       "    <tr>\n",
       "      <th>0</th>\n",
       "      <td>2019-01-01</td>\n",
       "      <td>new 1+ micro</td>\n",
       "      <td>834</td>\n",
       "    </tr>\n",
       "    <tr>\n",
       "      <th>...</th>\n",
       "      <td>...</td>\n",
       "      <td>...</td>\n",
       "      <td>...</td>\n",
       "    </tr>\n",
       "    <tr>\n",
       "      <th>0</th>\n",
       "      <td>2020-01-01</td>\n",
       "      <td>1+ micro</td>\n",
       "      <td>6899</td>\n",
       "    </tr>\n",
       "    <tr>\n",
       "      <th>0</th>\n",
       "      <td>2020-01-01</td>\n",
       "      <td>5+ micro</td>\n",
       "      <td>3922</td>\n",
       "    </tr>\n",
       "    <tr>\n",
       "      <th>0</th>\n",
       "      <td>2020-01-01</td>\n",
       "      <td>new active</td>\n",
       "      <td>2859</td>\n",
       "    </tr>\n",
       "    <tr>\n",
       "      <th>0</th>\n",
       "      <td>2020-01-01</td>\n",
       "      <td>new 1+ micro</td>\n",
       "      <td>1704</td>\n",
       "    </tr>\n",
       "    <tr>\n",
       "      <th>0</th>\n",
       "      <td>2020-01-01</td>\n",
       "      <td>new 5+ micro</td>\n",
       "      <td>873</td>\n",
       "    </tr>\n",
       "  </tbody>\n",
       "</table>\n",
       "<p>78 rows × 3 columns</p>\n",
       "</div>"
      ],
      "text/plain": [
       "    log_month   editor_type      n\n",
       "0  2019-01-01        active  10624\n",
       "0  2019-01-01      1+ micro   4756\n",
       "0  2019-01-01      5+ micro   1958\n",
       "0  2019-01-01    new active   2088\n",
       "0  2019-01-01  new 1+ micro    834\n",
       "..        ...           ...    ...\n",
       "0  2020-01-01      1+ micro   6899\n",
       "0  2020-01-01      5+ micro   3922\n",
       "0  2020-01-01    new active   2859\n",
       "0  2020-01-01  new 1+ micro   1704\n",
       "0  2020-01-01  new 5+ micro    873\n",
       "\n",
       "[78 rows x 3 columns]"
      ]
     },
     "execution_count": 30,
     "metadata": {},
     "output_type": "execute_result"
    }
   ],
   "source": [
    "## Looking at the numbers to get a sense of proportions:\n",
    "commons_active_stats.loc[commons_active_stats.log_month >= '2019-01-01']"
   ]
  },
  {
   "cell_type": "markdown",
   "metadata": {},
   "source": [
    "Let's get a sense of how the number of active contributors is affected by micro-contributions by taking them out, and also looking at number of active editors who only made micro-contributions."
   ]
  },
  {
   "cell_type": "code",
   "execution_count": 31,
   "metadata": {},
   "outputs": [
    {
     "data": {
      "image/png": "[encoded data removed]"
     },
     "metadata": {},
     "output_type": "display_data"
    }
   ],
   "source": [
    "%%R -i wd_corrected_stats\n",
    "\n",
    "wd_corrected_stats$log_month = as.Date(wd_corrected_stats$log_month)\n",
    "\n",
    "ggplot(wd_corrected_stats,\n",
    "       aes(x = log_month, y = n, color = editor_type)) +\n",
    "theme_bw() +\n",
    "scale_y_log10(\"Number of editors (log scale)\") +\n",
    "scale_x_date(\"Month\") +\n",
    "ggtitle(\"Wikidata number of active editors with corrections\") +\n",
    "geom_line()"
   ]
  },
  {
   "cell_type": "code",
   "execution_count": 32,
   "metadata": {},
   "outputs": [
    {
     "name": "stderr",
     "output_type": "stream",
     "text": [
      "R[write to console]: Saving 6.67 x 6.67 in image\n",
      "\n"
     ]
    },
    {
     "data": {
      "image/png": "[encoded data removed]"
     },
     "metadata": {},
     "output_type": "display_data"
    }
   ],
   "source": [
    "%%R -i wd_active_stats,wd_corrected_stats\n",
    "\n",
    "## Merge the two and calculate a diff between active with and without micro-contributions\n",
    "\n",
    "wd_active_stats = data.table(wd_active_stats)\n",
    "wd_corrected_stats = data.table(wd_corrected_stats)\n",
    "\n",
    "wd_both = merge(wd_active_stats[editor_type == 'active', list(log_month, n_active = n)],\n",
    "                wd_corrected_stats[editor_type == 'active w/o micro', list(log_month, n_active_nomicro = n)],\n",
    "                by = 'log_month')\n",
    "wd_both[, n_diff := n_active - n_active_nomicro]\n",
    "wd_both[, prop_diff := 100 * n_diff / n_active]\n",
    "wd_both[, log_month := as.Date(log_month)]\n",
    "\n",
    "g = ggplot(wd_both[log_month >= as.Date('2017-01-01')],\n",
    "       aes(x = log_month, y = prop_diff)) +\n",
    "theme_bw() +\n",
    "scale_y_continuous(\"Difference in %\", lim = c(0, 10), breaks = c(0:10)) +\n",
    "scale_x_date(\"Month\") +\n",
    "ggtitle(\"Wikidata difference in active editors without micro-contributions\") +\n",
    "geom_line()\n",
    "\n",
    "ggsave(g, file = \"graphs/wikidata_diff_active_wo_micro.png\")\n",
    "g"
   ]
  },
  {
   "cell_type": "markdown",
   "metadata": {},
   "source": [
    "So, for Wikidata we see that the number of new active editors who solely make micro-contributions is fairly stable over time. However, we find an increasing influence of micro-contributions on the overall number of active editors, particularly in the first half of 2019. This is also seen in the other graph above, where the number of active editors who are solely making micro-contributions is increasing over time, particularly in the past six months."
   ]
  },
  {
   "cell_type": "markdown",
   "metadata": {},
   "source": [
    "Below is an updated graph showing the proportion of active editors in Wikidata that only make contributions through the mobile apps. As we can see, this proportion grew strongly in late 2019 and early 2020."
   ]
  },
  {
   "cell_type": "code",
   "execution_count": 266,
   "metadata": {},
   "outputs": [
    {
     "data": {
      "image/png": "[encoded data removed]"
     },
     "metadata": {},
     "output_type": "display_data"
    }
   ],
   "source": [
    "%%R -i wd_active_stats,wd_corrected_stats\n",
    "\n",
    "## Merge the two and calculate the proportion of editors who _only_ make micro-contributions,\n",
    "## then plot that.\n",
    "\n",
    "## NOTE: remember that if the proportion is outside the limit set on the Y axis,\n",
    "## no data points will be plotted. So you might have to modify that value.\n",
    "\n",
    "wd_active_stats = data.table(wd_active_stats)\n",
    "wd_corrected_stats = data.table(wd_corrected_stats)\n",
    "\n",
    "wd_both = merge(wd_active_stats[editor_type == 'active', list(log_month, n_active = n)],\n",
    "                wd_corrected_stats[editor_type == 'active only micro', list(log_month, n_active_micro = n)],\n",
    "                by = 'log_month')\n",
    "wd_both[, prop_micro := 100 * n_active_micro / n_active]\n",
    "wd_both[, log_month := as.Date(log_month)]\n",
    "\n",
    "g = ggplot(wd_both[log_month >= as.Date('2017-01-01')],\n",
    "           aes(x = log_month, y = prop_micro)) +\n",
    "    theme_bw() +\n",
    "    theme(axis.title.x = element_text(size = rel(1.5)),\n",
    "          axis.text.x = element_text(size = rel(1.25)),\n",
    "          axis.title.y = element_text(size = rel(1.5)),\n",
    "          axis.text.y = element_text(size = rel(1.25))) +\n",
    "    scale_y_continuous(\"Proportion (in percent)\", lim = c(0, 7.5), breaks = c(0:10)) +\n",
    "    scale_x_date(\"Month\", date_breaks = \"1 year\", date_labels = \"%Y\") +\n",
    "    geom_line()\n",
    "\n",
    "ggsave(plot = g, file = \"graphs/wikidata_prop_active_only_microcontributions_2020.png\",\n",
    "       width = 8, height = 6, units = \"in\", dpi = \"retina\")\n",
    "g"
   ]
  },
  {
   "cell_type": "code",
   "execution_count": 126,
   "metadata": {},
   "outputs": [
    {
     "name": "stdout",
     "output_type": "stream",
     "text": [
      "     log_month n_active n_active_micro prop_micro\n",
      " 1: 2019-01-01     9728            257   2.641859\n",
      " 2: 2019-02-01     9160            247   2.696507\n",
      " 3: 2019-03-01     9900            307   3.101010\n",
      " 4: 2019-04-01     9434            298   3.158787\n",
      " 5: 2019-05-01     9822            437   4.449196\n",
      " 6: 2019-06-01     9452            433   4.581041\n",
      " 7: 2019-07-01     9809            418   4.261393\n",
      " 8: 2019-08-01     9906            413   4.169190\n",
      " 9: 2019-09-01     9466            338   3.570674\n",
      "10: 2019-10-01     9906            350   3.533212\n",
      "11: 2019-11-01    10205            529   5.183733\n",
      "12: 2019-12-01    10331            708   6.853160\n",
      "13: 2020-01-01    11028            786   7.127312\n"
     ]
    }
   ],
   "source": [
    "%%R\n",
    "\n",
    "wd_both[log_month >= '2019-01-01']"
   ]
  },
  {
   "cell_type": "markdown",
   "metadata": {},
   "source": [
    "## Micro-contributions edit and revert rate\n",
    "\n",
    "Shay pointed out that a new version of the Android app was released on Nov 26, and this version did not contain the same guardrails around Suggested Edits as previously (needed 5 non-reverted edits to get access).\n",
    "\n",
    "How did that affect average number of edits for new active editors making micro-contributions, and also the revert rate? Let's study this for the FY1920.\n",
    "\n",
    "I'll start by looking at *all* their edits in the month they were identified as a new active editor. Secondary, I might also want to look at this for their first $k$ edits, for some value of $k$. (Maybe just the first few, such as 10 or 25, 50?)"
   ]
  },
  {
   "cell_type": "code",
   "execution_count": 75,
   "metadata": {},
   "outputs": [],
   "source": [
    "edit_revert_query = '''\n",
    "SELECT DATE_FORMAT(event_timestamp, \"yyyy-MM-01\") AS log_month, event_user_id,\n",
    "       count(*) AS num_micros,\n",
    "       SUM(IF(revision_is_identity_reverted = true\n",
    "              AND revision_seconds_to_identity_revert < 60*60*48, 1, 0)) AS num_reverted\n",
    "FROM wmf.mediawiki_history\n",
    "WHERE snapshot = \"{snapshot}\"\n",
    "  AND wiki_db = \"wikidatawiki\"\n",
    "  AND event_timestamp >= \"{start_ts}\"\n",
    "  AND event_timestamp < \"{end_ts}\"\n",
    "  AND event_entity = \"revision\"\n",
    "  AND event_type = \"create\"\n",
    "  AND array_contains(revision_tags, \"mobile app edit\") = TRUE\n",
    "  AND event_user_id IS NOT NULL -- exclude if revdeleted\n",
    "GROUP BY DATE_FORMAT(event_timestamp, \"yyyy-MM-01\"), event_user_id\n",
    "'''"
   ]
  },
  {
   "cell_type": "code",
   "execution_count": 79,
   "metadata": {},
   "outputs": [],
   "source": [
    "edit_revert_rates = spark.run(edit_revert_query.format(\n",
    "        snapshot = \"2020-02\",\n",
    "        start_ts = \"2019-07-01\",\n",
    "        end_ts = \"2020-02-01\"))"
   ]
  },
  {
   "cell_type": "code",
   "execution_count": 82,
   "metadata": {},
   "outputs": [],
   "source": [
    "edit_revert_rates['log_month'] = pd.to_datetime(edit_revert_rates['log_month'])"
   ]
  },
  {
   "cell_type": "code",
   "execution_count": 86,
   "metadata": {},
   "outputs": [],
   "source": [
    "## Merge with active users\n",
    "\n",
    "edit_reverts_full = (wikidata_actives.loc[wikidata_actives['log_month'] >= '2019-07-01']\n",
    "                     .merge(edit_revert_rates,\n",
    "                            how = 'left', left_on = ['log_month', 'user_id'],\n",
    "                            right_on = ['log_month', 'event_user_id'])).fillna(0)"
   ]
  },
  {
   "cell_type": "code",
   "execution_count": 88,
   "metadata": {},
   "outputs": [],
   "source": [
    "## Calculate revert rate\n",
    "edit_reverts_full['revert_rate'] = edit_reverts_full['num_reverted'] / edit_reverts_full['num_micros']"
   ]
  },
  {
   "cell_type": "code",
   "execution_count": null,
   "metadata": {},
   "outputs": [],
   "source": [
    "edit_reverts_full.loc[edit_reverts_full['content_edits'] == edit_reverts_full['num_micros']]"
   ]
  },
  {
   "cell_type": "code",
   "execution_count": 178,
   "metadata": {},
   "outputs": [],
   "source": [
    "## Aggregate across month, split by new/returning, and calculate average edit rate and revert rate\n",
    "## We're only concerned about users who only made micro-contributions.\n",
    "\n",
    "edit_reverts_agg = (edit_reverts_full.loc[edit_reverts_full['content_edits'] == edit_reverts_full['num_micros']]\n",
    "                    .groupby(['log_month', 'is_new_active'])\n",
    "                    .agg({'user_id' : 'count', 'num_micros' : 'mean', 'num_reverted' : 'mean',\n",
    "                          'revert_rate' : 'mean'}).reset_index())"
   ]
  },
  {
   "cell_type": "code",
   "execution_count": null,
   "metadata": {},
   "outputs": [],
   "source": [
    "edit_reverts_agg"
   ]
  },
  {
   "cell_type": "markdown",
   "metadata": {},
   "source": [
    "Calculate mean, median, and IQR for the revert rate and plot those? Thing is, the size of the distribution has changed so much, so the mean no longer makes as much sense. Or does it?\n",
    "\n",
    "Yeah, I want some error bars on these measurements or something, to show what the spread is."
   ]
  },
  {
   "cell_type": "code",
   "execution_count": 166,
   "metadata": {},
   "outputs": [
    {
     "data": {
      "image/png": "[encoded data removed]"
     },
     "metadata": {},
     "output_type": "display_data"
    }
   ],
   "source": [
    "%%R -i edit_reverts_agg\n",
    "\n",
    "edit_reverts_agg = data.table(edit_reverts_agg)\n",
    "edit_reverts_agg[, log_month := as.Date(log_month)]\n",
    "edit_reverts_agg[, log_month_name := ordered(\n",
    "    strftime(log_month, \"%b\"),\n",
    "    c(\"Jul\", \"Aug\", \"Sep\", \"Oct\", \"Nov\", \"Dec\",\n",
    "      \"Jan\", \"Feb\", \"Mar\", \"Apr\", \"May\", \"Jun\"))]\n",
    "\n",
    "edit_reverts_agg[, active_type := factor(is_new_active, levels = c(0, 1), labels = c(\"returning\", \"new\"))]\n",
    "\n",
    "g = ggplot(edit_reverts_agg[log_month < '2020-02-01'],\n",
    "       aes(x = log_month, y = 100 * revert_rate)) +\n",
    "theme_bw() +\n",
    "scale_y_continuous(\"Revert rate\", limits = c(0, 18)) +\n",
    "scale_x_date(\"Month\", date_breaks = \"1 month\", date_labels = \"%b\") +\n",
    "facet_grid(active_type ~ .) +\n",
    "geom_line()\n",
    "\n",
    "#ggsave(plot = g, file = \"graphs/commons_active_editors_micros_1920_split.png\",\n",
    "#       width = 8, height = 6, units = \"in\", dpi = \"retina\")\n",
    "g"
   ]
  },
  {
   "cell_type": "code",
   "execution_count": 121,
   "metadata": {},
   "outputs": [],
   "source": [
    "%%R\n",
    "## From http://www.cookbook-r.com/Graphs/Plotting_means_and_error_bars_(ggplot2)/\n",
    "\n",
    "## Gives count, mean, standard deviation, standard error of the mean, and confidence interval (default 95%).\n",
    "##   data: a data frame.\n",
    "##   measurevar: the name of a column that contains the variable to be summariezed\n",
    "##   groupvars: a vector containing names of columns that contain grouping variables\n",
    "##   na.rm: a boolean that indicates whether to ignore NA's\n",
    "##   conf.interval: the percent range of the confidence interval (default is 95%)\n",
    "summarySE <- function(data=NULL, measurevar, groupvars=NULL, na.rm=FALSE,\n",
    "                      conf.interval=.95, .drop=TRUE) {\n",
    "    library(plyr)\n",
    "\n",
    "    # New version of length which can handle NA's: if na.rm==T, don't count them\n",
    "    length2 <- function (x, na.rm=FALSE) {\n",
    "        if (na.rm) sum(!is.na(x))\n",
    "        else       length(x)\n",
    "    }\n",
    "\n",
    "    # This does the summary. For each group's data frame, return a vector with\n",
    "    # N, mean, and sd\n",
    "    datac <- ddply(data, groupvars, .drop=.drop,\n",
    "      .fun = function(xx, col) {\n",
    "        c(N    = length2(xx[[col]], na.rm=na.rm),\n",
    "          mean = mean   (xx[[col]], na.rm=na.rm),\n",
    "          sd   = sd     (xx[[col]], na.rm=na.rm)\n",
    "        )\n",
    "      },\n",
    "      measurevar\n",
    "    )\n",
    "\n",
    "    # Rename the \"mean\" column    \n",
    "    datac <- rename(datac, c(\"mean\" = measurevar))\n",
    "\n",
    "    datac$se <- datac$sd / sqrt(datac$N)  # Calculate standard error of the mean\n",
    "\n",
    "    # Confidence interval multiplier for standard error\n",
    "    # Calculate t-statistic for confidence interval: \n",
    "    # e.g., if conf.interval is .95, use .975 (above/below), and use df=N-1\n",
    "    ciMult <- qt(conf.interval/2 + .5, datac$N-1)\n",
    "    datac$ci <- datac$se * ciMult\n",
    "\n",
    "    return(datac)\n",
    "}"
   ]
  },
  {
   "cell_type": "code",
   "execution_count": 168,
   "metadata": {},
   "outputs": [],
   "source": [
    "%%R -i edit_reverts_full\n",
    "\n",
    "edit_reverts_full$active_type = factor(edit_reverts_full$is_new_active,\n",
    "                                        levels = c(0, 1), labels = c(\"returning\", \"new\"))\n",
    "edits_reverts_summ = summarySE(\n",
    "    subset(edit_reverts_full, content_edits == num_micros),\n",
    "    measurevar = \"revert_rate\", groupvars  = c(\"log_month\", \"active_type\"))"
   ]
  },
  {
   "cell_type": "code",
   "execution_count": 172,
   "metadata": {},
   "outputs": [
    {
     "data": {
      "image/png": "[encoded data removed]"
     },
     "metadata": {},
     "output_type": "display_data"
    }
   ],
   "source": [
    "%%R\n",
    "\n",
    "edits_reverts_summ$log_month = as.Date(edits_reverts_summ$log_month)\n",
    "\n",
    "ggplot(edits_reverts_summ, aes(x = log_month, y = 100 * revert_rate)) + \n",
    "    theme_bw() +\n",
    "    scale_y_continuous(\"Revert rate\", limits = c (0, 25)) +\n",
    "    scale_x_date(\"Month\", date_breaks = \"1 month\", date_labels = \"%b\") +\n",
    "    facet_grid(active_type ~ .) +\n",
    "    geom_errorbar(aes(ymin = 100 * (revert_rate - se), ymax = 100 * (revert_rate + se)), width = 5) +\n",
    "    geom_line() +\n",
    "    geom_point()"
   ]
  },
  {
   "cell_type": "markdown",
   "metadata": {},
   "source": [
    "What's the median and IQR for revert_rate?"
   ]
  },
  {
   "cell_type": "code",
   "execution_count": 236,
   "metadata": {},
   "outputs": [
    {
     "data": {
      "text/html": [
       "<div>\n",
       "<style scoped>\n",
       "    .dataframe tbody tr th:only-of-type {\n",
       "        vertical-align: middle;\n",
       "    }\n",
       "\n",
       "    .dataframe tbody tr th {\n",
       "        vertical-align: top;\n",
       "    }\n",
       "\n",
       "    .dataframe thead th {\n",
       "        text-align: right;\n",
       "    }\n",
       "</style>\n",
       "<table border=\"1\" class=\"dataframe\">\n",
       "  <thead>\n",
       "    <tr style=\"text-align: right;\">\n",
       "      <th></th>\n",
       "      <th></th>\n",
       "      <th>num_micros</th>\n",
       "      <th>revert_rate</th>\n",
       "    </tr>\n",
       "    <tr>\n",
       "      <th>log_month</th>\n",
       "      <th>is_new_active</th>\n",
       "      <th></th>\n",
       "      <th></th>\n",
       "    </tr>\n",
       "  </thead>\n",
       "  <tbody>\n",
       "    <tr>\n",
       "      <th rowspan=\"2\" valign=\"top\">2019-07-01</th>\n",
       "      <th>0.0</th>\n",
       "      <td>12.0</td>\n",
       "      <td>0.0</td>\n",
       "    </tr>\n",
       "    <tr>\n",
       "      <th>1.0</th>\n",
       "      <td>10.5</td>\n",
       "      <td>0.0</td>\n",
       "    </tr>\n",
       "    <tr>\n",
       "      <th rowspan=\"2\" valign=\"top\">2019-08-01</th>\n",
       "      <th>0.0</th>\n",
       "      <td>13.0</td>\n",
       "      <td>0.0</td>\n",
       "    </tr>\n",
       "    <tr>\n",
       "      <th>1.0</th>\n",
       "      <td>8.0</td>\n",
       "      <td>0.0</td>\n",
       "    </tr>\n",
       "    <tr>\n",
       "      <th rowspan=\"2\" valign=\"top\">2019-09-01</th>\n",
       "      <th>0.0</th>\n",
       "      <td>11.0</td>\n",
       "      <td>0.0</td>\n",
       "    </tr>\n",
       "    <tr>\n",
       "      <th>1.0</th>\n",
       "      <td>8.0</td>\n",
       "      <td>0.0</td>\n",
       "    </tr>\n",
       "    <tr>\n",
       "      <th rowspan=\"2\" valign=\"top\">2019-10-01</th>\n",
       "      <th>0.0</th>\n",
       "      <td>10.0</td>\n",
       "      <td>0.0</td>\n",
       "    </tr>\n",
       "    <tr>\n",
       "      <th>1.0</th>\n",
       "      <td>10.0</td>\n",
       "      <td>0.0</td>\n",
       "    </tr>\n",
       "    <tr>\n",
       "      <th rowspan=\"2\" valign=\"top\">2019-11-01</th>\n",
       "      <th>0.0</th>\n",
       "      <td>12.0</td>\n",
       "      <td>0.0</td>\n",
       "    </tr>\n",
       "    <tr>\n",
       "      <th>1.0</th>\n",
       "      <td>10.0</td>\n",
       "      <td>0.0</td>\n",
       "    </tr>\n",
       "    <tr>\n",
       "      <th rowspan=\"2\" valign=\"top\">2019-12-01</th>\n",
       "      <th>0.0</th>\n",
       "      <td>12.0</td>\n",
       "      <td>0.0</td>\n",
       "    </tr>\n",
       "    <tr>\n",
       "      <th>1.0</th>\n",
       "      <td>12.0</td>\n",
       "      <td>0.0</td>\n",
       "    </tr>\n",
       "    <tr>\n",
       "      <th rowspan=\"2\" valign=\"top\">2020-01-01</th>\n",
       "      <th>0.0</th>\n",
       "      <td>12.0</td>\n",
       "      <td>0.0</td>\n",
       "    </tr>\n",
       "    <tr>\n",
       "      <th>1.0</th>\n",
       "      <td>13.0</td>\n",
       "      <td>0.0</td>\n",
       "    </tr>\n",
       "  </tbody>\n",
       "</table>\n",
       "</div>"
      ],
      "text/plain": [
       "                          num_micros  revert_rate\n",
       "log_month  is_new_active                         \n",
       "2019-07-01 0.0                  12.0          0.0\n",
       "           1.0                  10.5          0.0\n",
       "2019-08-01 0.0                  13.0          0.0\n",
       "           1.0                   8.0          0.0\n",
       "2019-09-01 0.0                  11.0          0.0\n",
       "           1.0                   8.0          0.0\n",
       "2019-10-01 0.0                  10.0          0.0\n",
       "           1.0                  10.0          0.0\n",
       "2019-11-01 0.0                  12.0          0.0\n",
       "           1.0                  10.0          0.0\n",
       "2019-12-01 0.0                  12.0          0.0\n",
       "           1.0                  12.0          0.0\n",
       "2020-01-01 0.0                  12.0          0.0\n",
       "           1.0                  13.0          0.0"
      ]
     },
     "execution_count": 236,
     "metadata": {},
     "output_type": "execute_result"
    }
   ],
   "source": [
    "## Aggregate across month, split by new/returning, and calculate average edit rate and revert rate\n",
    "\n",
    "(edit_reverts_full.loc[edit_reverts_full['content_edits'] == edit_reverts_full['num_micros']]\n",
    " .groupby(['log_month', 'is_new_active'])['num_micros', 'revert_rate']\n",
    " .quantile(0.5))"
   ]
  },
  {
   "cell_type": "markdown",
   "metadata": {},
   "source": [
    "One of the challenges here is the size of the population. The number of users above the 90th percentile before November is like 10 users. In January, they were 30. The top quartile was maybe 25 users, then now they're 75. While I wouldn't be surprised if that's not really many on the scale of Wikidata on the whole, it's a meaningful difference.\n",
    "\n",
    "Also, this is a key difference between this analysis and Shay's. They're looking at *all* new users from Nov 26 onwards, we're only looking at those who made at least 5+ edits, and where all of those edits were app edits. So any user who made <5 edits, and perhaps got reverted, are not part of my analysis."
   ]
  },
  {
   "cell_type": "markdown",
   "metadata": {},
   "source": [
    "## Removing micro-contribution edits on Commons\n",
    "\n",
    "Let's make the same investigation for Commons as we did initially for Wikidata, taking out the micro-contributions."
   ]
  },
  {
   "cell_type": "code",
   "execution_count": 155,
   "metadata": {},
   "outputs": [
    {
     "data": {
      "image/png": "[encoded data removed]"
     },
     "metadata": {},
     "output_type": "display_data"
    }
   ],
   "source": [
    "%%R -i commons_corrected_stats\n",
    "\n",
    "commons_corrected_stats$log_month = as.Date(commons_corrected_stats$log_month)\n",
    "\n",
    "ggplot(commons_corrected_stats,\n",
    "       aes(x = log_month, y = n, color = editor_type)) +\n",
    "theme_bw() +\n",
    "scale_y_log10(\"Number of editors (log scale)\") +\n",
    "scale_x_date(\"Month\") +\n",
    "ggtitle(\"Wikimedia Commons number of active editors with corrections\") +\n",
    "geom_line()"
   ]
  },
  {
   "cell_type": "code",
   "execution_count": 156,
   "metadata": {},
   "outputs": [
    {
     "data": {
      "text/html": [
       "<div>\n",
       "<style scoped>\n",
       "    .dataframe tbody tr th:only-of-type {\n",
       "        vertical-align: middle;\n",
       "    }\n",
       "\n",
       "    .dataframe tbody tr th {\n",
       "        vertical-align: top;\n",
       "    }\n",
       "\n",
       "    .dataframe thead th {\n",
       "        text-align: right;\n",
       "    }\n",
       "</style>\n",
       "<table border=\"1\" class=\"dataframe\">\n",
       "  <thead>\n",
       "    <tr style=\"text-align: right;\">\n",
       "      <th></th>\n",
       "      <th>log_month</th>\n",
       "      <th>editor_type</th>\n",
       "      <th>n</th>\n",
       "    </tr>\n",
       "  </thead>\n",
       "  <tbody>\n",
       "    <tr>\n",
       "      <th>0</th>\n",
       "      <td>2019-11-01</td>\n",
       "      <td>new active w/o micro</td>\n",
       "      <td>1977</td>\n",
       "    </tr>\n",
       "    <tr>\n",
       "      <th>0</th>\n",
       "      <td>2019-11-01</td>\n",
       "      <td>new active only micro</td>\n",
       "      <td>83</td>\n",
       "    </tr>\n",
       "    <tr>\n",
       "      <th>0</th>\n",
       "      <td>2019-12-01</td>\n",
       "      <td>active w/o micro</td>\n",
       "      <td>9144</td>\n",
       "    </tr>\n",
       "    <tr>\n",
       "      <th>0</th>\n",
       "      <td>2019-12-01</td>\n",
       "      <td>active only micro</td>\n",
       "      <td>372</td>\n",
       "    </tr>\n",
       "    <tr>\n",
       "      <th>0</th>\n",
       "      <td>2019-12-01</td>\n",
       "      <td>new active w/o micro</td>\n",
       "      <td>1797</td>\n",
       "    </tr>\n",
       "    <tr>\n",
       "      <th>0</th>\n",
       "      <td>2019-12-01</td>\n",
       "      <td>new active only micro</td>\n",
       "      <td>127</td>\n",
       "    </tr>\n",
       "    <tr>\n",
       "      <th>0</th>\n",
       "      <td>2020-01-01</td>\n",
       "      <td>active w/o micro</td>\n",
       "      <td>9579</td>\n",
       "    </tr>\n",
       "    <tr>\n",
       "      <th>0</th>\n",
       "      <td>2020-01-01</td>\n",
       "      <td>active only micro</td>\n",
       "      <td>397</td>\n",
       "    </tr>\n",
       "    <tr>\n",
       "      <th>0</th>\n",
       "      <td>2020-01-01</td>\n",
       "      <td>new active w/o micro</td>\n",
       "      <td>1886</td>\n",
       "    </tr>\n",
       "    <tr>\n",
       "      <th>0</th>\n",
       "      <td>2020-01-01</td>\n",
       "      <td>new active only micro</td>\n",
       "      <td>177</td>\n",
       "    </tr>\n",
       "  </tbody>\n",
       "</table>\n",
       "</div>"
      ],
      "text/plain": [
       "   log_month            editor_type     n\n",
       "0 2019-11-01   new active w/o micro  1977\n",
       "0 2019-11-01  new active only micro    83\n",
       "0 2019-12-01       active w/o micro  9144\n",
       "0 2019-12-01      active only micro   372\n",
       "0 2019-12-01   new active w/o micro  1797\n",
       "0 2019-12-01  new active only micro   127\n",
       "0 2020-01-01       active w/o micro  9579\n",
       "0 2020-01-01      active only micro   397\n",
       "0 2020-01-01   new active w/o micro  1886\n",
       "0 2020-01-01  new active only micro   177"
      ]
     },
     "execution_count": 156,
     "metadata": {},
     "output_type": "execute_result"
    }
   ],
   "source": [
    "commons_corrected_stats.tail(10)"
   ]
  },
  {
   "cell_type": "code",
   "execution_count": 239,
   "metadata": {},
   "outputs": [
    {
     "data": {
      "text/plain": [
       "0.38638454461821525"
      ]
     },
     "execution_count": 239,
     "metadata": {},
     "output_type": "execute_result"
    }
   ],
   "source": [
    "## what's the percentage?\n",
    "100 * 42 / 10870"
   ]
  },
  {
   "cell_type": "code",
   "execution_count": 157,
   "metadata": {},
   "outputs": [
    {
     "data": {
      "image/png": "[encoded data removed]"
     },
     "metadata": {},
     "output_type": "display_data"
    }
   ],
   "source": [
    "%%R -i commons_active_stats,commons_corrected_stats\n",
    "\n",
    "## Merge the two and calculate a diff between active with and without micro-contributions\n",
    "\n",
    "commons_active_stats = data.table(commons_active_stats)\n",
    "commons_corrected_stats = data.table(commons_corrected_stats)\n",
    "\n",
    "commons_both = merge(commons_active_stats[editor_type == 'active', list(log_month, n_active = n)],\n",
    "                commons_corrected_stats[editor_type == 'active w/o micro', list(log_month, n_active_nomicro = n)],\n",
    "                by = 'log_month')\n",
    "commons_both[, n_diff := n_active - n_active_nomicro]\n",
    "commons_both[, prop_diff := 100 * n_diff / n_active]\n",
    "commons_both[, log_month := as.Date(log_month)]\n",
    "\n",
    "ggplot(commons_both[log_month >= as.Date('2019-01-01')],\n",
    "       aes(x = log_month, y = prop_diff)) +\n",
    "theme_bw() +\n",
    "scale_y_continuous(\"Difference in %\", lim = c(0, 25)) +\n",
    "scale_x_date(\"Month\") +\n",
    "ggtitle(\"Wikimedia Commons difference in active editors without micro-contributions\") +\n",
    "geom_line()"
   ]
  },
  {
   "cell_type": "markdown",
   "metadata": {},
   "source": [
    "What we see on Commons are stark differences compared to what we've previously seen. First, the number of active editors when taking micro-contributions out is fairly stable, around 10,000. The increase in May/June that we've seen before and associated with Wiki Loves Earth goes away. Secondly, we see that micro-contributions are not what active users on Commons do, the number of new users who only make those contributions is very small, and the overall number is also less than 1% of the total.\n",
    "\n",
    "The second graph tells a very different story, where we see the difference in proportions between active editors depending on whether we count micro-contributions or not. Here, we see that in May and June, the difference is 23% lower if we take those contributions out. We can also see that this proportion was lower before May and June when WLE ran, prior to that the range is 9–15%. That is still a substantial difference, but nowhere as strong as for May and June.\n",
    "\n",
    "It's also worth noticing that the number of active editors on Wikidata and Commons is roughly comparable in some of these graphs. For example in both of the corrected ones, the number of active editors is around 10,000."
   ]
  },
  {
   "cell_type": "code",
   "execution_count": 161,
   "metadata": {},
   "outputs": [
    {
     "name": "stdout",
     "output_type": "stream",
     "text": [
      "     log_month n_active n_active_nomicro n_diff prop_diff\n",
      " 1: 2018-01-01     9091             9091      0  0.000000\n",
      " 2: 2018-02-01     8439             8439      0  0.000000\n",
      " 3: 2018-03-01     9246             9246      0  0.000000\n",
      " 4: 2018-04-01     9079             9079      0  0.000000\n",
      " 5: 2018-05-01    11370            11370      0  0.000000\n",
      " 6: 2018-06-01     9914             9914      0  0.000000\n",
      " 7: 2018-07-01     8840             8840      0  0.000000\n",
      " 8: 2018-08-01     9202             9202      0  0.000000\n",
      " 9: 2018-09-01    14275            14275      0  0.000000\n",
      "10: 2018-10-01    10230            10230      0  0.000000\n",
      "11: 2018-11-01     9112             9112      0  0.000000\n",
      "12: 2018-12-01     8661             8661      0  0.000000\n",
      "13: 2019-01-01    10624             9708    916  8.621988\n",
      "14: 2019-02-01    11613             9977   1636 14.087660\n",
      "15: 2019-03-01    11424            10016   1408 12.324930\n",
      "16: 2019-04-01    10577             9317   1260 11.912641\n",
      "17: 2019-05-01    15499            12087   3412 22.014324\n",
      "18: 2019-06-01    14078            11036   3042 21.608183\n",
      "19: 2019-07-01    11700             9740   1960 16.752137\n",
      "20: 2019-08-01    11773             9744   2029 17.234350\n",
      "21: 2019-09-01    14936            12593   2343 15.686931\n",
      "22: 2019-10-01    11821             9735   2086 17.646561\n",
      "23: 2019-11-01    12077             9537   2540 21.031713\n",
      "24: 2019-12-01    11626             9144   2482 21.348701\n",
      "25: 2020-01-01    12070             9579   2491 20.637945\n",
      "     log_month n_active n_active_nomicro n_diff prop_diff\n"
     ]
    }
   ],
   "source": [
    "%%R\n",
    "\n",
    "commons_both"
   ]
  },
  {
   "cell_type": "markdown",
   "metadata": {},
   "source": [
    "## Commons – Active micro-contributors\n",
    "\n",
    "We repeat the analysis we did for Wikidata, but look at users who only make SDC edits."
   ]
  },
  {
   "cell_type": "code",
   "execution_count": 238,
   "metadata": {},
   "outputs": [
    {
     "data": {
      "text/html": [
       "<div>\n",
       "<style scoped>\n",
       "    .dataframe tbody tr th:only-of-type {\n",
       "        vertical-align: middle;\n",
       "    }\n",
       "\n",
       "    .dataframe tbody tr th {\n",
       "        vertical-align: top;\n",
       "    }\n",
       "\n",
       "    .dataframe thead th {\n",
       "        text-align: right;\n",
       "    }\n",
       "</style>\n",
       "<table border=\"1\" class=\"dataframe\">\n",
       "  <thead>\n",
       "    <tr style=\"text-align: right;\">\n",
       "      <th></th>\n",
       "      <th>log_month</th>\n",
       "      <th>editor_type</th>\n",
       "      <th>n</th>\n",
       "    </tr>\n",
       "  </thead>\n",
       "  <tbody>\n",
       "    <tr>\n",
       "      <th>0</th>\n",
       "      <td>2018-01-01</td>\n",
       "      <td>active w/o micro</td>\n",
       "      <td>9091</td>\n",
       "    </tr>\n",
       "    <tr>\n",
       "      <th>0</th>\n",
       "      <td>2018-01-01</td>\n",
       "      <td>active only micro</td>\n",
       "      <td>0</td>\n",
       "    </tr>\n",
       "    <tr>\n",
       "      <th>0</th>\n",
       "      <td>2018-01-01</td>\n",
       "      <td>new active w/o micro</td>\n",
       "      <td>1620</td>\n",
       "    </tr>\n",
       "    <tr>\n",
       "      <th>0</th>\n",
       "      <td>2018-01-01</td>\n",
       "      <td>new active only micro</td>\n",
       "      <td>0</td>\n",
       "    </tr>\n",
       "    <tr>\n",
       "      <th>0</th>\n",
       "      <td>2018-02-01</td>\n",
       "      <td>active w/o micro</td>\n",
       "      <td>8439</td>\n",
       "    </tr>\n",
       "  </tbody>\n",
       "</table>\n",
       "</div>"
      ],
      "text/plain": [
       "   log_month            editor_type     n\n",
       "0 2018-01-01       active w/o micro  9091\n",
       "0 2018-01-01      active only micro     0\n",
       "0 2018-01-01   new active w/o micro  1620\n",
       "0 2018-01-01  new active only micro     0\n",
       "0 2018-02-01       active w/o micro  8439"
      ]
     },
     "execution_count": 238,
     "metadata": {},
     "output_type": "execute_result"
    }
   ],
   "source": [
    "commons_corrected_stats.head()"
   ]
  },
  {
   "cell_type": "markdown",
   "metadata": {},
   "source": [
    "The graph below is a graph of the proportion of active editors on Commons that solely made SDC contributions, similar to the one we previously made for app edits on Wikidata."
   ]
  },
  {
   "cell_type": "code",
   "execution_count": 264,
   "metadata": {},
   "outputs": [
    {
     "data": {
      "image/png": "[encoded data removed]"
     },
     "metadata": {},
     "output_type": "display_data"
    }
   ],
   "source": [
    "%%R -i commons_active_stats,commons_corrected_stats\n",
    "\n",
    "## Merge the two and calculate the proportion of editors who _only_ make micro-contributions,\n",
    "## then plot that.\n",
    "\n",
    "## NOTE: remember that if the proportion is outside the limit set on the Y axis,\n",
    "## no data points will be plotted. So you might have to modify that value.\n",
    "\n",
    "commons_active_stats = data.table(commons_active_stats)\n",
    "commons_corrected_stats = data.table(commons_corrected_stats)\n",
    "\n",
    "commons_both = merge(commons_active_stats[editor_type == 'active', list(log_month, n_active = n)],\n",
    "                commons_corrected_stats[editor_type == 'active only micro', list(log_month, n_active_micro = n)],\n",
    "                by = 'log_month')\n",
    "commons_both[, prop_micro := 100 * n_active_micro / n_active]\n",
    "commons_both[, log_month := as.Date(log_month)]\n",
    "\n",
    "g = ggplot(commons_both[log_month >= as.Date('2019-01-01')],\n",
    "           aes(x = log_month, y = prop_micro)) +\n",
    "    theme_bw() +\n",
    "    theme(axis.title.x = element_text(size = rel(1.5)),\n",
    "          axis.text.x = element_text(size = rel(1.25)),\n",
    "          axis.title.y = element_text(size = rel(1.5)),\n",
    "          axis.text.y = element_text(size = rel(1.25))) +\n",
    "    scale_y_continuous(\"Proportion (in percent)\", lim = c(0, 4), breaks = c(0:10)) +\n",
    "    scale_x_date(\"Month\", breaks = as.Date(c('2019-01-01', '2019-04-01', '2019-07-01',\n",
    "                                             '2019-10-01', '2020-01-01')),\n",
    "                 date_labels = \"%b %Y\", expand = c(0, 25)) +\n",
    "    geom_line()\n",
    "\n",
    "ggsave(plot = g, file = \"graphs/commons_prop_active_only_microcontributions_2020.png\",\n",
    "       width = 8, height = 6, units = \"in\", dpi = \"retina\")\n",
    "g"
   ]
  },
  {
   "cell_type": "code",
   "execution_count": 265,
   "metadata": {},
   "outputs": [
    {
     "name": "stdout",
     "output_type": "stream",
     "text": [
      "     log_month n_active n_active_micro prop_micro\n",
      " 1: 2018-01-01     9091              0  0.0000000\n",
      " 2: 2018-02-01     8439              0  0.0000000\n",
      " 3: 2018-03-01     9246              0  0.0000000\n",
      " 4: 2018-04-01     9079              0  0.0000000\n",
      " 5: 2018-05-01    11370              0  0.0000000\n",
      " 6: 2018-06-01     9914              0  0.0000000\n",
      " 7: 2018-07-01     8840              0  0.0000000\n",
      " 8: 2018-08-01     9202              0  0.0000000\n",
      " 9: 2018-09-01    14275              0  0.0000000\n",
      "10: 2018-10-01    10230              0  0.0000000\n",
      "11: 2018-11-01     9112              0  0.0000000\n",
      "12: 2018-12-01     8661              0  0.0000000\n",
      "13: 2019-01-01    10624             23  0.2164910\n",
      "14: 2019-02-01    11613             17  0.1463877\n",
      "15: 2019-03-01    11424             17  0.1488095\n",
      "16: 2019-04-01    10577             51  0.4821783\n",
      "17: 2019-05-01    15499             40  0.2580812\n",
      "18: 2019-06-01    14078             45  0.3196477\n",
      "19: 2019-07-01    11700             57  0.4871795\n",
      "20: 2019-08-01    11773            213  1.8092245\n",
      "21: 2019-09-01    14936            175  1.1716658\n",
      "22: 2019-10-01    11821            179  1.5142543\n",
      "23: 2019-11-01    12077            332  2.7490271\n",
      "24: 2019-12-01    11626            372  3.1997248\n",
      "25: 2020-01-01    12070            397  3.2891466\n",
      "     log_month n_active n_active_micro prop_micro\n"
     ]
    }
   ],
   "source": [
    "%%R\n",
    "\n",
    "commons_both"
   ]
  },
  {
   "cell_type": "markdown",
   "metadata": {},
   "source": [
    "## Impact of WLE and WLP and WLM\n",
    "\n",
    "The impact of Wiki Loves Earth and Wiki Loves Pride and Wiki Loves Monuments:\n",
    "\n",
    "1. What is the number of active editors if we remove all WLE/WLP activity?\n",
    "2. What is the number of active editors who uploaded WLE/WLP contributions?\n",
    "\n",
    "To answer this, we'll use the WLE and WLP categories on Commons to identify pages within the scope of those campaigns. Because the focus of the campaigns is the multimedia content uploaded, we'll restrict the scope to the File namespace. This means that coordinating activity around these (e.g. discussions on talk pages, or updating of campaign pages) will count as \"normal\" edits.\n",
    "\n",
    "For Wiki Loves Earth, we will use any files in the \"Wiki Loves Earth 2019\" category, as well as the category for all images named \"Images from Wiki Loves Earth 2019\". For Wiki Loves Pride, we'll use all images in the category \"Wiki Loves Pride 2019\".\n",
    "\n",
    "As we did for micro-contributions, we'll count monthly edits by users to these files and label them as `earth_edits` and `pride_edits`. That will then allow us to take either or both out from our measurements.\n",
    "\n",
    "To identify who uploaded this content, we'll grab the page ID of all files uploaded to commons in May and June from the Data Lake and intersect it with pages in those categories."
   ]
  },
  {
   "cell_type": "code",
   "execution_count": 203,
   "metadata": {},
   "outputs": [],
   "source": [
    "## monthly edits per user to files in WLE/WLP categories\n",
    "\n",
    "## Note: don't forget to join with the actor table too, because that's where the actual user ID is.\n",
    "\n",
    "## FIXME: add DISTINCT so that we don't count a page that's in both categories multiple times?\n",
    "\n",
    "category_count_query = '''\n",
    "SELECT DATE_FORMAT(TIMESTAMP(rev_timestamp), \"%Y-%m-01\") AS log_month,\n",
    "       actor_user AS user_id, count(*) AS {count_name}\n",
    "FROM categorylinks\n",
    "JOIN page\n",
    "ON cl_from = page_id\n",
    "JOIN revision\n",
    "ON cl_from = rev_page\n",
    "JOIN revision_actor_temp\n",
    "ON rev_id = revactor_rev\n",
    "JOIN actor\n",
    "ON revactor_actor = actor_id\n",
    "WHERE cl_to IN ({category_list})\n",
    "AND page_namespace = 6\n",
    "AND rev_timestamp >= \"{start_timestamp}\"\n",
    "AND rev_timestamp < \"{end_timestamp}\"\n",
    "AND actor_user > 0\n",
    "GROUP BY log_month, user_id\n",
    "'''\n",
    "\n",
    "earth_categories = [\"Wiki Loves Earth 2019\", \"Images from Wiki Loves Earth 2019\"]\n",
    "pride_categories = [\"Wiki Loves Pride 2019\"]\n",
    "mon_categories = [\"Wiki Loves Monuments 2019\", \"Images from Wiki Loves Monuments 2019\"]"
   ]
  },
  {
   "cell_type": "code",
   "execution_count": 204,
   "metadata": {},
   "outputs": [],
   "source": [
    "earth_counts = mariadb.run(category_count_query.format(\n",
    "    count_name = 'earth_edits',\n",
    "    start_timestamp = dt.datetime(2019, 5, 1, 0, 0, 0).strftime(utils.mw_format),\n",
    "    end_timestamp = dt.datetime(2019, 7, 1, 0, 0, 0).strftime(utils.mw_format),\n",
    "    category_list = \", \".join(['\"{}\"'.format(c.replace(\" \", \"_\")) for c in earth_categories])),\n",
    "    \"commonswiki\"\n",
    ")"
   ]
  },
  {
   "cell_type": "code",
   "execution_count": 205,
   "metadata": {},
   "outputs": [],
   "source": [
    "pride_counts = mariadb.run(category_count_query.format(\n",
    "    count_name = 'pride_edits',\n",
    "    start_timestamp = dt.datetime(2019, 6, 1, 0, 0, 0).strftime(utils.mw_format),\n",
    "    end_timestamp = dt.datetime(2019, 7, 1, 0, 0, 0).strftime(utils.mw_format),\n",
    "    category_list = \", \".join(['\"{}\"'.format(c.replace(\" \", \"_\")) for c in pride_categories])),\n",
    "    \"commonswiki\"\n",
    ")"
   ]
  },
  {
   "cell_type": "code",
   "execution_count": 206,
   "metadata": {},
   "outputs": [],
   "source": [
    "mon_counts = mariadb.run(category_count_query.format(\n",
    "    count_name = 'wlm_edits',\n",
    "    start_timestamp = dt.datetime(2019, 9, 1, 0, 0, 0).strftime(utils.mw_format),\n",
    "    end_timestamp = dt.datetime(2019, 12, 1, 0, 0, 0).strftime(utils.mw_format),\n",
    "    category_list = \", \".join(['\"{}\"'.format(c.replace(\" \", \"_\")) for c in mon_categories])),\n",
    "    \"commonswiki\"\n",
    ")"
   ]
  },
  {
   "cell_type": "code",
   "execution_count": 207,
   "metadata": {},
   "outputs": [],
   "source": [
    "## turn log month into dates\n",
    "\n",
    "earth_counts['log_month'] = pd.to_datetime(earth_counts['log_month'])\n",
    "pride_counts['log_month'] = pd.to_datetime(pride_counts['log_month'])"
   ]
  },
  {
   "cell_type": "code",
   "execution_count": 208,
   "metadata": {},
   "outputs": [],
   "source": [
    "mon_counts['log_month'] = pd.to_datetime(mon_counts['log_month'])"
   ]
  },
  {
   "cell_type": "code",
   "execution_count": 209,
   "metadata": {},
   "outputs": [],
   "source": [
    "## Merge the full Commons data with the WLE data\n",
    "commons_actives_wlep = commons_actives_full.merge(earth_counts, how = \"left\", on = [\"log_month\", \"user_id\"]).fillna(0)"
   ]
  },
  {
   "cell_type": "code",
   "execution_count": 102,
   "metadata": {},
   "outputs": [],
   "source": [
    "## Similarly, merge with the WLP data\n",
    "commons_actives_wlep = commons_actives_wlep.merge(pride_counts, how = \"left\", on = [\"log_month\", \"user_id\"]).fillna(0)"
   ]
  },
  {
   "cell_type": "code",
   "execution_count": 210,
   "metadata": {},
   "outputs": [],
   "source": [
    "commons_actives_wlm = commons_actives_full.merge(\n",
    "    mon_counts, how = \"left\", on = [\"log_month\", \"user_id\"]).fillna(0)"
   ]
  },
  {
   "cell_type": "code",
   "execution_count": 211,
   "metadata": {},
   "outputs": [],
   "source": [
    "## Query to get all file creations on Commons from the Data Lake, and the user who created it.\n",
    "## We don't have to exclude non-registered users because they can't upload files.\n",
    "## We include the month of file creation so that WLE/WLP activity can be attributed to the\n",
    "## relevant month the file was uploaded.\n",
    "commons_creations_query = '''\n",
    "SELECT DATE_FORMAT(rev_timestamp, \"yyyy-MM-01\") AS log_month,\n",
    "       page_id, performer.user_id\n",
    "FROM event.mediawiki_page_create\n",
    "WHERE year = 2019\n",
    "AND month IN (5, 6)\n",
    "AND `database` = \"commonswiki\"\n",
    "AND page_namespace = 6\n",
    "AND page_is_redirect = FALSE -- exclude redirects, shouldn't be part of this\n",
    "'''"
   ]
  },
  {
   "cell_type": "code",
   "execution_count": 212,
   "metadata": {},
   "outputs": [],
   "source": [
    "commons_creations = spark.run(commons_creations_query)"
   ]
  },
  {
   "cell_type": "markdown",
   "metadata": {},
   "source": [
    "### Active editors without WLE/WLP activity\n",
    "\n",
    "For each month in May and June, how many active editors made at least one WLE edit? And similarly, how many made at least one WLP edit? This will give us some sense of whether to include either or both in our graphs."
   ]
  },
  {
   "cell_type": "code",
   "execution_count": 105,
   "metadata": {},
   "outputs": [
    {
     "data": {
      "text/html": [
       "<div>\n",
       "<style scoped>\n",
       "    .dataframe tbody tr th:only-of-type {\n",
       "        vertical-align: middle;\n",
       "    }\n",
       "\n",
       "    .dataframe tbody tr th {\n",
       "        vertical-align: top;\n",
       "    }\n",
       "\n",
       "    .dataframe thead th {\n",
       "        text-align: right;\n",
       "    }\n",
       "</style>\n",
       "<table border=\"1\" class=\"dataframe\">\n",
       "  <thead>\n",
       "    <tr style=\"text-align: right;\">\n",
       "      <th></th>\n",
       "      <th>log_month</th>\n",
       "      <th>n</th>\n",
       "    </tr>\n",
       "  </thead>\n",
       "  <tbody>\n",
       "    <tr>\n",
       "      <td>0</td>\n",
       "      <td>2019-05-01</td>\n",
       "      <td>3474</td>\n",
       "    </tr>\n",
       "    <tr>\n",
       "      <td>1</td>\n",
       "      <td>2019-06-01</td>\n",
       "      <td>2625</td>\n",
       "    </tr>\n",
       "  </tbody>\n",
       "</table>\n",
       "</div>"
      ],
      "text/plain": [
       "   log_month     n\n",
       "0 2019-05-01  3474\n",
       "1 2019-06-01  2625"
      ]
     },
     "execution_count": 105,
     "metadata": {},
     "output_type": "execute_result"
    }
   ],
   "source": [
    "(commons_actives_wlep.loc[commons_actives_wlep.earth_edits > 0]\n",
    " .groupby(\"log_month\")['user_id'].count().reset_index().rename(columns = {'user_id' : 'n'}))"
   ]
  },
  {
   "cell_type": "markdown",
   "metadata": {},
   "source": [
    "Same, but for WLP:"
   ]
  },
  {
   "cell_type": "code",
   "execution_count": 106,
   "metadata": {},
   "outputs": [
    {
     "data": {
      "text/html": [
       "<div>\n",
       "<style scoped>\n",
       "    .dataframe tbody tr th:only-of-type {\n",
       "        vertical-align: middle;\n",
       "    }\n",
       "\n",
       "    .dataframe tbody tr th {\n",
       "        vertical-align: top;\n",
       "    }\n",
       "\n",
       "    .dataframe thead th {\n",
       "        text-align: right;\n",
       "    }\n",
       "</style>\n",
       "<table border=\"1\" class=\"dataframe\">\n",
       "  <thead>\n",
       "    <tr style=\"text-align: right;\">\n",
       "      <th></th>\n",
       "      <th>log_month</th>\n",
       "      <th>n</th>\n",
       "    </tr>\n",
       "  </thead>\n",
       "  <tbody>\n",
       "    <tr>\n",
       "      <td>0</td>\n",
       "      <td>2019-06-01</td>\n",
       "      <td>166</td>\n",
       "    </tr>\n",
       "  </tbody>\n",
       "</table>\n",
       "</div>"
      ],
      "text/plain": [
       "   log_month    n\n",
       "0 2019-06-01  166"
      ]
     },
     "execution_count": 106,
     "metadata": {},
     "output_type": "execute_result"
    }
   ],
   "source": [
    "(commons_actives_wlep.loc[commons_actives_wlep.pride_edits > 0]\n",
    " .groupby(\"log_month\")['user_id'].count().reset_index().rename(columns = {'user_id' : 'n'}))"
   ]
  },
  {
   "cell_type": "code",
   "execution_count": 43,
   "metadata": {},
   "outputs": [
    {
     "data": {
      "text/html": [
       "<div>\n",
       "<style scoped>\n",
       "    .dataframe tbody tr th:only-of-type {\n",
       "        vertical-align: middle;\n",
       "    }\n",
       "\n",
       "    .dataframe tbody tr th {\n",
       "        vertical-align: top;\n",
       "    }\n",
       "\n",
       "    .dataframe thead th {\n",
       "        text-align: right;\n",
       "    }\n",
       "</style>\n",
       "<table border=\"1\" class=\"dataframe\">\n",
       "  <thead>\n",
       "    <tr style=\"text-align: right;\">\n",
       "      <th></th>\n",
       "      <th>log_month</th>\n",
       "      <th>n</th>\n",
       "    </tr>\n",
       "  </thead>\n",
       "  <tbody>\n",
       "    <tr>\n",
       "      <th>0</th>\n",
       "      <td>2019-09-01</td>\n",
       "      <td>3936</td>\n",
       "    </tr>\n",
       "    <tr>\n",
       "      <th>1</th>\n",
       "      <td>2019-10-01</td>\n",
       "      <td>729</td>\n",
       "    </tr>\n",
       "    <tr>\n",
       "      <th>2</th>\n",
       "      <td>2019-11-01</td>\n",
       "      <td>423</td>\n",
       "    </tr>\n",
       "  </tbody>\n",
       "</table>\n",
       "</div>"
      ],
      "text/plain": [
       "   log_month     n\n",
       "0 2019-09-01  3936\n",
       "1 2019-10-01   729\n",
       "2 2019-11-01   423"
      ]
     },
     "execution_count": 43,
     "metadata": {},
     "output_type": "execute_result"
    }
   ],
   "source": [
    "(commons_actives_wlm.loc[commons_actives_wlm['wlm_edits'] > 0]\n",
    " .groupby(\"log_month\")['user_id'].count().reset_index().rename(columns = {'user_id' : 'n'}))"
   ]
  },
  {
   "cell_type": "markdown",
   "metadata": {},
   "source": [
    "Total number of active editors on Commons in May and June:"
   ]
  },
  {
   "cell_type": "code",
   "execution_count": 107,
   "metadata": {},
   "outputs": [
    {
     "data": {
      "text/html": [
       "<div>\n",
       "<style scoped>\n",
       "    .dataframe tbody tr th:only-of-type {\n",
       "        vertical-align: middle;\n",
       "    }\n",
       "\n",
       "    .dataframe tbody tr th {\n",
       "        vertical-align: top;\n",
       "    }\n",
       "\n",
       "    .dataframe thead th {\n",
       "        text-align: right;\n",
       "    }\n",
       "</style>\n",
       "<table border=\"1\" class=\"dataframe\">\n",
       "  <thead>\n",
       "    <tr style=\"text-align: right;\">\n",
       "      <th></th>\n",
       "      <th>log_month</th>\n",
       "      <th>editor_type</th>\n",
       "      <th>n</th>\n",
       "    </tr>\n",
       "  </thead>\n",
       "  <tbody>\n",
       "    <tr>\n",
       "      <td>0</td>\n",
       "      <td>2019-05-01</td>\n",
       "      <td>active</td>\n",
       "      <td>15499</td>\n",
       "    </tr>\n",
       "    <tr>\n",
       "      <td>0</td>\n",
       "      <td>2019-06-01</td>\n",
       "      <td>active</td>\n",
       "      <td>14078</td>\n",
       "    </tr>\n",
       "  </tbody>\n",
       "</table>\n",
       "</div>"
      ],
      "text/plain": [
       "   log_month editor_type      n\n",
       "0 2019-05-01      active  15499\n",
       "0 2019-06-01      active  14078"
      ]
     },
     "execution_count": 107,
     "metadata": {},
     "output_type": "execute_result"
    }
   ],
   "source": [
    "commons_active_stats.loc[(commons_active_stats.editor_type == 'active') &\n",
    "                         ((commons_active_stats.log_month >= '2019-05-01'))]"
   ]
  },
  {
   "cell_type": "markdown",
   "metadata": {},
   "source": [
    "And in September–November:"
   ]
  },
  {
   "cell_type": "code",
   "execution_count": 44,
   "metadata": {},
   "outputs": [
    {
     "data": {
      "text/html": [
       "<div>\n",
       "<style scoped>\n",
       "    .dataframe tbody tr th:only-of-type {\n",
       "        vertical-align: middle;\n",
       "    }\n",
       "\n",
       "    .dataframe tbody tr th {\n",
       "        vertical-align: top;\n",
       "    }\n",
       "\n",
       "    .dataframe thead th {\n",
       "        text-align: right;\n",
       "    }\n",
       "</style>\n",
       "<table border=\"1\" class=\"dataframe\">\n",
       "  <thead>\n",
       "    <tr style=\"text-align: right;\">\n",
       "      <th></th>\n",
       "      <th>log_month</th>\n",
       "      <th>editor_type</th>\n",
       "      <th>n</th>\n",
       "    </tr>\n",
       "  </thead>\n",
       "  <tbody>\n",
       "    <tr>\n",
       "      <th>0</th>\n",
       "      <td>2019-09-01</td>\n",
       "      <td>active</td>\n",
       "      <td>14936</td>\n",
       "    </tr>\n",
       "    <tr>\n",
       "      <th>0</th>\n",
       "      <td>2019-10-01</td>\n",
       "      <td>active</td>\n",
       "      <td>11821</td>\n",
       "    </tr>\n",
       "    <tr>\n",
       "      <th>0</th>\n",
       "      <td>2019-11-01</td>\n",
       "      <td>active</td>\n",
       "      <td>12077</td>\n",
       "    </tr>\n",
       "  </tbody>\n",
       "</table>\n",
       "</div>"
      ],
      "text/plain": [
       "   log_month editor_type      n\n",
       "0 2019-09-01      active  14936\n",
       "0 2019-10-01      active  11821\n",
       "0 2019-11-01      active  12077"
      ]
     },
     "execution_count": 44,
     "metadata": {},
     "output_type": "execute_result"
    }
   ],
   "source": [
    "commons_active_stats.loc[(commons_active_stats['editor_type'] == 'active') &\n",
    "                         (commons_active_stats['log_month'] >= '2019-09-01') &\n",
    "                         (commons_active_stats['log_month'] < '2019-12-01')]"
   ]
  },
  {
   "cell_type": "code",
   "execution_count": 108,
   "metadata": {},
   "outputs": [
    {
     "data": {
      "text/plain": [
       "1.186248046597528"
      ]
     },
     "execution_count": 108,
     "metadata": {},
     "output_type": "execute_result"
    }
   ],
   "source": [
    "## WLP proportion out of the total in June:\n",
    "100 * 167 / 14078"
   ]
  },
  {
   "cell_type": "code",
   "execution_count": 109,
   "metadata": {},
   "outputs": [
    {
     "data": {
      "text/plain": [
       "(22.414349312858896, 18.653217786617418)"
      ]
     },
     "execution_count": 109,
     "metadata": {},
     "output_type": "execute_result"
    }
   ],
   "source": [
    "## WLE proportion out of the total in May and June:\n",
    "\n",
    "(100 * 3474 / 15499, 100 * 2626 / 14078)"
   ]
  },
  {
   "cell_type": "code",
   "execution_count": 45,
   "metadata": {},
   "outputs": [
    {
     "data": {
      "text/plain": [
       "26.352437064809855"
      ]
     },
     "execution_count": 45,
     "metadata": {},
     "output_type": "execute_result"
    }
   ],
   "source": [
    "## WLM proportion out of the total in September:\n",
    "\n",
    "(100 * 3936 / 14936)"
   ]
  },
  {
   "cell_type": "markdown",
   "metadata": {},
   "source": [
    "So, it looks like the impact of Wiki Loves Pride on the number of active editors on Commons is relatively moderate. There were 14,078 active editors on Commons in June, meaning the 167 who edited a file within the WLP campaign make up 1.2%.\n",
    "\n",
    "Wiki Loves Earth, on the other hand, clearly has a massive influence on the number of active editors. We find that 22.4% of the May count, and 18.7% of the June count edited at least one WLE file.\n",
    "\n",
    "Our question is what the number of active editors would be if we took at WLE/WLP activity. Because the influence of WLP is small, we disregard it for this part of the analysis, and instead only focus on WLE edits. Similarly as we did for micro-contributions, we calculate a corrected number of edits per month."
   ]
  },
  {
   "cell_type": "code",
   "execution_count": 110,
   "metadata": {},
   "outputs": [],
   "source": [
    "commons_actives_wlep['non_wle_edits'] = commons_actives_wlep.content_edits - commons_actives_wlep.earth_edits"
   ]
  },
  {
   "cell_type": "code",
   "execution_count": 51,
   "metadata": {},
   "outputs": [],
   "source": [
    "def get_wle_stats(df, start_date, end_date):\n",
    "    '''\n",
    "    For the given `pandas.DataFrame` `df` containing information on number of content edits,\n",
    "    account age status (new or existing user), and number of Wiki Loves Earth edits made,\n",
    "    calculate for each month between `start_date` and `end_date` the following stats:\n",
    "    \n",
    "    * Number of active editors with WLE edits removed\n",
    "    * Number of active editors who only made WLE edits\n",
    "    * Number of new active editors with WLE edits removed\n",
    "    * Number of new active editors who only made WLE edits\n",
    "    '''\n",
    "\n",
    "    ## Date range from start to end:\n",
    "    date_range = pd.date_range(start_date, end_date, freq = \"MS\")\n",
    "\n",
    "    ## Long-form data frame with month, type of editor (active, active w/1+ mce, etc), and number of editors\n",
    "    res_df = pd.DataFrame(columns = ['log_month', 'editor_type', 'n'])\n",
    "    \n",
    "    for month_idx in range(len(date_range) -1): ## iterate but exclude the last month\n",
    "        ## Number of active editors with micro-contributions removed\n",
    "        n_active_wo_mces = len(df.loc[(df.log_month >= date_range[month_idx]) &\n",
    "                                       (df.log_month < date_range[month_idx + 1]) &\n",
    "                                       (df.non_wle_edits >= 5)])\n",
    "        \n",
    "        res_df = res_df.append(\n",
    "                pd.DataFrame([[date_range[month_idx], 'active w/o WLE', n_active_wo_mces]],\n",
    "                             columns = ['log_month', 'editor_type', 'n']\n",
    "                )\n",
    "            )\n",
    "        \n",
    "        ## Number of active editors who only made micro-contributions\n",
    "        n_active_only_mces = len(df.loc[(df.log_month >= date_range[month_idx]) &\n",
    "                                        (df.log_month < date_range[month_idx + 1]) &\n",
    "                                        (df.earth_edits > 0) &\n",
    "                                        (df.content_edits == df.earth_edits)])\n",
    "        \n",
    "        res_df = res_df.append(\n",
    "                pd.DataFrame([[date_range[month_idx], 'active only WLE', n_active_only_mces]],\n",
    "                             columns = ['log_month', 'editor_type', 'n']\n",
    "                )\n",
    "            )\n",
    "        \n",
    "        ## Number of new active editors with micro-contributions removed\n",
    "        n_new_active_wo_mces = len(df.loc[(df.log_month >= date_range[month_idx]) &\n",
    "                                       (df.log_month < date_range[month_idx + 1]) &\n",
    "                                       (df.is_new_active == 1) &\n",
    "                                       (df.non_wle_edits >= 5)])\n",
    "        \n",
    "        res_df = res_df.append(\n",
    "                pd.DataFrame([[date_range[month_idx], 'new active w/o WLE', n_new_active_wo_mces]],\n",
    "                             columns = ['log_month', 'editor_type', 'n']\n",
    "                )\n",
    "            )\n",
    "    \n",
    "        ##Number of new active editors who only made micro-contributions\n",
    "        n_active_only_mces = len(df.loc[(df.log_month >= date_range[month_idx]) &\n",
    "                                        (df.log_month < date_range[month_idx + 1]) &\n",
    "                                        (df.is_new_active == 1) &\n",
    "                                        (df.earth_edits > 0) &\n",
    "                                        (df.content_edits == df.earth_edits)])\n",
    "        \n",
    "        res_df = res_df.append(\n",
    "                pd.DataFrame([[date_range[month_idx], 'new active only WLE', n_active_only_mces]],\n",
    "                             columns = ['log_month', 'editor_type', 'n']\n",
    "                )\n",
    "            )\n",
    "    return(res_df)    "
   ]
  },
  {
   "cell_type": "code",
   "execution_count": 111,
   "metadata": {},
   "outputs": [],
   "source": [
    "commons_corr_wle_stats = get_wle_stats(commons_actives_wlep, '2019-01-01', '2019-07-01')"
   ]
  },
  {
   "cell_type": "code",
   "execution_count": 112,
   "metadata": {},
   "outputs": [
    {
     "data": {
      "text/html": [
       "<div>\n",
       "<style scoped>\n",
       "    .dataframe tbody tr th:only-of-type {\n",
       "        vertical-align: middle;\n",
       "    }\n",
       "\n",
       "    .dataframe tbody tr th {\n",
       "        vertical-align: top;\n",
       "    }\n",
       "\n",
       "    .dataframe thead th {\n",
       "        text-align: right;\n",
       "    }\n",
       "</style>\n",
       "<table border=\"1\" class=\"dataframe\">\n",
       "  <thead>\n",
       "    <tr style=\"text-align: right;\">\n",
       "      <th></th>\n",
       "      <th>log_month</th>\n",
       "      <th>editor_type</th>\n",
       "      <th>n</th>\n",
       "    </tr>\n",
       "  </thead>\n",
       "  <tbody>\n",
       "    <tr>\n",
       "      <td>0</td>\n",
       "      <td>2019-03-01</td>\n",
       "      <td>active w/o WLE</td>\n",
       "      <td>11424</td>\n",
       "    </tr>\n",
       "    <tr>\n",
       "      <td>0</td>\n",
       "      <td>2019-03-01</td>\n",
       "      <td>active only WLE</td>\n",
       "      <td>0</td>\n",
       "    </tr>\n",
       "    <tr>\n",
       "      <td>0</td>\n",
       "      <td>2019-03-01</td>\n",
       "      <td>new active w/o WLE</td>\n",
       "      <td>2615</td>\n",
       "    </tr>\n",
       "    <tr>\n",
       "      <td>0</td>\n",
       "      <td>2019-03-01</td>\n",
       "      <td>new active only WLE</td>\n",
       "      <td>0</td>\n",
       "    </tr>\n",
       "    <tr>\n",
       "      <td>0</td>\n",
       "      <td>2019-04-01</td>\n",
       "      <td>active w/o WLE</td>\n",
       "      <td>10577</td>\n",
       "    </tr>\n",
       "    <tr>\n",
       "      <td>0</td>\n",
       "      <td>2019-04-01</td>\n",
       "      <td>active only WLE</td>\n",
       "      <td>0</td>\n",
       "    </tr>\n",
       "    <tr>\n",
       "      <td>0</td>\n",
       "      <td>2019-04-01</td>\n",
       "      <td>new active w/o WLE</td>\n",
       "      <td>2148</td>\n",
       "    </tr>\n",
       "    <tr>\n",
       "      <td>0</td>\n",
       "      <td>2019-04-01</td>\n",
       "      <td>new active only WLE</td>\n",
       "      <td>0</td>\n",
       "    </tr>\n",
       "    <tr>\n",
       "      <td>0</td>\n",
       "      <td>2019-05-01</td>\n",
       "      <td>active w/o WLE</td>\n",
       "      <td>12600</td>\n",
       "    </tr>\n",
       "    <tr>\n",
       "      <td>0</td>\n",
       "      <td>2019-05-01</td>\n",
       "      <td>active only WLE</td>\n",
       "      <td>2621</td>\n",
       "    </tr>\n",
       "    <tr>\n",
       "      <td>0</td>\n",
       "      <td>2019-05-01</td>\n",
       "      <td>new active w/o WLE</td>\n",
       "      <td>3406</td>\n",
       "    </tr>\n",
       "    <tr>\n",
       "      <td>0</td>\n",
       "      <td>2019-05-01</td>\n",
       "      <td>new active only WLE</td>\n",
       "      <td>2243</td>\n",
       "    </tr>\n",
       "    <tr>\n",
       "      <td>0</td>\n",
       "      <td>2019-06-01</td>\n",
       "      <td>active w/o WLE</td>\n",
       "      <td>12007</td>\n",
       "    </tr>\n",
       "    <tr>\n",
       "      <td>0</td>\n",
       "      <td>2019-06-01</td>\n",
       "      <td>active only WLE</td>\n",
       "      <td>1893</td>\n",
       "    </tr>\n",
       "    <tr>\n",
       "      <td>0</td>\n",
       "      <td>2019-06-01</td>\n",
       "      <td>new active w/o WLE</td>\n",
       "      <td>3071</td>\n",
       "    </tr>\n",
       "    <tr>\n",
       "      <td>0</td>\n",
       "      <td>2019-06-01</td>\n",
       "      <td>new active only WLE</td>\n",
       "      <td>1618</td>\n",
       "    </tr>\n",
       "  </tbody>\n",
       "</table>\n",
       "</div>"
      ],
      "text/plain": [
       "   log_month          editor_type      n\n",
       "0 2019-03-01       active w/o WLE  11424\n",
       "0 2019-03-01      active only WLE      0\n",
       "0 2019-03-01   new active w/o WLE   2615\n",
       "0 2019-03-01  new active only WLE      0\n",
       "0 2019-04-01       active w/o WLE  10577\n",
       "0 2019-04-01      active only WLE      0\n",
       "0 2019-04-01   new active w/o WLE   2148\n",
       "0 2019-04-01  new active only WLE      0\n",
       "0 2019-05-01       active w/o WLE  12600\n",
       "0 2019-05-01      active only WLE   2621\n",
       "0 2019-05-01   new active w/o WLE   3406\n",
       "0 2019-05-01  new active only WLE   2243\n",
       "0 2019-06-01       active w/o WLE  12007\n",
       "0 2019-06-01      active only WLE   1893\n",
       "0 2019-06-01   new active w/o WLE   3071\n",
       "0 2019-06-01  new active only WLE   1618"
      ]
     },
     "execution_count": 112,
     "metadata": {},
     "output_type": "execute_result"
    }
   ],
   "source": [
    "commons_corr_wle_stats.tail(16)"
   ]
  },
  {
   "cell_type": "markdown",
   "metadata": {},
   "source": [
    "What's the story we want to tell here? Maybe focus on the 2,243 new active editors who only made contributions to WLE files in May, and similarly 1,618 in June? Or do we again want to know what the percentage drop in active editors is if we take the WLE contributions out?\n",
    "\n",
    "Let's move over to the file uploads to WLE. Our question asks: What is the number of active editors who uploaded WLE/WLP contributions? Again, we'll focus on WLE because of the large impact it has had. To answer the question, we'll grab page IDs of all the files in the WLE categories and join it with the data on file creations during May and June. Then, we can aggregate over the user ID of the creator to identify users who created files."
   ]
  },
  {
   "cell_type": "code",
   "execution_count": 274,
   "metadata": {},
   "outputs": [
    {
     "data": {
      "text/plain": [
       "['Wiki Loves Earth 2019', 'Images from Wiki Loves Earth 2019']"
      ]
     },
     "execution_count": 274,
     "metadata": {},
     "output_type": "execute_result"
    }
   ],
   "source": [
    "earth_categories"
   ]
  },
  {
   "cell_type": "code",
   "execution_count": 113,
   "metadata": {},
   "outputs": [],
   "source": [
    "wle_pages_query = '''\n",
    "SELECT page_id\n",
    "FROM categorylinks\n",
    "JOIN page\n",
    "ON cl_from = page_id\n",
    "WHERE cl_to IN ({category_list})\n",
    "AND page_namespace = 6'''"
   ]
  },
  {
   "cell_type": "code",
   "execution_count": 114,
   "metadata": {},
   "outputs": [],
   "source": [
    "earth_pages = pd.read_sql_query(wle_pages_query.format(\n",
    "    category_list = \", \".join(['\"{}\"'.format(c.replace(\" \", \"_\")) for c in earth_categories])),\n",
    "    db_conn\n",
    ")"
   ]
  },
  {
   "cell_type": "code",
   "execution_count": 115,
   "metadata": {},
   "outputs": [],
   "source": [
    "## join the two to get information on who created the files\n",
    "earth_creations = earth_pages.merge(commons_creations, on = 'page_id')"
   ]
  },
  {
   "cell_type": "markdown",
   "metadata": {},
   "source": [
    "Do we have creation information on all the files? First number is the number of pages before the join, second is after:"
   ]
  },
  {
   "cell_type": "code",
   "execution_count": 116,
   "metadata": {},
   "outputs": [
    {
     "data": {
      "text/plain": [
       "95232"
      ]
     },
     "execution_count": 116,
     "metadata": {},
     "output_type": "execute_result"
    }
   ],
   "source": [
    "len(earth_pages)"
   ]
  },
  {
   "cell_type": "code",
   "execution_count": 117,
   "metadata": {},
   "outputs": [
    {
     "data": {
      "text/plain": [
       "94416"
      ]
     },
     "execution_count": 117,
     "metadata": {},
     "output_type": "execute_result"
    }
   ],
   "source": [
    "## how many files do we have information for?\n",
    "len(earth_creations)"
   ]
  },
  {
   "cell_type": "markdown",
   "metadata": {},
   "source": [
    "We've lost about 800 pages. That's about 1%, which I've come across before ([T215001](https://phabricator.wikimedia.org/T215001)) and is currently a drop we'll have to live with. Let's aggregate across month and user, then join it back with the active editor data."
   ]
  },
  {
   "cell_type": "code",
   "execution_count": 118,
   "metadata": {},
   "outputs": [],
   "source": [
    "earth_creations_aggregated = earth_creations.groupby(['log_month', 'user_id']).count().reset_index().rename(columns = {'page_id' : 'n_wle_created'})"
   ]
  },
  {
   "cell_type": "code",
   "execution_count": 119,
   "metadata": {},
   "outputs": [],
   "source": [
    "## turn log_month into a date\n",
    "earth_creations_aggregated.log_month = pd.to_datetime(earth_creations_aggregated.log_month)"
   ]
  },
  {
   "cell_type": "code",
   "execution_count": 120,
   "metadata": {},
   "outputs": [],
   "source": [
    "commons_actives_wle_creations = commons_actives_wlep.merge(earth_creations_aggregated,\n",
    "                                                           how = 'left', on = ['log_month', 'user_id']).fillna(0)"
   ]
  },
  {
   "cell_type": "markdown",
   "metadata": {},
   "source": [
    "We'll make some similar aggregations by month and editor type to get the number of active editors who uploaded files, and also number of new active editors."
   ]
  },
  {
   "cell_type": "code",
   "execution_count": 62,
   "metadata": {},
   "outputs": [],
   "source": [
    "def get_wle_creation_stats(df, start_date, end_date):\n",
    "    '''\n",
    "    For the given `pandas.DataFrame` `df` containing information on number of content edits,\n",
    "    account age status (new or existing user), and number of Wiki Loves Earth edits made,\n",
    "    calculate for each month between `start_date` and `end_date` the following stats:\n",
    "    \n",
    "    * Number of active editors\n",
    "    * Number of active editors who uploaded at least one WLE file\n",
    "    * Number of new active editors\n",
    "    * Number of new active editors who uploaded at least one WLE file\n",
    "    '''\n",
    "\n",
    "    ## Date range from start to end:\n",
    "    date_range = pd.date_range(start_date, end_date, freq = \"MS\")\n",
    "\n",
    "    ## Long-form data frame with month, type of editor (active, active w/1+ mce, etc), and number of editors\n",
    "    res_df = pd.DataFrame(columns = ['log_month', 'editor_type', 'n'])\n",
    "    \n",
    "    for month_idx in range(len(date_range) -1): ## iterate but exclude the last month\n",
    "        ## Number of active editors\n",
    "        n_active = len(df.loc[(df.log_month >= date_range[month_idx]) &\n",
    "                              (df.log_month < date_range[month_idx + 1])])\n",
    "        \n",
    "        res_df = res_df.append(\n",
    "                pd.DataFrame([[date_range[month_idx], 'active', n_active]],\n",
    "                             columns = ['log_month', 'editor_type', 'n']\n",
    "                )\n",
    "            )\n",
    "        \n",
    "        ## Number of active editors who uploaded at least one WLE file\n",
    "        n_active_wle = len(df.loc[(df.log_month >= date_range[month_idx]) &\n",
    "                                        (df.log_month < date_range[month_idx + 1]) &\n",
    "                                        (df.n_wle_created > 0)])\n",
    "        \n",
    "        res_df = res_df.append(\n",
    "                pd.DataFrame([[date_range[month_idx], 'active w/1+ WLE upload', n_active_wle]],\n",
    "                             columns = ['log_month', 'editor_type', 'n']\n",
    "                )\n",
    "            )\n",
    "        \n",
    "        ## Number of new active editors with micro-contributions removed\n",
    "        n_new_active = len(df.loc[(df.log_month >= date_range[month_idx]) &\n",
    "                                       (df.log_month < date_range[month_idx + 1]) &\n",
    "                                       (df.is_new_active == 1)])\n",
    "        \n",
    "        res_df = res_df.append(\n",
    "                pd.DataFrame([[date_range[month_idx], 'new active', n_new_active]],\n",
    "                             columns = ['log_month', 'editor_type', 'n']\n",
    "                )\n",
    "            )\n",
    "    \n",
    "        ##Number of new active editors who uploaded at least one WLE file\n",
    "        n_active_wle = len(df.loc[(df.log_month >= date_range[month_idx]) &\n",
    "                                        (df.log_month < date_range[month_idx + 1]) &\n",
    "                                        (df.is_new_active == 1) &\n",
    "                                        (df.n_wle_created > 0)])\n",
    "        \n",
    "        res_df = res_df.append(\n",
    "                pd.DataFrame([[date_range[month_idx], 'new active w/1+ WLE upload', n_active_wle]],\n",
    "                             columns = ['log_month', 'editor_type', 'n']\n",
    "                )\n",
    "            )\n",
    "    return(res_df)    "
   ]
  },
  {
   "cell_type": "code",
   "execution_count": 121,
   "metadata": {},
   "outputs": [],
   "source": [
    "commons_wle_overall_stats = get_wle_creation_stats(commons_actives_wle_creations, '2019-01-01', '2019-07-01')"
   ]
  },
  {
   "cell_type": "code",
   "execution_count": 122,
   "metadata": {},
   "outputs": [
    {
     "data": {
      "image/png": "[encoded data removed]"
     },
     "metadata": {},
     "output_type": "display_data"
    }
   ],
   "source": [
    "%%R -i commons_wle_overall_stats\n",
    "\n",
    "commons_wle_overall_stats$log_month = as.Date(commons_wle_overall_stats$log_month)\n",
    "\n",
    "ggplot(commons_wle_overall_stats,\n",
    "       aes(x = log_month, y = n, color = editor_type)) +\n",
    "theme_bw() +\n",
    "scale_y_continuous(\"Number of editors\", breaks = c(0:20)*1000) +\n",
    "scale_x_date(\"Month\") +\n",
    "ggtitle(\"Commons number of active editors with WLE uploads 2019\") +\n",
    "geom_line()"
   ]
  },
  {
   "cell_type": "code",
   "execution_count": 123,
   "metadata": {},
   "outputs": [
    {
     "data": {
      "text/html": [
       "<div>\n",
       "<style scoped>\n",
       "    .dataframe tbody tr th:only-of-type {\n",
       "        vertical-align: middle;\n",
       "    }\n",
       "\n",
       "    .dataframe tbody tr th {\n",
       "        vertical-align: top;\n",
       "    }\n",
       "\n",
       "    .dataframe thead th {\n",
       "        text-align: right;\n",
       "    }\n",
       "</style>\n",
       "<table border=\"1\" class=\"dataframe\">\n",
       "  <thead>\n",
       "    <tr style=\"text-align: right;\">\n",
       "      <th></th>\n",
       "      <th>log_month</th>\n",
       "      <th>editor_type</th>\n",
       "      <th>n</th>\n",
       "    </tr>\n",
       "  </thead>\n",
       "  <tbody>\n",
       "    <tr>\n",
       "      <td>0</td>\n",
       "      <td>2019-01-01</td>\n",
       "      <td>new active w/1+ WLE upload</td>\n",
       "      <td>0</td>\n",
       "    </tr>\n",
       "    <tr>\n",
       "      <td>0</td>\n",
       "      <td>2019-02-01</td>\n",
       "      <td>new active w/1+ WLE upload</td>\n",
       "      <td>0</td>\n",
       "    </tr>\n",
       "    <tr>\n",
       "      <td>0</td>\n",
       "      <td>2019-03-01</td>\n",
       "      <td>new active w/1+ WLE upload</td>\n",
       "      <td>0</td>\n",
       "    </tr>\n",
       "    <tr>\n",
       "      <td>0</td>\n",
       "      <td>2019-04-01</td>\n",
       "      <td>new active w/1+ WLE upload</td>\n",
       "      <td>0</td>\n",
       "    </tr>\n",
       "    <tr>\n",
       "      <td>0</td>\n",
       "      <td>2019-05-01</td>\n",
       "      <td>new active w/1+ WLE upload</td>\n",
       "      <td>2564</td>\n",
       "    </tr>\n",
       "    <tr>\n",
       "      <td>0</td>\n",
       "      <td>2019-06-01</td>\n",
       "      <td>new active w/1+ WLE upload</td>\n",
       "      <td>1865</td>\n",
       "    </tr>\n",
       "  </tbody>\n",
       "</table>\n",
       "</div>"
      ],
      "text/plain": [
       "   log_month                 editor_type     n\n",
       "0 2019-01-01  new active w/1+ WLE upload     0\n",
       "0 2019-02-01  new active w/1+ WLE upload     0\n",
       "0 2019-03-01  new active w/1+ WLE upload     0\n",
       "0 2019-04-01  new active w/1+ WLE upload     0\n",
       "0 2019-05-01  new active w/1+ WLE upload  2564\n",
       "0 2019-06-01  new active w/1+ WLE upload  1865"
      ]
     },
     "execution_count": 123,
     "metadata": {},
     "output_type": "execute_result"
    }
   ],
   "source": [
    "## What's the number of new active users w/1+ WLE uploads?\n",
    "\n",
    "commons_wle_overall_stats.loc[commons_wle_overall_stats.editor_type == 'new active w/1+ WLE upload']"
   ]
  },
  {
   "cell_type": "code",
   "execution_count": 124,
   "metadata": {},
   "outputs": [
    {
     "data": {
      "text/html": [
       "<div>\n",
       "<style scoped>\n",
       "    .dataframe tbody tr th:only-of-type {\n",
       "        vertical-align: middle;\n",
       "    }\n",
       "\n",
       "    .dataframe tbody tr th {\n",
       "        vertical-align: top;\n",
       "    }\n",
       "\n",
       "    .dataframe thead th {\n",
       "        text-align: right;\n",
       "    }\n",
       "</style>\n",
       "<table border=\"1\" class=\"dataframe\">\n",
       "  <thead>\n",
       "    <tr style=\"text-align: right;\">\n",
       "      <th></th>\n",
       "      <th>page_id</th>\n",
       "      <th>user_id</th>\n",
       "    </tr>\n",
       "    <tr>\n",
       "      <th>log_month</th>\n",
       "      <th></th>\n",
       "      <th></th>\n",
       "    </tr>\n",
       "  </thead>\n",
       "  <tbody>\n",
       "    <tr>\n",
       "      <td>2019-05-01</td>\n",
       "      <td>63590</td>\n",
       "      <td>63590</td>\n",
       "    </tr>\n",
       "    <tr>\n",
       "      <td>2019-06-01</td>\n",
       "      <td>30826</td>\n",
       "      <td>30826</td>\n",
       "    </tr>\n",
       "  </tbody>\n",
       "</table>\n",
       "</div>"
      ],
      "text/plain": [
       "            page_id  user_id\n",
       "log_month                   \n",
       "2019-05-01    63590    63590\n",
       "2019-06-01    30826    30826"
      ]
     },
     "execution_count": 124,
     "metadata": {},
     "output_type": "execute_result"
    }
   ],
   "source": [
    "## What's the number of WLE uploads per month?\n",
    "\n",
    "earth_creations.groupby('log_month').count()"
   ]
  },
  {
   "cell_type": "markdown",
   "metadata": {},
   "source": [
    "## Exploration of Commons visualizations\n",
    "\n",
    "We're interested in illustrating the point about how micro-contributions and Wiki Loves Earth impacts number of active editors on Commons. Thus, we explore some visualizations of that data."
   ]
  },
  {
   "cell_type": "code",
   "execution_count": 213,
   "metadata": {},
   "outputs": [],
   "source": [
    "## Some Pandas idioms Neil taught me, thanks Neil!\n",
    "\n",
    "def micro_wle_stats(group):\n",
    "    aggs = {\n",
    "        \"neither\": len(group.query(\"num_micros == 0 & earth_edits == 0\")),\n",
    "        \"1+ SDC edit\": len(group.query(\"num_micros > 0 & earth_edits == 0\")),\n",
    "        \"1+ WLE edit\": len(group.query(\"num_micros == 0 & earth_edits > 0\")),\n",
    "        \"both\": len(group.query(\"num_micros > 0 & earth_edits > 0\"))\n",
    "    }\n",
    "    return pd.Series(aggs, index=aggs.keys())\n",
    "\n",
    "micro_wle_aggregated = commons_actives_wlep.groupby(\"log_month\").apply(micro_wle_stats)\n",
    "\n",
    "micro_wle_agg_flat = micro_wle_aggregated.reset_index().melt(id_vars=[\"log_month\"])"
   ]
  },
  {
   "cell_type": "markdown",
   "metadata": {},
   "source": [
    "Make two graphs:\n",
    "\n",
    "1. Since January 2019, the number of active editors with 1+ micro-contributions.\n",
    "2. For May and June 2019, bar charts showing the distribution of micro-contributions and WLE activity."
   ]
  },
  {
   "cell_type": "code",
   "execution_count": 174,
   "metadata": {},
   "outputs": [
    {
     "data": {
      "image/png": "[encoded data removed]"
     },
     "metadata": {},
     "output_type": "display_data"
    }
   ],
   "source": [
    "%%R -i commons_active_stats\n",
    "\n",
    "commons_active_stats = data.table(commons_active_stats)\n",
    "commons_active_stats[, log_month := as.Date(log_month)]\n",
    "\n",
    "ggplot(commons_active_stats[log_month >= '2019-01-01' & editor_type %in% c('active', '1+ micro')],\n",
    "       aes(x = log_month, y = n, colour = editor_type)) +\n",
    "theme_bw() + \n",
    "scale_x_date(\"Month\") +\n",
    "scale_y_continuous(\"Number of editors\", lim = c(0, 20000)) +\n",
    "scale_colour_brewer(\"Editor type\", palette = 'Set1',\n",
    "                    breaks = c(\"active\", \"1+ micro\"), labels = c(\"Active\", \"1+ Micro-contributions\")) +\n",
    "geom_line()"
   ]
  },
  {
   "cell_type": "code",
   "execution_count": 127,
   "metadata": {},
   "outputs": [
    {
     "data": {
      "image/png": "[encoded data removed]"
     },
     "metadata": {},
     "output_type": "display_data"
    }
   ],
   "source": [
    "%%R -i micro_wle_agg_flat\n",
    "\n",
    "micro_wle_agg_flat = data.table(micro_wle_agg_flat)\n",
    "micro_wle_agg_flat[, log_month := as.Date(log_month)]\n",
    "micro_wle_agg_flat[, log_year := year(log_month)]\n",
    "micro_wle_agg_flat[, log_month_name := strftime(log_month, \"%B\")]\n",
    "micro_wle_agg_flat[, editor_type := ordered(variable, c(\"neither\", \"1+ SDC edit\", \"1+ WLE edit\", \"both\"))]\n",
    "micro_wle_agg_flat[, log_month_name := ordered(\n",
    "    log_month_name,\n",
    "    c(\"January\", \"February\", \"March\", \"April\", \"May\", \"June\",\n",
    "      \"July\", \"August\", \"September\", \"October\", \"November\", \"December\"))]\n",
    "\n",
    "g = ggplot(micro_wle_agg_flat[log_month >= '2019-04-01'],\n",
    "       aes(log_month_name, value, fill = editor_type)) +\n",
    "theme_bw() + \n",
    "scale_y_continuous(\"Number of editors\", breaks = c(0:8)*1000) +\n",
    "scale_x_discrete(\"Month of Q4 FY 19/20\") +\n",
    "scale_fill_brewer(\"Editor type\", palette = 'Set2',\n",
    "                    breaks = c(\"neither\", \"1+ SDC edit\", \"1+ WLE edit\", \"both\"),\n",
    "                    labels = c(\"Neither\", \"1+ Micro-contribution\", \"1+ Wiki Loves Earth edit\", \"Both\")) +\n",
    "geom_col(position = \"dodge2\")\n",
    "\n",
    "ggsave(plot = g, file = \"graphs/commons_active_editors_by_type_Q41819.png\",\n",
    "       width = 8, height = 6, units = \"in\", dpi = \"retina\")\n",
    "g"
   ]
  },
  {
   "cell_type": "markdown",
   "metadata": {},
   "source": [
    "## MC Graph of new and returning active editors on Commons for FY 19/20\n",
    "\n",
    "Showing users who made at least 1+ micro-contributions, as stacked bar charts."
   ]
  },
  {
   "cell_type": "code",
   "execution_count": 141,
   "metadata": {},
   "outputs": [],
   "source": [
    "## Some Pandas idioms Neil taught me, thanks Neil!\n",
    "\n",
    "def micro_commons_stats(group):\n",
    "    aggs = {\n",
    "        \"1+ Micro-contributions\": len(group.query(\"num_micros > 0\")),\n",
    "        \"0 Micro-contributions\": len(group.query(\"num_micros == 0\"))\n",
    "    }\n",
    "    return(pd.Series(aggs, index=aggs.keys()))\n",
    "\n",
    "commons_overall_agg = commons_actives_full.groupby([\"log_month\", \"is_new_active\"]).apply(micro_commons_stats)\n",
    "\n",
    "commons_overall_agg_flat = commons_overall_agg.reset_index().melt(id_vars=[\"log_month\", \"is_new_active\"])"
   ]
  },
  {
   "cell_type": "code",
   "execution_count": 142,
   "metadata": {},
   "outputs": [
    {
     "data": {
      "text/html": [
       "<div>\n",
       "<style scoped>\n",
       "    .dataframe tbody tr th:only-of-type {\n",
       "        vertical-align: middle;\n",
       "    }\n",
       "\n",
       "    .dataframe tbody tr th {\n",
       "        vertical-align: top;\n",
       "    }\n",
       "\n",
       "    .dataframe thead th {\n",
       "        text-align: right;\n",
       "    }\n",
       "</style>\n",
       "<table border=\"1\" class=\"dataframe\">\n",
       "  <thead>\n",
       "    <tr style=\"text-align: right;\">\n",
       "      <th></th>\n",
       "      <th>log_month</th>\n",
       "      <th>is_new_active</th>\n",
       "      <th>variable</th>\n",
       "      <th>value</th>\n",
       "    </tr>\n",
       "  </thead>\n",
       "  <tbody>\n",
       "    <tr>\n",
       "      <td>0</td>\n",
       "      <td>2018-01-01</td>\n",
       "      <td>0.0</td>\n",
       "      <td>0 Micro-contributions</td>\n",
       "      <td>7471</td>\n",
       "    </tr>\n",
       "    <tr>\n",
       "      <td>1</td>\n",
       "      <td>2018-01-01</td>\n",
       "      <td>1.0</td>\n",
       "      <td>0 Micro-contributions</td>\n",
       "      <td>1620</td>\n",
       "    </tr>\n",
       "    <tr>\n",
       "      <td>2</td>\n",
       "      <td>2018-02-01</td>\n",
       "      <td>0.0</td>\n",
       "      <td>0 Micro-contributions</td>\n",
       "      <td>7032</td>\n",
       "    </tr>\n",
       "    <tr>\n",
       "      <td>3</td>\n",
       "      <td>2018-02-01</td>\n",
       "      <td>1.0</td>\n",
       "      <td>0 Micro-contributions</td>\n",
       "      <td>1407</td>\n",
       "    </tr>\n",
       "    <tr>\n",
       "      <td>4</td>\n",
       "      <td>2018-03-01</td>\n",
       "      <td>0.0</td>\n",
       "      <td>0 Micro-contributions</td>\n",
       "      <td>7537</td>\n",
       "    </tr>\n",
       "  </tbody>\n",
       "</table>\n",
       "</div>"
      ],
      "text/plain": [
       "   log_month  is_new_active               variable  value\n",
       "0 2018-01-01            0.0  0 Micro-contributions   7471\n",
       "1 2018-01-01            1.0  0 Micro-contributions   1620\n",
       "2 2018-02-01            0.0  0 Micro-contributions   7032\n",
       "3 2018-02-01            1.0  0 Micro-contributions   1407\n",
       "4 2018-03-01            0.0  0 Micro-contributions   7537"
      ]
     },
     "execution_count": 142,
     "metadata": {},
     "output_type": "execute_result"
    }
   ],
   "source": [
    "commons_overall_agg_flat.head()"
   ]
  },
  {
   "cell_type": "code",
   "execution_count": 244,
   "metadata": {},
   "outputs": [
    {
     "data": {
      "image/png": "[encoded data removed]"
     },
     "metadata": {},
     "output_type": "display_data"
    }
   ],
   "source": [
    "%%R -i commons_overall_agg_flat\n",
    "\n",
    "commons_overall_agg_flat = data.table(commons_overall_agg_flat)\n",
    "commons_overall_agg_flat[, log_month := as.Date(log_month)]\n",
    "\n",
    "commons_overall_agg_flat[, active_type := factor(is_new_active, levels = c(0, 1), labels = c(\"returning\", \"new\"))]\n",
    "commons_overall_agg_flat[, variable := ordered(variable, c(\"1+ Micro-contributions\", \"0 Micro-contributions\"))]\n",
    "\n",
    "g = ggplot(commons_overall_agg_flat[log_month >= '2018-07-01' & log_month < '2019-07-01',\n",
    "                               list(log_month, active_type, editor_type = variable, n = value)],\n",
    "       aes(x = log_month, y = n, fill = editor_type)) +\n",
    "theme_bw() +\n",
    "scale_y_continuous(\"Number of editors\") +\n",
    "scale_x_date(\"Month\") +\n",
    "scale_fill_brewer(\"Editor type\", palette = 'Set1', breaks = c(\"0 Micro-contributions\", \"1+ Micro-contributions\")) + \n",
    "facet_grid(active_type ~ .) +\n",
    "geom_col()\n",
    "\n",
    "ggsave(plot = g, file = \"graphs/commons_active_editors_micros_FY1819_split.png\",\n",
    "       width = 8, height = 6, units = \"in\", dpi = \"retina\")\n",
    "g"
   ]
  },
  {
   "cell_type": "code",
   "execution_count": 183,
   "metadata": {},
   "outputs": [
    {
     "data": {
      "image/png": "[encoded data removed]"
     },
     "metadata": {},
     "output_type": "display_data"
    }
   ],
   "source": [
    "%%R -i commons_overall_agg_flat\n",
    "\n",
    "commons_overall_agg_flat = data.table(commons_overall_agg_flat)\n",
    "commons_overall_agg_flat[, log_month := as.Date(log_month)]\n",
    "\n",
    "commons_overall_agg_flat[, active_type := factor(is_new_active, levels = c(0, 1), labels = c(\"returning\", \"new\"))]\n",
    "commons_overall_agg_flat[, variable := ordered(variable, c(\"1+ Micro-contributions\", \"0 Micro-contributions\"))]\n",
    "\n",
    "g = ggplot(commons_overall_agg_flat[log_month >= '2019-01-01' & log_month < '2020-02-01',\n",
    "                               list(log_month, active_type, editor_type = variable, n = value)],\n",
    "       aes(x = log_month, y = n, fill = editor_type)) +\n",
    "theme_bw() +\n",
    "scale_y_continuous(\"Number of editors\") +\n",
    "scale_x_date(\"Month\") +\n",
    "scale_fill_brewer(\"Editor type\", palette = 'Set1', breaks = c(\"0 Micro-contributions\", \"1+ Micro-contributions\")) + \n",
    "facet_grid(active_type ~ .) +\n",
    "geom_col()\n",
    "\n",
    "ggsave(plot = g, file = \"graphs/commons_active_editors_micros_1920_split.png\",\n",
    "       width = 8, height = 6, units = \"in\", dpi = \"retina\")\n",
    "g"
   ]
  },
  {
   "cell_type": "markdown",
   "metadata": {},
   "source": [
    "As a contrast to the bar chart above, I also made the line chart below."
   ]
  },
  {
   "cell_type": "code",
   "execution_count": 56,
   "metadata": {},
   "outputs": [
    {
     "data": {
      "image/png": "[encoded data removed]"
     },
     "metadata": {},
     "output_type": "display_data"
    }
   ],
   "source": [
    "%%R -i commons_overall_agg_flat\n",
    "\n",
    "commons_overall_agg_flat = data.table(commons_overall_agg_flat)\n",
    "commons_overall_agg_flat[, log_month := as.Date(log_month)]\n",
    "\n",
    "commons_overall_agg_flat[, active_type := factor(is_new_active, levels = c(0, 1), labels = c(\"returning\", \"new\"))]\n",
    "commons_overall_agg_flat[, variable := ordered(variable, c(\"1+ Micro-contributions\", \"0 Micro-contributions\"))]\n",
    "\n",
    "g = ggplot(commons_overall_agg_flat[log_month >= '2019-01-01' & log_month < '2020-02-01',\n",
    "                               list(log_month, active_type, editor_type = variable, n = value)],\n",
    "       aes(x = log_month, y = n, color = editor_type)) +\n",
    "theme_bw() +\n",
    "scale_y_continuous(\"Number of editors\", lim = c(0, 6000)) +\n",
    "scale_x_date(\"Month\") +\n",
    "scale_color_brewer(\"Editor type\", palette = 'Set1', breaks = c(\"0 Micro-contributions\", \"1+ Micro-contributions\")) + \n",
    "facet_grid(active_type ~ .) +\n",
    "geom_line()\n",
    "\n",
    "ggsave(plot = g, file = \"graphs/commons_active_editors_micros_1920_split.png\",\n",
    "       width = 8, height = 6, units = \"in\", dpi = \"retina\")\n",
    "g"
   ]
  },
  {
   "cell_type": "code",
   "execution_count": 197,
   "metadata": {},
   "outputs": [
    {
     "name": "stdout",
     "output_type": "stream",
     "text": [
      "     log_month active_type     n\n",
      " 1: 2019-01-01   returning  8536\n",
      " 2: 2019-01-01         new  2088\n",
      " 3: 2019-02-01   returning  8406\n",
      " 4: 2019-02-01         new  3207\n",
      " 5: 2019-03-01   returning  8809\n",
      " 6: 2019-03-01         new  2615\n",
      " 7: 2019-04-01   returning  8429\n",
      " 8: 2019-04-01         new  2148\n",
      " 9: 2019-05-01   returning  9660\n",
      "10: 2019-05-01         new  5839\n",
      "11: 2019-06-01   returning  9268\n",
      "12: 2019-06-01         new  4810\n",
      "13: 2019-07-01   returning  9018\n",
      "14: 2019-07-01         new  2682\n",
      "15: 2019-08-01   returning  9148\n",
      "16: 2019-08-01         new  2625\n",
      "17: 2019-09-01   returning 10159\n",
      "18: 2019-09-01         new  4777\n",
      "19: 2019-10-01   returning  9173\n",
      "20: 2019-10-01         new  2648\n",
      "21: 2019-11-01   returning  9111\n",
      "22: 2019-11-01         new  2966\n",
      "23: 2019-12-01   returning  8889\n",
      "24: 2019-12-01         new  2737\n",
      "25: 2020-01-01   returning  9211\n",
      "26: 2020-01-01         new  2859\n",
      "     log_month active_type     n\n"
     ]
    }
   ],
   "source": [
    "%%R -i commons_overall_agg_flat\n",
    "\n",
    "commons_overall_agg_flat = data.table(commons_overall_agg_flat)\n",
    "commons_overall_agg_flat[, log_month := as.Date(log_month)]\n",
    "\n",
    "commons_overall_agg_flat[, active_type := factor(is_new_active, levels = c(0, 1), labels = c(\"returning\", \"new\"))]\n",
    "commons_overall_agg_flat[, variable := ordered(variable, c(\"1+ Micro-contributions\", \"0 Micro-contributions\"))]\n",
    "\n",
    "commons_overall_agg_flat[\n",
    "        log_month >= '2019-01-01' & log_month < '2020-02-01',\n",
    "        list(n = sum(value)), by = c('log_month', 'active_type')]"
   ]
  },
  {
   "cell_type": "code",
   "execution_count": 275,
   "metadata": {},
   "outputs": [
    {
     "data": {
      "image/png": "[encoded data removed]"
     },
     "metadata": {},
     "output_type": "display_data"
    }
   ],
   "source": [
    "%%R -i commons_overall_agg_flat\n",
    "\n",
    "commons_overall_agg_flat = data.table(commons_overall_agg_flat)\n",
    "commons_overall_agg_flat[, log_month := as.Date(log_month)]\n",
    "\n",
    "commons_overall_agg_flat[, active_type := factor(is_new_active, levels = c(0, 1), labels = c(\"returning\", \"new\"))]\n",
    "commons_overall_agg_flat[, variable := ordered(variable, c(\"1+ Micro-contributions\", \"0 Micro-contributions\"))]\n",
    "\n",
    "g = ggplot(\n",
    "    commons_overall_agg_flat[\n",
    "        log_month >= '2019-01-01' & log_month < '2020-02-01',\n",
    "        list(n = sum(value)), by = c('log_month', 'active_type')],\n",
    "       aes(x = log_month, y = n)) +\n",
    "    theme_bw() +\n",
    "    theme(axis.title.x = element_text(size = rel(1.5)),\n",
    "          axis.text.x = element_text(size = rel(1.25)),\n",
    "          axis.title.y = element_text(size = rel(1.5)),\n",
    "          axis.text.y = element_text(size = rel(1.25)),\n",
    "          strip.text = element_text(size = rel(1))) +\n",
    "    scale_y_continuous(\"Number of editors\", lim = c(0, 10500)) +\n",
    "    scale_x_date(\"Month\") +\n",
    "    facet_grid(active_type ~ .) +\n",
    "    geom_line()\n",
    "\n",
    "ggsave(plot = g, file = \"graphs/commons_active_editors_1920.png\",\n",
    "       width = 8, height = 6, units = \"in\", dpi = \"retina\")\n",
    "g"
   ]
  },
  {
   "cell_type": "markdown",
   "metadata": {},
   "source": [
    "## WLE graph of new and returning active editors on Commons for FY 19/20\n",
    "\n",
    "Showing users who made at least 1+ WLE-contributions, as stacked bar charts."
   ]
  },
  {
   "cell_type": "code",
   "execution_count": 158,
   "metadata": {},
   "outputs": [],
   "source": [
    "## Some Pandas idioms Neil taught me, thanks Neil!\n",
    "\n",
    "def wle_commons_stats(group):\n",
    "    aggs = {\n",
    "        \"1+ WLE-contributions\": len(group.query(\"earth_edits > 0\")),\n",
    "        \"0 WLE-contributions\": len(group.query(\"earth_edits == 0\"))\n",
    "    }\n",
    "    return(pd.Series(aggs, index=aggs.keys()))\n",
    "\n",
    "commons_wle_agg = commons_actives_wlep.groupby([\"log_month\", \"is_new_active\"]).apply(wle_commons_stats)\n",
    "\n",
    "commons_wle_agg_flat = commons_wle_agg.reset_index().melt(id_vars=[\"log_month\", \"is_new_active\"])"
   ]
  },
  {
   "cell_type": "code",
   "execution_count": 159,
   "metadata": {},
   "outputs": [
    {
     "data": {
      "text/html": [
       "<div>\n",
       "<style scoped>\n",
       "    .dataframe tbody tr th:only-of-type {\n",
       "        vertical-align: middle;\n",
       "    }\n",
       "\n",
       "    .dataframe tbody tr th {\n",
       "        vertical-align: top;\n",
       "    }\n",
       "\n",
       "    .dataframe thead th {\n",
       "        text-align: right;\n",
       "    }\n",
       "</style>\n",
       "<table border=\"1\" class=\"dataframe\">\n",
       "  <thead>\n",
       "    <tr style=\"text-align: right;\">\n",
       "      <th></th>\n",
       "      <th>log_month</th>\n",
       "      <th>is_new_active</th>\n",
       "      <th>variable</th>\n",
       "      <th>value</th>\n",
       "    </tr>\n",
       "  </thead>\n",
       "  <tbody>\n",
       "    <tr>\n",
       "      <td>0</td>\n",
       "      <td>2018-01-01</td>\n",
       "      <td>0.0</td>\n",
       "      <td>1+ WLE-contributions</td>\n",
       "      <td>0</td>\n",
       "    </tr>\n",
       "    <tr>\n",
       "      <td>1</td>\n",
       "      <td>2018-01-01</td>\n",
       "      <td>1.0</td>\n",
       "      <td>1+ WLE-contributions</td>\n",
       "      <td>0</td>\n",
       "    </tr>\n",
       "    <tr>\n",
       "      <td>2</td>\n",
       "      <td>2018-02-01</td>\n",
       "      <td>0.0</td>\n",
       "      <td>1+ WLE-contributions</td>\n",
       "      <td>0</td>\n",
       "    </tr>\n",
       "    <tr>\n",
       "      <td>3</td>\n",
       "      <td>2018-02-01</td>\n",
       "      <td>1.0</td>\n",
       "      <td>1+ WLE-contributions</td>\n",
       "      <td>0</td>\n",
       "    </tr>\n",
       "    <tr>\n",
       "      <td>4</td>\n",
       "      <td>2018-03-01</td>\n",
       "      <td>0.0</td>\n",
       "      <td>1+ WLE-contributions</td>\n",
       "      <td>0</td>\n",
       "    </tr>\n",
       "  </tbody>\n",
       "</table>\n",
       "</div>"
      ],
      "text/plain": [
       "   log_month  is_new_active              variable  value\n",
       "0 2018-01-01            0.0  1+ WLE-contributions      0\n",
       "1 2018-01-01            1.0  1+ WLE-contributions      0\n",
       "2 2018-02-01            0.0  1+ WLE-contributions      0\n",
       "3 2018-02-01            1.0  1+ WLE-contributions      0\n",
       "4 2018-03-01            0.0  1+ WLE-contributions      0"
      ]
     },
     "execution_count": 159,
     "metadata": {},
     "output_type": "execute_result"
    }
   ],
   "source": [
    "commons_wle_agg_flat.head()"
   ]
  },
  {
   "cell_type": "code",
   "execution_count": 243,
   "metadata": {},
   "outputs": [
    {
     "data": {
      "image/png": "[encoded data removed]"
     },
     "metadata": {},
     "output_type": "display_data"
    }
   ],
   "source": [
    "%%R -i commons_wle_agg_flat\n",
    "\n",
    "commons_wle_agg_flat = data.table(commons_wle_agg_flat)\n",
    "commons_wle_agg_flat[, log_month := as.Date(log_month)]\n",
    "\n",
    "commons_wle_agg_flat[, active_type := factor(is_new_active, levels = c(0, 1), labels = c(\"returning\", \"new\"))]\n",
    "commons_wle_agg_flat[, variable := ordered(variable, c(\"1+ WLE-contributions\", \"0 WLE-contributions\"))]\n",
    "\n",
    "g = ggplot(commons_wle_agg_flat[log_month >= '2018-07-01' & log_month < '2019-07-01',\n",
    "                            list(log_month, active_type, editor_type = variable, n = value)],\n",
    "       aes(x = log_month, y = n, fill = editor_type)) +\n",
    "theme_bw() +\n",
    "scale_y_continuous(\"Number of editors\") +\n",
    "scale_x_date(\"Month\") +\n",
    "scale_fill_brewer(\"Editor type\", palette = 'Set1', breaks = c(\"0 WLE-contributions\", \"1+ WLE-contributions\")) +\n",
    "facet_grid(active_type ~ .) +\n",
    "geom_col()\n",
    "\n",
    "ggsave(plot = g, file = \"graphs/commons_active_editors_WLE_FY1819_split.png\",\n",
    "       width = 8, height = 6, units = \"in\", dpi = \"retina\")\n",
    "g"
   ]
  },
  {
   "cell_type": "markdown",
   "metadata": {},
   "source": [
    "## MC Graph of new and returning active editors on Wikidata for FY 19/20\n",
    "\n",
    "Showing users who made at least 1+ micro-contributions, as stacked bar charts."
   ]
  },
  {
   "cell_type": "code",
   "execution_count": 21,
   "metadata": {},
   "outputs": [],
   "source": [
    "## Some Pandas idioms Neil taught me, thanks Neil!\n",
    "\n",
    "def wd_commons_stats(group):\n",
    "    aggs = {\n",
    "        \"1+ Micro-contributions\": len(group.query(\"num_micros > 0\")),\n",
    "        \"0 Micro-contributions\": len(group.query(\"num_micros == 0\"))\n",
    "    }\n",
    "    return(pd.Series(aggs, index=aggs.keys()))\n",
    "\n",
    "wikidata_overall_agg = wd_actives_full.groupby([\"log_month\", \"is_new_active\"]).apply(wd_commons_stats)\n",
    "\n",
    "wikidata_overall_agg_flat = wikidata_overall_agg.reset_index().melt(id_vars=[\"log_month\", \"is_new_active\"])"
   ]
  },
  {
   "cell_type": "code",
   "execution_count": 22,
   "metadata": {},
   "outputs": [
    {
     "data": {
      "text/html": [
       "<div>\n",
       "<style scoped>\n",
       "    .dataframe tbody tr th:only-of-type {\n",
       "        vertical-align: middle;\n",
       "    }\n",
       "\n",
       "    .dataframe tbody tr th {\n",
       "        vertical-align: top;\n",
       "    }\n",
       "\n",
       "    .dataframe thead th {\n",
       "        text-align: right;\n",
       "    }\n",
       "</style>\n",
       "<table border=\"1\" class=\"dataframe\">\n",
       "  <thead>\n",
       "    <tr style=\"text-align: right;\">\n",
       "      <th></th>\n",
       "      <th>log_month</th>\n",
       "      <th>is_new_active</th>\n",
       "      <th>variable</th>\n",
       "      <th>value</th>\n",
       "    </tr>\n",
       "  </thead>\n",
       "  <tbody>\n",
       "    <tr>\n",
       "      <th>0</th>\n",
       "      <td>2016-01-01</td>\n",
       "      <td>0.0</td>\n",
       "      <td>0 Micro-contributions</td>\n",
       "      <td>6977</td>\n",
       "    </tr>\n",
       "    <tr>\n",
       "      <th>1</th>\n",
       "      <td>2016-01-01</td>\n",
       "      <td>1.0</td>\n",
       "      <td>0 Micro-contributions</td>\n",
       "      <td>395</td>\n",
       "    </tr>\n",
       "    <tr>\n",
       "      <th>2</th>\n",
       "      <td>2016-02-01</td>\n",
       "      <td>0.0</td>\n",
       "      <td>0 Micro-contributions</td>\n",
       "      <td>6659</td>\n",
       "    </tr>\n",
       "    <tr>\n",
       "      <th>3</th>\n",
       "      <td>2016-02-01</td>\n",
       "      <td>1.0</td>\n",
       "      <td>0 Micro-contributions</td>\n",
       "      <td>403</td>\n",
       "    </tr>\n",
       "    <tr>\n",
       "      <th>4</th>\n",
       "      <td>2016-03-01</td>\n",
       "      <td>0.0</td>\n",
       "      <td>0 Micro-contributions</td>\n",
       "      <td>6664</td>\n",
       "    </tr>\n",
       "  </tbody>\n",
       "</table>\n",
       "</div>"
      ],
      "text/plain": [
       "   log_month  is_new_active               variable  value\n",
       "0 2016-01-01            0.0  0 Micro-contributions   6977\n",
       "1 2016-01-01            1.0  0 Micro-contributions    395\n",
       "2 2016-02-01            0.0  0 Micro-contributions   6659\n",
       "3 2016-02-01            1.0  0 Micro-contributions    403\n",
       "4 2016-03-01            0.0  0 Micro-contributions   6664"
      ]
     },
     "execution_count": 22,
     "metadata": {},
     "output_type": "execute_result"
    }
   ],
   "source": [
    "wikidata_overall_agg_flat.head()"
   ]
  },
  {
   "cell_type": "code",
   "execution_count": 23,
   "metadata": {},
   "outputs": [
    {
     "data": {
      "image/png": "[encoded data removed]"
     },
     "metadata": {},
     "output_type": "display_data"
    }
   ],
   "source": [
    "%%R -i wikidata_overall_agg_flat\n",
    "\n",
    "wikidata_overall_agg_flat = data.table(wikidata_overall_agg_flat)\n",
    "wikidata_overall_agg_flat[, log_month := as.Date(log_month)]\n",
    "\n",
    "wikidata_overall_agg_flat[, active_type := factor(is_new_active, levels = c(0, 1), labels = c(\"returning\", \"new\"))]\n",
    "wikidata_overall_agg_flat[, variable := ordered(variable, c(\"1+ Micro-contributions\", \"0 Micro-contributions\"))]\n",
    "\n",
    "g = ggplot(wikidata_overall_agg_flat[log_month >= '2019-01-01' & log_month < '2020-02-01',\n",
    "                               list(log_month, active_type, editor_type = variable, n = value)],\n",
    "       aes(x = log_month, y = n, fill = editor_type)) +\n",
    "theme_bw() +\n",
    "scale_y_continuous(\"Number of editors\") +\n",
    "scale_x_date(\"Month\") +\n",
    "scale_fill_brewer(\"Editor type\", palette = 'Set1', breaks = c(\"0 Micro-contributions\", \"1+ Micro-contributions\")) + \n",
    "facet_grid(active_type ~ .) +\n",
    "geom_col()\n",
    "\n",
    "ggsave(plot = g, file = \"graphs/wikidata_active_editors_micros_1920_split.png\",\n",
    "       width = 8, height = 6, units = \"in\", dpi = \"retina\")\n",
    "g"
   ]
  },
  {
   "cell_type": "markdown",
   "metadata": {},
   "source": [
    "## Categorization of Commons active editors split by new/returning\n",
    "\n",
    "We repeat the four-way split of active editors we had before, but also facet it by new/returning status."
   ]
  },
  {
   "cell_type": "code",
   "execution_count": 214,
   "metadata": {},
   "outputs": [],
   "source": [
    "## Some Pandas idioms Neil taught me, thanks Neil!\n",
    "\n",
    "def micro_wle_stats(group):\n",
    "    aggs = {\n",
    "        \"neither\": len(group.query(\"num_micros == 0 & earth_edits == 0\")),\n",
    "        \"1+ SDC edit\": len(group.query(\"num_micros > 0 & earth_edits == 0\")),\n",
    "        \"1+ WLE edit\": len(group.query(\"num_micros == 0 & earth_edits > 0\")),\n",
    "        \"both\": len(group.query(\"num_micros > 0 & earth_edits > 0\"))\n",
    "    }\n",
    "    return pd.Series(aggs, index=aggs.keys())\n",
    "\n",
    "micro_wle_aggregated_split = commons_actives_wlep.groupby([\"log_month\", \"is_new_active\"]).apply(micro_wle_stats)\n",
    "\n",
    "micro_wle_agg_split_flat = micro_wle_aggregated_split.reset_index().melt(id_vars=[\"log_month\", \"is_new_active\"])"
   ]
  },
  {
   "cell_type": "code",
   "execution_count": 215,
   "metadata": {},
   "outputs": [
    {
     "data": {
      "image/png": "[encoded data removed]"
     },
     "metadata": {},
     "output_type": "display_data"
    }
   ],
   "source": [
    "%%R -i micro_wle_agg_split_flat\n",
    "\n",
    "micro_wle_agg_split_flat = data.table(micro_wle_agg_split_flat)\n",
    "micro_wle_agg_split_flat[, log_month := as.Date(log_month)]\n",
    "micro_wle_agg_split_flat[, log_year := year(log_month)]\n",
    "micro_wle_agg_split_flat[, log_month_name := strftime(log_month, \"%B\")]\n",
    "micro_wle_agg_split_flat[, editor_type := ordered(variable, c(\"neither\", \"1+ SDC edit\", \"1+ WLE edit\", \"both\"))]\n",
    "micro_wle_agg_split_flat[, log_month_name := ordered(\n",
    "    log_month_name,\n",
    "    c(\"January\", \"February\", \"March\", \"April\", \"May\", \"June\",\n",
    "      \"July\", \"August\", \"September\", \"October\", \"November\", \"December\"))]\n",
    "\n",
    "micro_wle_agg_split_flat[, active_type := factor(is_new_active, levels = c(0, 1), labels = c(\"returning\", \"new\"))]\n",
    "\n",
    "g = ggplot(micro_wle_agg_split_flat[log_month >= '2019-01-01' & log_month < '2019-07-01'],\n",
    "       aes(log_month_name, value, fill = editor_type)) +\n",
    "theme_bw() + \n",
    "scale_y_continuous(\"Number of editors\", breaks = c(0:8)*1000) +\n",
    "scale_x_discrete(\"Month\") +\n",
    "scale_fill_brewer(\"Editor type\", palette = 'Set2',\n",
    "                    breaks = c(\"neither\", \"1+ SDC edit\", \"1+ WLE edit\", \"both\"),\n",
    "                    labels = c(\"Neither\", \"1+ Micro-contribution\", \"1+ Wiki Loves Earth edit\", \"Both\")) +\n",
    "geom_col(position = \"dodge2\") +\n",
    "facet_grid(active_type ~ .)\n",
    "\n",
    "ggsave(plot = g, file = \"graphs/commons_active_editors_by_type_Q41819_split.png\",\n",
    "       width = 8, height = 6, units = \"in\", dpi = \"retina\")\n",
    "g"
   ]
  },
  {
   "cell_type": "markdown",
   "metadata": {},
   "source": [
    "## Categorization of Wikidata active editors, split by new/returning\n",
    "\n",
    "We do a similar split as for Commons, but because Wikidata doesn't have WLE, the categorization is \"none\" (no micro-contributions), \"some\" (1+ micro-contributions) and \"only\" (all content edits are micro-contributions)."
   ]
  },
  {
   "cell_type": "code",
   "execution_count": 25,
   "metadata": {},
   "outputs": [],
   "source": [
    "## Some Pandas idioms Neil taught me, thanks Neil!\n",
    "\n",
    "def micro_wd_stats(group):\n",
    "    aggs = {\n",
    "        \"neither\": len(group.query(\"num_micros == 0\")),\n",
    "        \"some\": len(group.query(\"num_micros > 0 & num_micros != content_edits\")),\n",
    "        \"only\": len(group.query(\"num_micros > 0 & num_micros == content_edits\"))\n",
    "    }\n",
    "    return pd.Series(aggs, index=aggs.keys())\n",
    "\n",
    "micro_wd_aggregated_split = wd_actives_full.groupby([\"log_month\", \"is_new_active\"]).apply(micro_wd_stats)\n",
    "\n",
    "micro_wd_aggregated_split_flat = micro_wd_aggregated_split.reset_index().melt(id_vars=[\"log_month\", \"is_new_active\"])"
   ]
  },
  {
   "cell_type": "code",
   "execution_count": 105,
   "metadata": {},
   "outputs": [
    {
     "data": {
      "text/html": [
       "<div>\n",
       "<style scoped>\n",
       "    .dataframe tbody tr th:only-of-type {\n",
       "        vertical-align: middle;\n",
       "    }\n",
       "\n",
       "    .dataframe tbody tr th {\n",
       "        vertical-align: top;\n",
       "    }\n",
       "\n",
       "    .dataframe thead th {\n",
       "        text-align: right;\n",
       "    }\n",
       "</style>\n",
       "<table border=\"1\" class=\"dataframe\">\n",
       "  <thead>\n",
       "    <tr style=\"text-align: right;\">\n",
       "      <th></th>\n",
       "      <th></th>\n",
       "      <th>neither</th>\n",
       "      <th>only</th>\n",
       "      <th>some</th>\n",
       "    </tr>\n",
       "    <tr>\n",
       "      <th>log_month</th>\n",
       "      <th>is_new_active</th>\n",
       "      <th></th>\n",
       "      <th></th>\n",
       "      <th></th>\n",
       "    </tr>\n",
       "  </thead>\n",
       "  <tbody>\n",
       "    <tr>\n",
       "      <th rowspan=\"2\" valign=\"top\">2016-01-01</th>\n",
       "      <th>0.0</th>\n",
       "      <td>6977</td>\n",
       "      <td>0</td>\n",
       "      <td>0</td>\n",
       "    </tr>\n",
       "    <tr>\n",
       "      <th>1.0</th>\n",
       "      <td>395</td>\n",
       "      <td>0</td>\n",
       "      <td>0</td>\n",
       "    </tr>\n",
       "    <tr>\n",
       "      <th rowspan=\"2\" valign=\"top\">2016-02-01</th>\n",
       "      <th>0.0</th>\n",
       "      <td>6659</td>\n",
       "      <td>0</td>\n",
       "      <td>0</td>\n",
       "    </tr>\n",
       "    <tr>\n",
       "      <th>1.0</th>\n",
       "      <td>403</td>\n",
       "      <td>0</td>\n",
       "      <td>0</td>\n",
       "    </tr>\n",
       "    <tr>\n",
       "      <th>2016-03-01</th>\n",
       "      <th>0.0</th>\n",
       "      <td>6664</td>\n",
       "      <td>0</td>\n",
       "      <td>0</td>\n",
       "    </tr>\n",
       "  </tbody>\n",
       "</table>\n",
       "</div>"
      ],
      "text/plain": [
       "                          neither  only  some\n",
       "log_month  is_new_active                     \n",
       "2016-01-01 0.0               6977     0     0\n",
       "           1.0                395     0     0\n",
       "2016-02-01 0.0               6659     0     0\n",
       "           1.0                403     0     0\n",
       "2016-03-01 0.0               6664     0     0"
      ]
     },
     "execution_count": 105,
     "metadata": {},
     "output_type": "execute_result"
    }
   ],
   "source": [
    "micro_wd_aggregated_split.head()"
   ]
  },
  {
   "cell_type": "code",
   "execution_count": 182,
   "metadata": {},
   "outputs": [
    {
     "data": {
      "image/png": "[encoded data removed]"
     },
     "metadata": {},
     "output_type": "display_data"
    }
   ],
   "source": [
    "%%R -i micro_wd_aggregated_split_flat\n",
    "\n",
    "micro_wd_aggregated_split_flat = data.table(micro_wd_aggregated_split_flat)\n",
    "micro_wd_aggregated_split_flat[, log_month := as.Date(log_month)]\n",
    "micro_wd_aggregated_split_flat[, editor_type := ordered(variable, c(\"neither\", \"some\", \"only\"))]\n",
    "\n",
    "micro_wd_aggregated_split_flat[, active_type := factor(is_new_active, levels = c(0, 1), labels = c(\"returning\", \"new\"))]\n",
    "\n",
    "g = ggplot(micro_wd_aggregated_split_flat[log_month >= '2019-07-01' & log_month < '2020-02-01'],\n",
    "       aes(log_month, value, fill = editor_type)) +\n",
    "theme_bw() + \n",
    "scale_y_continuous(\"Number of editors\") +\n",
    "scale_x_discrete(\"Month\") +\n",
    "scale_fill_brewer(\"Amount of micro-contributions\", palette = 'Set2',\n",
    "                    breaks = c(\"neither\", \"some\", \"only\"),\n",
    "                    labels = c(\"None\", \"Some\", \"Only\")) +\n",
    "geom_col(position = \"dodge2\") +\n",
    "facet_grid(active_type ~ ., scales = \"free\")\n",
    "\n",
    "ggsave(plot = g, file = \"graphs/wikidata_active_editors_by_type_FY1819_split.png\",\n",
    "       width = 8, height = 6, units = \"in\", dpi = \"retina\")\n",
    "g"
   ]
  },
  {
   "cell_type": "markdown",
   "metadata": {},
   "source": [
    "This visualization seems to only work when we allow the scales to be free and set by ggplot. Then we can see the scale for new active editors and also notice that the proportion of new active editors making only micro-contributions is higher than the proportion of returning active editors. However, can't that be better visualized by making a time-series plot of that?"
   ]
  },
  {
   "cell_type": "code",
   "execution_count": 26,
   "metadata": {},
   "outputs": [],
   "source": [
    "micro_wd_aggregated_split = (wd_actives_full.groupby([\"log_month\", \"is_new_active\"])\n",
    "                             .apply(micro_wd_stats).reset_index())"
   ]
  },
  {
   "cell_type": "code",
   "execution_count": 276,
   "metadata": {},
   "outputs": [
    {
     "data": {
      "image/png": "[encoded data removed]"
     },
     "metadata": {},
     "output_type": "display_data"
    }
   ],
   "source": [
    "%%R -i micro_wd_aggregated_split\n",
    "\n",
    "micro_wd_aggregated_split = data.table(micro_wd_aggregated_split)\n",
    "micro_wd_aggregated_split[, log_month := as.Date(log_month)]\n",
    "\n",
    "micro_wd_agg = micro_wd_aggregated_split[, list(n_only = only, n_other = some + neither), by = c('log_month', 'is_new_active')]\n",
    "\n",
    "micro_wd_agg[, prop_only := n_only / (n_only + n_other)]\n",
    "micro_wd_agg[, active_type := factor(is_new_active, levels = c(0, 1), labels = c(\"returning\", \"new\"))]\n",
    "\n",
    "g = ggplot(micro_wd_agg[log_month >= '2019-07-01' & log_month < '2020-02-01'],\n",
    "       aes(log_month, 100*prop_only)) +\n",
    "    theme_bw() + \n",
    "    theme(axis.title.x = element_text(size = rel(1.5)),\n",
    "          axis.text.x = element_text(size = rel(1.25)),\n",
    "          axis.title.y = element_text(size = rel(1.5)),\n",
    "          axis.text.y = element_text(size = rel(1.25)),\n",
    "          strip.text = element_text(size = rel(1))) +\n",
    "    scale_y_continuous(\"Proportion (in percent)\", limits = c(0, 25), breaks = c(0:5)*5,\n",
    "                       minor_breaks = c(0:25)) +\n",
    "    scale_x_date(\"Month\", date_breaks = \"1 month\", date_labels = \"%b\") +\n",
    "    facet_grid(active_type ~ .) +\n",
    "    geom_line()\n",
    "\n",
    "ggsave(plot = g, file = \"graphs/wikidata_prop_micro_active_editors_FY1920_split.png\",\n",
    "       width = 8, height = 6, units = \"in\", dpi = \"retina\")\n",
    "g"
   ]
  },
  {
   "cell_type": "code",
   "execution_count": 29,
   "metadata": {},
   "outputs": [
    {
     "name": "stdout",
     "output_type": "stream",
     "text": [
      "     log_month is_new_active n_only n_other  prop_only active_type\n",
      " 1: 2019-07-01             0    346    8561 0.03884585   returning\n",
      " 2: 2019-07-01             1     72     830 0.07982262         new\n",
      " 3: 2019-08-01             0    354    8751 0.03887974   returning\n",
      " 4: 2019-08-01             1     59     742 0.07365793         new\n",
      " 5: 2019-09-01             0    295    8419 0.03385357   returning\n",
      " 6: 2019-09-01             1     43     709 0.05718085         new\n",
      " 7: 2019-10-01             0    301    8659 0.03359375   returning\n",
      " 8: 2019-10-01             1     49     897 0.05179704         new\n",
      " 9: 2019-11-01             0    460    8759 0.04989695   returning\n",
      "10: 2019-11-01             1     69     917 0.06997972         new\n",
      "11: 2019-12-01             0    547    8791 0.05857785   returning\n",
      "12: 2019-12-01             1    161     832 0.16213494         new\n",
      "13: 2020-01-01             0    486    9236 0.04998971   returning\n",
      "14: 2020-01-01             1    300    1006 0.22970904         new\n"
     ]
    }
   ],
   "source": [
    "%%R\n",
    "micro_wd_agg[log_month >= \"2019-07-01\"]"
   ]
  },
  {
   "cell_type": "markdown",
   "metadata": {},
   "source": [
    "## MC Graph of new and returning active editors on Commons for FY 19/20\n",
    "\n",
    "Showing users who made at least 1+ micro-contributions, as stacked bar charts."
   ]
  },
  {
   "cell_type": "code",
   "execution_count": 30,
   "metadata": {},
   "outputs": [],
   "source": [
    "## Some Pandas idioms Neil taught me, thanks Neil!\n",
    "\n",
    "def micro_commons_stats(group):\n",
    "    aggs = {\n",
    "        \"1+ Micro-contributions\": len(group.query(\"num_micros > 0\")),\n",
    "        \"0 Micro-contributions\": len(group.query(\"num_micros == 0\"))\n",
    "    }\n",
    "    return(pd.Series(aggs, index=aggs.keys()))\n",
    "\n",
    "commons_overall_agg = commons_actives_full.groupby([\"log_month\", \"is_new_active\"]).apply(micro_commons_stats)\n",
    "\n",
    "commons_overall_agg_flat = commons_overall_agg.reset_index().melt(id_vars=[\"log_month\", \"is_new_active\"])"
   ]
  },
  {
   "cell_type": "code",
   "execution_count": 31,
   "metadata": {},
   "outputs": [
    {
     "data": {
      "text/html": [
       "<div>\n",
       "<style scoped>\n",
       "    .dataframe tbody tr th:only-of-type {\n",
       "        vertical-align: middle;\n",
       "    }\n",
       "\n",
       "    .dataframe tbody tr th {\n",
       "        vertical-align: top;\n",
       "    }\n",
       "\n",
       "    .dataframe thead th {\n",
       "        text-align: right;\n",
       "    }\n",
       "</style>\n",
       "<table border=\"1\" class=\"dataframe\">\n",
       "  <thead>\n",
       "    <tr style=\"text-align: right;\">\n",
       "      <th></th>\n",
       "      <th>log_month</th>\n",
       "      <th>is_new_active</th>\n",
       "      <th>variable</th>\n",
       "      <th>value</th>\n",
       "    </tr>\n",
       "  </thead>\n",
       "  <tbody>\n",
       "    <tr>\n",
       "      <th>0</th>\n",
       "      <td>2018-01-01</td>\n",
       "      <td>0.0</td>\n",
       "      <td>0 Micro-contributions</td>\n",
       "      <td>7471</td>\n",
       "    </tr>\n",
       "    <tr>\n",
       "      <th>1</th>\n",
       "      <td>2018-01-01</td>\n",
       "      <td>1.0</td>\n",
       "      <td>0 Micro-contributions</td>\n",
       "      <td>1620</td>\n",
       "    </tr>\n",
       "    <tr>\n",
       "      <th>2</th>\n",
       "      <td>2018-02-01</td>\n",
       "      <td>0.0</td>\n",
       "      <td>0 Micro-contributions</td>\n",
       "      <td>7032</td>\n",
       "    </tr>\n",
       "    <tr>\n",
       "      <th>3</th>\n",
       "      <td>2018-02-01</td>\n",
       "      <td>1.0</td>\n",
       "      <td>0 Micro-contributions</td>\n",
       "      <td>1407</td>\n",
       "    </tr>\n",
       "    <tr>\n",
       "      <th>4</th>\n",
       "      <td>2018-03-01</td>\n",
       "      <td>0.0</td>\n",
       "      <td>0 Micro-contributions</td>\n",
       "      <td>7537</td>\n",
       "    </tr>\n",
       "  </tbody>\n",
       "</table>\n",
       "</div>"
      ],
      "text/plain": [
       "   log_month  is_new_active               variable  value\n",
       "0 2018-01-01            0.0  0 Micro-contributions   7471\n",
       "1 2018-01-01            1.0  0 Micro-contributions   1620\n",
       "2 2018-02-01            0.0  0 Micro-contributions   7032\n",
       "3 2018-02-01            1.0  0 Micro-contributions   1407\n",
       "4 2018-03-01            0.0  0 Micro-contributions   7537"
      ]
     },
     "execution_count": 31,
     "metadata": {},
     "output_type": "execute_result"
    }
   ],
   "source": [
    "commons_overall_agg_flat.head()"
   ]
  },
  {
   "cell_type": "code",
   "execution_count": 32,
   "metadata": {},
   "outputs": [
    {
     "data": {
      "image/png": "[encoded data removed]"
     },
     "metadata": {},
     "output_type": "display_data"
    }
   ],
   "source": [
    "%%R -i commons_overall_agg_flat\n",
    "\n",
    "commons_overall_agg_flat = data.table(commons_overall_agg_flat)\n",
    "commons_overall_agg_flat[, log_month := as.Date(log_month)]\n",
    "\n",
    "commons_overall_agg_flat[, active_type := factor(is_new_active, levels = c(0, 1), labels = c(\"returning\", \"new\"))]\n",
    "commons_overall_agg_flat[, variable := ordered(variable, c(\"1+ Micro-contributions\", \"0 Micro-contributions\"))]\n",
    "\n",
    "g = ggplot(commons_overall_agg_flat[log_month >= '2019-07-01' & log_month < '2020-07-01',\n",
    "                               list(log_month, active_type, editor_type = variable, n = value)],\n",
    "       aes(x = log_month, y = n, fill = editor_type)) +\n",
    "theme_bw() +\n",
    "scale_y_continuous(\"Number of editors\") +\n",
    "scale_x_date(\"Month\") +\n",
    "scale_fill_brewer(\"Editor type\", palette = 'Set1', breaks = c(\"0 Micro-contributions\", \"1+ Micro-contributions\")) + \n",
    "facet_grid(active_type ~ .) +\n",
    "geom_col()\n",
    "\n",
    "ggsave(plot = g, file = \"graphs/commons_active_editors_micros_FY1920_split.png\",\n",
    "       width = 8, height = 6, units = \"in\", dpi = \"retina\")\n",
    "g"
   ]
  },
  {
   "cell_type": "markdown",
   "metadata": {},
   "source": [
    "## Commons active editors with WLM contributions\n",
    "\n",
    "We repeat the four-way split of active editors we had before, but also facet it by new/returning status."
   ]
  },
  {
   "cell_type": "code",
   "execution_count": 47,
   "metadata": {},
   "outputs": [],
   "source": [
    "## Some Pandas idioms Neil taught me, thanks Neil!\n",
    "\n",
    "def micro_wlm_stats(group):\n",
    "    aggs = {\n",
    "        \"neither\": len(group.query(\"num_micros == 0 & wlm_edits == 0\")),\n",
    "        \"1+ SDC edit\": len(group.query(\"num_micros > 0 & wlm_edits == 0\")),\n",
    "        \"1+ WLM edit\": len(group.query(\"num_micros == 0 & wlm_edits > 0\")),\n",
    "        \"both\": len(group.query(\"num_micros > 0 & wlm_edits > 0\"))\n",
    "    }\n",
    "    return pd.Series(aggs, index=aggs.keys())\n",
    "\n",
    "micro_wlm_aggregated_split = commons_actives_wlm.groupby([\"log_month\", \"is_new_active\"]).apply(micro_wlm_stats)\n",
    "\n",
    "micro_wlm_agg_split_flat = micro_wlm_aggregated_split.reset_index().melt(id_vars=[\"log_month\", \"is_new_active\"])"
   ]
  },
  {
   "cell_type": "code",
   "execution_count": 48,
   "metadata": {},
   "outputs": [
    {
     "data": {
      "image/png": "[encoded data removed]"
     },
     "metadata": {},
     "output_type": "display_data"
    }
   ],
   "source": [
    "%%R -i micro_wlm_agg_split_flat\n",
    "\n",
    "micro_wlm_agg_split_flat = data.table(micro_wlm_agg_split_flat)\n",
    "micro_wlm_agg_split_flat[, log_month := as.Date(log_month)]\n",
    "micro_wlm_agg_split_flat[, log_year := year(log_month)]\n",
    "micro_wlm_agg_split_flat[, log_month_name := strftime(log_month, \"%B\")]\n",
    "micro_wlm_agg_split_flat[, editor_type := ordered(variable, c(\"neither\", \"1+ SDC edit\", \"1+ WLM edit\", \"both\"))]\n",
    "micro_wlm_agg_split_flat[, log_month_name := ordered(\n",
    "    log_month_name,\n",
    "    c(\"July\", \"August\", \"September\", \"October\", \"November\", \"December\",\n",
    "      \"January\", \"February\", \"March\", \"April\", \"May\", \"June\"))]\n",
    "\n",
    "micro_wlm_agg_split_flat[, active_type := factor(is_new_active, levels = c(0, 1), labels = c(\"returning\", \"new\"))]\n",
    "\n",
    "g = ggplot(micro_wlm_agg_split_flat[log_month >= '2019-07-01' & log_month < '2020-07-01'],\n",
    "       aes(log_month_name, value, fill = editor_type)) +\n",
    "theme_bw() + \n",
    "scale_y_continuous(\"Number of editors\", breaks = c(0:8)*1000) +\n",
    "scale_x_discrete(\"Month\") +\n",
    "scale_fill_brewer(\"Editor type\", palette = 'Set2',\n",
    "                    breaks = c(\"neither\", \"1+ SDC edit\", \"1+ WLM edit\", \"both\"),\n",
    "                    labels = c(\"Neither\", \"1+ Micro-contribution\", \"1+ Wiki Loves Monuments edit\", \"Both\")) +\n",
    "geom_col(position = \"dodge2\") +\n",
    "facet_grid(active_type ~ .)\n",
    "\n",
    "ggsave(plot = g, file = \"graphs/commons_active_editors_by_type_FY1920_split.png\",\n",
    "       width = 8, height = 6, units = \"in\", dpi = \"retina\")\n",
    "g"
   ]
  },
  {
   "cell_type": "markdown",
   "metadata": {},
   "source": [
    "Let's do one better and combine the WLE and WLM data frames, and compare May, June, and September with this split into categories."
   ]
  },
  {
   "cell_type": "code",
   "execution_count": 220,
   "metadata": {},
   "outputs": [
    {
     "data": {
      "text/html": [
       "<div>\n",
       "<style scoped>\n",
       "    .dataframe tbody tr th:only-of-type {\n",
       "        vertical-align: middle;\n",
       "    }\n",
       "\n",
       "    .dataframe tbody tr th {\n",
       "        vertical-align: top;\n",
       "    }\n",
       "\n",
       "    .dataframe thead th {\n",
       "        text-align: right;\n",
       "    }\n",
       "</style>\n",
       "<table border=\"1\" class=\"dataframe\">\n",
       "  <thead>\n",
       "    <tr style=\"text-align: right;\">\n",
       "      <th></th>\n",
       "      <th>log_month</th>\n",
       "      <th>is_new_active</th>\n",
       "      <th>variable</th>\n",
       "      <th>value</th>\n",
       "    </tr>\n",
       "  </thead>\n",
       "  <tbody>\n",
       "    <tr>\n",
       "      <th>40</th>\n",
       "      <td>2019-09-01</td>\n",
       "      <td>0.0</td>\n",
       "      <td>1+ SDC edit</td>\n",
       "      <td>4652</td>\n",
       "    </tr>\n",
       "    <tr>\n",
       "      <th>41</th>\n",
       "      <td>2019-09-01</td>\n",
       "      <td>1.0</td>\n",
       "      <td>1+ SDC edit</td>\n",
       "      <td>1584</td>\n",
       "    </tr>\n",
       "    <tr>\n",
       "      <th>90</th>\n",
       "      <td>2019-09-01</td>\n",
       "      <td>0.0</td>\n",
       "      <td>neither</td>\n",
       "      <td>3507</td>\n",
       "    </tr>\n",
       "    <tr>\n",
       "      <th>91</th>\n",
       "      <td>2019-09-01</td>\n",
       "      <td>1.0</td>\n",
       "      <td>neither</td>\n",
       "      <td>1257</td>\n",
       "    </tr>\n",
       "    <tr>\n",
       "      <th>140</th>\n",
       "      <td>2019-09-01</td>\n",
       "      <td>0.0</td>\n",
       "      <td>both</td>\n",
       "      <td>727</td>\n",
       "    </tr>\n",
       "    <tr>\n",
       "      <th>141</th>\n",
       "      <td>2019-09-01</td>\n",
       "      <td>1.0</td>\n",
       "      <td>both</td>\n",
       "      <td>302</td>\n",
       "    </tr>\n",
       "    <tr>\n",
       "      <th>190</th>\n",
       "      <td>2019-09-01</td>\n",
       "      <td>0.0</td>\n",
       "      <td>1+ WLM edit</td>\n",
       "      <td>1273</td>\n",
       "    </tr>\n",
       "    <tr>\n",
       "      <th>191</th>\n",
       "      <td>2019-09-01</td>\n",
       "      <td>1.0</td>\n",
       "      <td>1+ WLM edit</td>\n",
       "      <td>1634</td>\n",
       "    </tr>\n",
       "  </tbody>\n",
       "</table>\n",
       "</div>"
      ],
      "text/plain": [
       "     log_month  is_new_active     variable  value\n",
       "40  2019-09-01            0.0  1+ SDC edit   4652\n",
       "41  2019-09-01            1.0  1+ SDC edit   1584\n",
       "90  2019-09-01            0.0      neither   3507\n",
       "91  2019-09-01            1.0      neither   1257\n",
       "140 2019-09-01            0.0         both    727\n",
       "141 2019-09-01            1.0         both    302\n",
       "190 2019-09-01            0.0  1+ WLM edit   1273\n",
       "191 2019-09-01            1.0  1+ WLM edit   1634"
      ]
     },
     "execution_count": 220,
     "metadata": {},
     "output_type": "execute_result"
    }
   ],
   "source": [
    "micro_wlm_agg_split_flat.loc[micro_wlm_agg_split_flat['log_month'] == '2019-09-01']"
   ]
  },
  {
   "cell_type": "code",
   "execution_count": 279,
   "metadata": {},
   "outputs": [
    {
     "data": {
      "image/png": "[encoded data removed]"
     },
     "metadata": {},
     "output_type": "display_data"
    }
   ],
   "source": [
    "%%R -i micro_wle_agg_split_flat,micro_wlm_agg_split_flat\n",
    "\n",
    "micro_wlm_agg_split_flat = data.table(micro_wlm_agg_split_flat)\n",
    "micro_wlm_agg_split_flat[, log_month := as.Date(log_month)]\n",
    "micro_wlm_agg_split_flat[variable == \"both\", variable := \"WLM and SDC\"]\n",
    "\n",
    "micro_wle_agg_split_flat = data.table(micro_wle_agg_split_flat)\n",
    "micro_wle_agg_split_flat[, log_month := as.Date(log_month)]\n",
    "micro_wle_agg_split_flat[variable == \"both\", variable := \"WLE and SDC\"]\n",
    "\n",
    "micro_wlem = rbind(\n",
    "    micro_wle_agg_split_flat[log_month >= '2019-05-01' & log_month <= '2019-06-01'],\n",
    "    micro_wlm_agg_split_flat[log_month == '2019-09-01']    \n",
    ")\n",
    "\n",
    "## We've taken the \"both\" category out\n",
    "micro_wlem[, editor_type := ordered(variable, c(\"neither\", \"1+ SDC edit\",\n",
    "                                                \"1+ WLE edit\", \"WLE and SDC\",\n",
    "                                                \"1+ WLM edit\", \"WLM and SDC\"\n",
    "                                               ))]\n",
    "micro_wlem[, active_type := factor(is_new_active, levels = c(0, 1), labels = c(\"returning\", \"new\"))]\n",
    "micro_wlem[, log_year := year(log_month)]\n",
    "micro_wlem[, log_month_name := strftime(log_month, \"%b\")]\n",
    "micro_wlem[, log_month_name := ordered(\n",
    "    log_month_name,\n",
    "    c(\"Jan\", \"Feb\", \"Mar\", \"Apr\", \"May\", \"Jun\",\n",
    "      \"Jul\", \"Aug\", \"Sep\", \"Oct\", \"Nov\", \"Dec\"))]\n",
    "\n",
    "## Might as well take the \"neither\" and \"1+ SDC edit\" categories out, because for this\n",
    "## presentation the focus is on WLE/WLM and SDC specifically.\n",
    "\n",
    "g = ggplot(micro_wlem[!(editor_type %in% c(\"neither\", \"1+ SDC edit\"))],\n",
    "           aes(log_month_name, value, fill = editor_type)) +\n",
    "    theme_bw() +\n",
    "    theme(axis.title.x = element_text(size = rel(1.5)),\n",
    "          axis.text.x = element_text(size = rel(1.25)),\n",
    "          axis.title.y = element_text(size = rel(1.5)),\n",
    "          axis.text.y = element_text(size = rel(1.25)),\n",
    "          strip.text = element_text(size = rel(1)),\n",
    "          legend.text = element_text(size = rel(1))) +\n",
    "    scale_x_discrete(\"Month\") +\n",
    "    scale_y_continuous(\"Number of editors\", limits = c(0, 2500), breaks = c(0:8)*1000) +\n",
    "    scale_fill_brewer(\"Editor type\", palette = 'Set2',\n",
    "                        breaks = c(\"1+ WLE edit\", \"WLE and SDC\", \"1+ WLM edit\", \"WLM and SDC\"),\n",
    "                        labels = c(\"Wiki Loves Earth\",\n",
    "                                   \"WLE and Structured tasks\",\n",
    "                                   \"Wiki Loves Monuments\",\n",
    "                                   \"WLM and Structured tasks\")) +\n",
    "    geom_col(position = \"dodge2\") +\n",
    "    facet_grid(active_type ~ .)\n",
    "\n",
    "ggsave(plot = g, file = \"graphs/commons_WLE_and_WLM_active_editors.png\",\n",
    "       width = 8, height = 6, units = \"in\", dpi = \"retina\")\n",
    "g"
   ]
  },
  {
   "cell_type": "markdown",
   "metadata": {},
   "source": [
    "## Investigating WLM edit frequency\n",
    "\n",
    "WLM resulted in a lot of active editors who *didn't* also make SDC-related contributions. What's up with that?\n",
    "\n",
    "Let's first look at number of SDC and non-SDC edits for users who made at least 1 WLM edit."
   ]
  },
  {
   "cell_type": "code",
   "execution_count": 62,
   "metadata": {},
   "outputs": [
    {
     "data": {
      "text/html": [
       "<div>\n",
       "<style scoped>\n",
       "    .dataframe tbody tr th:only-of-type {\n",
       "        vertical-align: middle;\n",
       "    }\n",
       "\n",
       "    .dataframe tbody tr th {\n",
       "        vertical-align: top;\n",
       "    }\n",
       "\n",
       "    .dataframe thead tr th {\n",
       "        text-align: left;\n",
       "    }\n",
       "\n",
       "    .dataframe thead tr:last-of-type th {\n",
       "        text-align: right;\n",
       "    }\n",
       "</style>\n",
       "<table border=\"1\" class=\"dataframe\">\n",
       "  <thead>\n",
       "    <tr>\n",
       "      <th></th>\n",
       "      <th colspan=\"2\" halign=\"left\">non_micro_edits</th>\n",
       "      <th colspan=\"2\" halign=\"left\">num_micros</th>\n",
       "    </tr>\n",
       "    <tr>\n",
       "      <th></th>\n",
       "      <th>mean</th>\n",
       "      <th>median</th>\n",
       "      <th>mean</th>\n",
       "      <th>median</th>\n",
       "    </tr>\n",
       "    <tr>\n",
       "      <th>is_new_active</th>\n",
       "      <th></th>\n",
       "      <th></th>\n",
       "      <th></th>\n",
       "      <th></th>\n",
       "    </tr>\n",
       "  </thead>\n",
       "  <tbody>\n",
       "    <tr>\n",
       "      <th>0.0</th>\n",
       "      <td>943.004836</td>\n",
       "      <td>90.0</td>\n",
       "      <td>92.011928</td>\n",
       "      <td>0.0</td>\n",
       "    </tr>\n",
       "    <tr>\n",
       "      <th>1.0</th>\n",
       "      <td>28.287513</td>\n",
       "      <td>11.0</td>\n",
       "      <td>0.868077</td>\n",
       "      <td>0.0</td>\n",
       "    </tr>\n",
       "  </tbody>\n",
       "</table>\n",
       "</div>"
      ],
      "text/plain": [
       "              non_micro_edits        num_micros       \n",
       "                         mean median       mean median\n",
       "is_new_active                                         \n",
       "0.0                943.004836   90.0  92.011928    0.0\n",
       "1.0                 28.287513   11.0   0.868077    0.0"
      ]
     },
     "execution_count": 62,
     "metadata": {},
     "output_type": "execute_result"
    }
   ],
   "source": [
    "(commons_actives_wlm.loc[commons_actives_wlm['wlm_edits'] > 0]\n",
    " .groupby('is_new_active')\n",
    " .agg({\n",
    "     'num_micros' : ['mean', 'median'],\n",
    "     'non_micro_edits' : ['mean', 'median']}\n",
    " ))"
   ]
  },
  {
   "cell_type": "markdown",
   "metadata": {},
   "source": [
    "This is interesting. New active editors with WLM edits made a median of 11 non-SDC edits. That's not a lot, but substantial. But, in both cases the median is 0 SDC edits. I should go investigate that."
   ]
  },
  {
   "cell_type": "code",
   "execution_count": null,
   "metadata": {},
   "outputs": [],
   "source": [
    "## Grab a random dozen user IDs from users who made WLM edits in Sept 2019, but not any SDC edits\n",
    "','.join([str(u) for u in\n",
    "    commons_actives_wlm.loc[\n",
    "    (commons_actives_wlm['log_month'] == '2019-09-01') &\n",
    "    (commons_actives_wlm['wlm_edits'] > 0) &\n",
    "    (commons_actives_wlm['num_micros'] == 0)].sample(12)['user_id']])"
   ]
  },
  {
   "cell_type": "code",
   "execution_count": null,
   "metadata": {},
   "outputs": [],
   "source": [
    "## Grab a random dozen user IDs from users who made WLM edits in Sept 2019, but not any SDC edits\n",
    "','.join([str(u) for u in\n",
    "    commons_actives_wlm.loc[\n",
    "    (commons_actives_wlm['log_month'] == '2019-09-01') &\n",
    "    (commons_actives_wlm['wlm_edits'] > 0) &\n",
    "    (commons_actives_wlm['num_micros'] > 0)].sample(12)['user_id']])"
   ]
  }
 ],
 "metadata": {
  "kernelspec": {
   "display_name": "Python 3",
   "language": "python",
   "name": "python3"
  },
  "language_info": {
   "codemirror_mode": {
    "name": "ipython",
    "version": 3
   },
   "file_extension": ".py",
   "mimetype": "text/x-python",
   "name": "python",
   "nbconvert_exporter": "python",
   "pygments_lexer": "ipython3",
   "version": "3.5.3"
  }
 },
 "nbformat": 4,
 "nbformat_minor": 4
}
